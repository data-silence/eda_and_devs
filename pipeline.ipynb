{
 "cells": [
  {
   "cell_type": "code",
   "execution_count": 4,
   "id": "initial_id",
   "metadata": {
    "collapsed": true,
    "ExecuteTime": {
     "end_time": "2023-12-11T10:20:45.219099900Z",
     "start_time": "2023-12-11T10:20:44.070984300Z"
    }
   },
   "outputs": [],
   "source": [
    "import numpy as np\n",
    "import pandas as pd\n",
    "# import matplotlib.pyplot as plt\n",
    "# import seaborn as sns\n",
    "\n",
    "from sklearn.naive_bayes import GaussianNB\n",
    "from sklearn.neighbors import KNeighborsClassifier\n",
    "from sklearn.ensemble import RandomForestClassifier, GradientBoostingClassifier\n",
    "from sklearn.tree import DecisionTreeClassifier\n",
    "from catboost import CatBoostClassifier\n",
    "\n",
    "from sklearn.metrics import accuracy_score, recall_score\n",
    "from sklearn.metrics import confusion_matrix\n",
    "from sklearn.model_selection import GridSearchCV\n",
    "\n",
    "\n",
    "from sklearn.model_selection import train_test_split\n",
    "from sklearn.model_selection import cross_val_score\n",
    "from sklearn.model_selection import cross_validate"
   ]
  },
  {
   "cell_type": "markdown",
   "source": [
    "## 1. Выводы и наблюдения по результатам проведенной работы"
   ],
   "metadata": {
    "collapsed": false
   },
   "id": "ccab58e497acbe03"
  },
  {
   "cell_type": "markdown",
   "source": [
    "Традиционно для удобства проверяющих общие соображения и выводы будут размещены здесь, в самом начале ноутбука. Код же в полном объеме можно найти во втором разделе данной работы, он последовательно разделён на логические этапы, но содержит минимум комментариев."
   ],
   "metadata": {
    "collapsed": false
   },
   "id": "97e3a62d8e5a9af2"
  },
  {
   "cell_type": "markdown",
   "source": [
    "### 1.1. Понимание задачи и определение подходов к её решению"
   ],
   "metadata": {
    "collapsed": false
   },
   "id": "743ac7eab1b28111"
  },
  {
   "cell_type": "markdown",
   "source": [
    "1. На предыдущем этапе в ходе работы в ходе EDA мы поняли, что решаем задачу бинарной классификации: совершит ли посетитель сайта покупку или нет.\n",
    "2. На основе анализа распределения целевой переменной мы понимаем, что данные несбалансированные: только 16% посетителей сайта совершают покупку (что естественно).\n",
    "3. На основании этих вводных я считаю правильным при любом разбиении данных для построения моделей задавать параметр stratify, чтобы распределение категорий при сплите было пропорциональным распределению категорий в общем датасете.\n",
    "4. В качестве основной метрики качества я буду использовать recall. Я считаю, что при таком типе задач (совершит ли посетитель покупку в интернете или нет), основной бизнес-целью является увеличение числа покупающих пользователей. Бизнес заинтересован выявлять всех потенциальных покупателей и стимулировать их к покупке рекламой или иными методами. Таким образом его в первую очередь будет интересовать в большей степени охват моделью потенциальных покупателей (recall), а не точность  детектирования (precision). Я не использовал f1-меру по этой же причине. И понятно почему при такой трактовке задачи и несбалансированности классов совершенно бессмысленно метрикой качества модели определять accuracy."
   ],
   "metadata": {
    "collapsed": false
   },
   "id": "ca6443b4f146f3d8"
  },
  {
   "cell_type": "markdown",
   "source": [
    "### 1.2. Построение моделей на числовых признаках"
   ],
   "metadata": {
    "collapsed": false
   },
   "id": "de62e55224f06f28"
  },
  {
   "cell_type": "markdown",
   "source": [
    "В данном разделе я ставил целью выбор лучших моделей для решения задачи. Мне не требовалось строить окончательную точную модель, поэтому для ускорения не использовалась валидация.\n",
    "В качестве набора экспериментальных моделей помимо Наивного Байеса (NB) и KNN я использовал CatBoostClassifier (CB), DecisionTreeClassifier (DT), RandomForestClassifier (RF) и GradientBoostingClassifier (GB). Каждая из моделей была применена для решения задачи с параметрами по умолчанию (Default), к большишнству из моделей была предпринята попытка подбора параметров c помощью GreedSearch (Grid). Итоговые результаты метрики recall моих экспериментов приведены в таблице ниже: "
   ],
   "metadata": {
    "collapsed": false
   },
   "id": "b0c693f8b91fc89f"
  },
  {
   "cell_type": "markdown",
   "source": [
    "Mod Default Grid\n",
    "KNN 0.287   0.353\n",
    "CB  0.525   0.525\n",
    "RF  0.509   0.518\n",
    "GB  0.538   0.529\n",
    "DT  0.486   0.559\n",
    "NB  0.410   0.410"
   ],
   "metadata": {
    "collapsed": false
   },
   "id": "627120176310a18a"
  },
  {
   "cell_type": "markdown",
   "source": [
    "Лучше всего себя показали бустинги (CatBoost и GradientBoosting), а также RandomForest, было принято решение попробовать их и при полном обучении с добавлением категориальных признаков. Очень сильно удалось поднять подбором гиперпараметров качество решающего дерева, но она не догнала модели-лидеры. Стоит так же отметить, что модель Градиентного Бустинга по умолчанию дала лучший результат, чем при подборе параметров по сетке. CatBoosting я не настраивал по сетке, так как ещё до этого убедился, что параметры по умолчанию для данной модели работают очень хорошо. "
   ],
   "metadata": {
    "collapsed": false
   },
   "id": "a7e7eca858e16112"
  },
  {
   "cell_type": "markdown",
   "source": [
    "### 1.3. Модели-лидеры на полных данных (добавление категориальных признаков)"
   ],
   "metadata": {
    "collapsed": false
   },
   "id": "f1cd335e301a8c21"
  },
  {
   "cell_type": "markdown",
   "source": [
    "Итак, были проведены эксперименты с бустингами и случайным лесом. При обучении моделей Случайного Леса и Градиентного бустинга и подборе гиперпараметров для них, был использован pipeline с OneHotEncoding для кодирования категориальных признаков. При обучении Catboost только передавались номера категориальных столбцов, так как данная модель умеет довольно хорошо кодировать категории автоматически под капотом. Можно было подобрать гиперпараметры CatBoost с помощью Optuna, но мне показалось это избыточным в рамках задач данного буткемпа. Результаты работы моделей на валидации, тесте и тесте после подбора гиперпараметров представлены в таблице:  "
   ],
   "metadata": {
    "collapsed": false
   },
   "id": "49a328e71c47fede"
  },
  {
   "cell_type": "markdown",
   "source": [
    "Mod Valid    Test Grid\n",
    "CB  0.616   0.595   -\n",
    "DT  0.625   0.588   0.565\n",
    "GB  0.628   0.588   -"
   ],
   "metadata": {
    "collapsed": false
   },
   "id": "cd61e3db83e9dba1"
  },
  {
   "cell_type": "markdown",
   "source": [
    "По сути модели показывают похожее качество, немного лучше на тестовых данных работает CatBoost с параметрами по умолчанию. При деплое будем использовать данную модель. Я хотел понять, как будет показывать себя обученная на recall модель с точки зрения accuracy. Оказалось, что наш лидер CatBoost показывает значение этой метрики в 0.893, что весьма неплохо.  "
   ],
   "metadata": {
    "collapsed": false
   },
   "id": "c8c10daec8f19b0e"
  },
  {
   "cell_type": "markdown",
   "source": [
    "### 1.4. Explainer Dashboard"
   ],
   "metadata": {
    "collapsed": false
   },
   "id": "80bfa8097841da77"
  },
  {
   "cell_type": "markdown",
   "source": [
    "* С учетом того, что в качестве главной модели был выбран CatBoost с гиперпараметрами по умолчанию, строил ExplainerDashboard с помощью ClassifierExplainer с параметром model_output='logodds', как того требует документация.\n",
    "* Готовый Explainer Dashboard был сохранён в файл dashboard.html в корневой директории текущего репозитория\n",
    "* Самыми важными признаками с точки зрения Permutation Importances с большим опережением являются присвоенная ценность страницы (PageValues) и месяц, в который пользователь посещал сайт. Между этими признаками и целевой переменной наблюдается прямая корреляции. Менее всего влияют на целевую переменную признаки WeekDay и SpecialDay, хотя мне казалось, что даннные признаки должны быть очень важны. Признаки с обратной корреляцией являются тип браузера и операционной системы пользователя, их влияние на целевую переменную крайне незначительно.\n",
    "* Важность признаков с точки зрения SHAP values по сравнению с Permutation Importances примерно такая же, но разрыв между PageValues и Month и иными признаками не такая огромная.\n",
    "* Результаты метрик качества выводятся следующие: \n",
    "    metric\t    Score\n",
    "    accuracy\t0.893\n",
    "    precision\t0.703\n",
    "    recall\t    0.595\n",
    "    f1\t        0.645\n",
    "Мне кажется я уже описал своё понимание полученных метрик выше, и здесь дублировать эти мысли не буду\n",
    "* Попробуем проинтерпретировать результаты в отношении пары случайных наблюдений:\n",
    "Наблюдение 11344:\n",
    "* С вероятностью в 69% пользователь с такими характеристиками не сделает покупку на сайте. Основной вес в этом решении модели оказывает фактор ценности страницы = 26.41113767 и месяца совершения покупки (ноябрь). То, что этот пользователь является \"возвратившимся\" и продолжительность его пребывания на страницах сайта с категорией \"административной\" увеличивает шанс на покупку таким пользователем.\n",
    "Наблюдение 1721:\n",
    "* С вероятностью в 99,5% пользователь с такими характеристиками сделает покупку на сайте. Основной вес в этом решении модели оказывает фактор ценности страницы и месяца совершения покупки (март). Только значения категорий ExitRates, TrafficTypes, SpecialDay и BounceRates сыграло против сделанного моделью прогноза, все остальные параметры только довносят свой вклад в уверенность модели и итоговый прогноз.\n",
    "\n",
    "P.S. Оценивая отдельные результаты мне стало казаться, что я неправильно передал в Explainer названия лейблов (нарушил последовательность), и прогноз покупать/не покупать стоит интерпретировать строго наборот. Но я это делал согласно порядку, указанному в документации, как я его понял, поэтому уверенности в правильной итоговой интерпретации у меня нет.    \n",
    "    "
   ],
   "metadata": {
    "collapsed": false
   },
   "id": "9d164cf2f810ee63"
  },
  {
   "cell_type": "markdown",
   "source": [
    "# 2. Решение задаче в коде"
   ],
   "metadata": {
    "collapsed": false
   },
   "id": "fe6c0129d6c346e1"
  },
  {
   "cell_type": "markdown",
   "source": [
    "## 2.1. Чтение полученного по результатам EDA датасета, вспоминаем характеристики "
   ],
   "metadata": {
    "collapsed": false
   },
   "id": "cea596ee0189afe8"
  },
  {
   "cell_type": "code",
   "execution_count": 5,
   "outputs": [],
   "source": [
    "df = pd.read_pickle(\"df_eda.pickle\")"
   ],
   "metadata": {
    "collapsed": false,
    "ExecuteTime": {
     "end_time": "2023-12-11T10:20:49.253256900Z",
     "start_time": "2023-12-11T10:20:49.069253100Z"
    }
   },
   "id": "84b3b1cb4ad5e6d"
  },
  {
   "cell_type": "code",
   "execution_count": 7,
   "outputs": [
    {
     "data": {
      "text/plain": "       Administrative  Administrative_Duration  Informational  \\\n10124               0                    0.000              0   \n4452                0                    0.000              0   \n3778                0                    0.000              0   \n11601              18                  514.075              4   \n5888                1                   49.400              0   \n\n       Informational_Duration  ProductRelated  ProductRelated_Duration  \\\n10124                     0.0               2                87.000000   \n4452                      0.0              19               160.500000   \n3778                      0.0               8               123.000000   \n11601                    67.5             178              6630.479365   \n5888                      0.0              18               213.171429   \n\n       BounceRates  ExitRates  PageValues  SpecialDay Month  OperatingSystems  \\\n10124     0.000000   0.033333       0.000         0.0   Nov                 3   \n4452      0.000000   0.042105       0.000         0.8   May                 2   \n3778      0.000000   0.014286      59.988         0.0   May                 2   \n11601     0.003646   0.010805       0.000         0.0   Nov                 3   \n5888      0.000000   0.003922       0.000         0.0   Oct                 2   \n\n       Browser  Region  TrafficType        VisitorType  Weekend  y  \n10124        2       4           11  Returning_Visitor        0  0  \n4452         2       4            6  Returning_Visitor        0  0  \n3778         2       1            2        New_Visitor        0  1  \n11601        2       1            8  Returning_Visitor        0  1  \n5888         2       1            2        New_Visitor        0  0  ",
      "text/html": "<div>\n<style scoped>\n    .dataframe tbody tr th:only-of-type {\n        vertical-align: middle;\n    }\n\n    .dataframe tbody tr th {\n        vertical-align: top;\n    }\n\n    .dataframe thead th {\n        text-align: right;\n    }\n</style>\n<table border=\"1\" class=\"dataframe\">\n  <thead>\n    <tr style=\"text-align: right;\">\n      <th></th>\n      <th>Administrative</th>\n      <th>Administrative_Duration</th>\n      <th>Informational</th>\n      <th>Informational_Duration</th>\n      <th>ProductRelated</th>\n      <th>ProductRelated_Duration</th>\n      <th>BounceRates</th>\n      <th>ExitRates</th>\n      <th>PageValues</th>\n      <th>SpecialDay</th>\n      <th>Month</th>\n      <th>OperatingSystems</th>\n      <th>Browser</th>\n      <th>Region</th>\n      <th>TrafficType</th>\n      <th>VisitorType</th>\n      <th>Weekend</th>\n      <th>y</th>\n    </tr>\n  </thead>\n  <tbody>\n    <tr>\n      <th>10124</th>\n      <td>0</td>\n      <td>0.000</td>\n      <td>0</td>\n      <td>0.0</td>\n      <td>2</td>\n      <td>87.000000</td>\n      <td>0.000000</td>\n      <td>0.033333</td>\n      <td>0.000</td>\n      <td>0.0</td>\n      <td>Nov</td>\n      <td>3</td>\n      <td>2</td>\n      <td>4</td>\n      <td>11</td>\n      <td>Returning_Visitor</td>\n      <td>0</td>\n      <td>0</td>\n    </tr>\n    <tr>\n      <th>4452</th>\n      <td>0</td>\n      <td>0.000</td>\n      <td>0</td>\n      <td>0.0</td>\n      <td>19</td>\n      <td>160.500000</td>\n      <td>0.000000</td>\n      <td>0.042105</td>\n      <td>0.000</td>\n      <td>0.8</td>\n      <td>May</td>\n      <td>2</td>\n      <td>2</td>\n      <td>4</td>\n      <td>6</td>\n      <td>Returning_Visitor</td>\n      <td>0</td>\n      <td>0</td>\n    </tr>\n    <tr>\n      <th>3778</th>\n      <td>0</td>\n      <td>0.000</td>\n      <td>0</td>\n      <td>0.0</td>\n      <td>8</td>\n      <td>123.000000</td>\n      <td>0.000000</td>\n      <td>0.014286</td>\n      <td>59.988</td>\n      <td>0.0</td>\n      <td>May</td>\n      <td>2</td>\n      <td>2</td>\n      <td>1</td>\n      <td>2</td>\n      <td>New_Visitor</td>\n      <td>0</td>\n      <td>1</td>\n    </tr>\n    <tr>\n      <th>11601</th>\n      <td>18</td>\n      <td>514.075</td>\n      <td>4</td>\n      <td>67.5</td>\n      <td>178</td>\n      <td>6630.479365</td>\n      <td>0.003646</td>\n      <td>0.010805</td>\n      <td>0.000</td>\n      <td>0.0</td>\n      <td>Nov</td>\n      <td>3</td>\n      <td>2</td>\n      <td>1</td>\n      <td>8</td>\n      <td>Returning_Visitor</td>\n      <td>0</td>\n      <td>1</td>\n    </tr>\n    <tr>\n      <th>5888</th>\n      <td>1</td>\n      <td>49.400</td>\n      <td>0</td>\n      <td>0.0</td>\n      <td>18</td>\n      <td>213.171429</td>\n      <td>0.000000</td>\n      <td>0.003922</td>\n      <td>0.000</td>\n      <td>0.0</td>\n      <td>Oct</td>\n      <td>2</td>\n      <td>2</td>\n      <td>1</td>\n      <td>2</td>\n      <td>New_Visitor</td>\n      <td>0</td>\n      <td>0</td>\n    </tr>\n  </tbody>\n</table>\n</div>"
     },
     "execution_count": 7,
     "metadata": {},
     "output_type": "execute_result"
    }
   ],
   "source": [
    "df.sample(5)"
   ],
   "metadata": {
    "collapsed": false,
    "ExecuteTime": {
     "end_time": "2023-12-07T17:13:39.011411Z",
     "start_time": "2023-12-07T17:13:38.853041400Z"
    }
   },
   "id": "37199bc530ac82df"
  },
  {
   "cell_type": "code",
   "execution_count": 6,
   "outputs": [
    {
     "name": "stdout",
     "output_type": "stream",
     "text": [
      "<class 'pandas.core.frame.DataFrame'>\n",
      "Index: 10855 entries, 1 to 12329\n",
      "Data columns (total 18 columns):\n",
      " #   Column                   Non-Null Count  Dtype  \n",
      "---  ------                   --------------  -----  \n",
      " 0   Administrative           10855 non-null  int64  \n",
      " 1   Administrative_Duration  10855 non-null  float64\n",
      " 2   Informational            10855 non-null  int64  \n",
      " 3   Informational_Duration   10855 non-null  float64\n",
      " 4   ProductRelated           10855 non-null  int64  \n",
      " 5   ProductRelated_Duration  10855 non-null  float64\n",
      " 6   BounceRates              10855 non-null  float64\n",
      " 7   ExitRates                10855 non-null  float64\n",
      " 8   PageValues               10855 non-null  float64\n",
      " 9   SpecialDay               10855 non-null  float64\n",
      " 10  Month                    10855 non-null  object \n",
      " 11  OperatingSystems         10855 non-null  int64  \n",
      " 12  Browser                  10855 non-null  int64  \n",
      " 13  Region                   10855 non-null  int64  \n",
      " 14  TrafficType              10855 non-null  int64  \n",
      " 15  VisitorType              10855 non-null  object \n",
      " 16  Weekend                  10855 non-null  int64  \n",
      " 17  y                        10855 non-null  int64  \n",
      "dtypes: float64(7), int64(9), object(2)\n",
      "memory usage: 1.6+ MB\n"
     ]
    }
   ],
   "source": [
    "df.info()"
   ],
   "metadata": {
    "collapsed": false,
    "ExecuteTime": {
     "end_time": "2023-12-07T17:13:13.420372200Z",
     "start_time": "2023-12-07T17:13:13.407393600Z"
    }
   },
   "id": "3a411d6c3baec7e0"
  },
  {
   "cell_type": "code",
   "execution_count": 3,
   "outputs": [],
   "source": [
    "X = df[['Administrative_Duration', 'Informational_Duration', 'ProductRelated_Duration', 'BounceRates', 'ExitRates', 'PageValues']]"
   ],
   "metadata": {
    "collapsed": false,
    "ExecuteTime": {
     "end_time": "2023-12-09T09:33:42.227543400Z",
     "start_time": "2023-12-09T09:33:42.209399700Z"
    }
   },
   "id": "4e99ac0e824a8760"
  },
  {
   "cell_type": "code",
   "execution_count": 4,
   "outputs": [],
   "source": [
    "y = df['y']"
   ],
   "metadata": {
    "collapsed": false,
    "ExecuteTime": {
     "end_time": "2023-12-09T09:33:44.749520200Z",
     "start_time": "2023-12-09T09:33:44.737998100Z"
    }
   },
   "id": "219a86df89d106dd"
  },
  {
   "cell_type": "code",
   "execution_count": 13,
   "outputs": [
    {
     "data": {
      "text/plain": "((10855, 6), (10855,))"
     },
     "execution_count": 13,
     "metadata": {},
     "output_type": "execute_result"
    }
   ],
   "source": [
    "X.shape, y.shape"
   ],
   "metadata": {
    "collapsed": false,
    "ExecuteTime": {
     "end_time": "2023-12-07T17:59:07.138359400Z",
     "start_time": "2023-12-07T17:59:07.121226Z"
    }
   },
   "id": "74c6b2280eb61df7"
  },
  {
   "cell_type": "code",
   "execution_count": 20,
   "outputs": [
    {
     "data": {
      "text/plain": "y\n0    9088\n1    1767\nName: count, dtype: int64"
     },
     "execution_count": 20,
     "metadata": {},
     "output_type": "execute_result"
    }
   ],
   "source": [
    "y.value_counts()"
   ],
   "metadata": {
    "collapsed": false,
    "ExecuteTime": {
     "end_time": "2023-12-07T18:14:49.418605500Z",
     "start_time": "2023-12-07T18:14:49.397705100Z"
    }
   },
   "id": "f9a2d75e2b16d396"
  },
  {
   "cell_type": "code",
   "execution_count": 5,
   "outputs": [],
   "source": [
    "X_train, X_test, y_train, y_test = train_test_split(X, y, test_size=0.25, random_state=42, stratify=y)"
   ],
   "metadata": {
    "collapsed": false,
    "ExecuteTime": {
     "end_time": "2023-12-09T09:33:48.731389500Z",
     "start_time": "2023-12-09T09:33:48.718303600Z"
    }
   },
   "id": "856c6b1a88ff1aa1"
  },
  {
   "cell_type": "code",
   "execution_count": 24,
   "outputs": [
    {
     "data": {
      "text/plain": "((8141, 6), (2714, 6))"
     },
     "execution_count": 24,
     "metadata": {},
     "output_type": "execute_result"
    }
   ],
   "source": [
    "X_train.shape, X_test.shape"
   ],
   "metadata": {
    "collapsed": false,
    "ExecuteTime": {
     "end_time": "2023-12-07T18:17:47.078227700Z",
     "start_time": "2023-12-07T18:17:47.073851100Z"
    }
   },
   "id": "86a825f6f53b46f4"
  },
  {
   "cell_type": "markdown",
   "source": [
    "## 2.2. Первое приближение: строим модели на accuracy"
   ],
   "metadata": {
    "collapsed": false
   },
   "id": "c728fcc36d3c91d9"
  },
  {
   "cell_type": "markdown",
   "source": [
    "### Наивный байесовский классификатор"
   ],
   "metadata": {
    "collapsed": false
   },
   "id": "acfbd6d01d665414"
  },
  {
   "cell_type": "code",
   "execution_count": 25,
   "outputs": [],
   "source": [
    "gnb = GaussianNB()\n",
    "\n",
    "gnb.fit(X_train, y_train)\n",
    "\n",
    "y_pred = gnb.predict(X_test)"
   ],
   "metadata": {
    "collapsed": false,
    "ExecuteTime": {
     "end_time": "2023-12-07T18:18:28.982260Z",
     "start_time": "2023-12-07T18:18:28.950433100Z"
    }
   },
   "id": "e3e5d81fd60acf69"
  },
  {
   "cell_type": "code",
   "execution_count": 26,
   "outputs": [
    {
     "data": {
      "text/plain": "0.8581429624170965"
     },
     "execution_count": 26,
     "metadata": {},
     "output_type": "execute_result"
    }
   ],
   "source": [
    "accuracy_score(y_test, y_pred)"
   ],
   "metadata": {
    "collapsed": false,
    "ExecuteTime": {
     "end_time": "2023-12-07T18:18:50.446180700Z",
     "start_time": "2023-12-07T18:18:50.414488800Z"
    }
   },
   "id": "b02717477c756003"
  },
  {
   "cell_type": "code",
   "execution_count": 27,
   "outputs": [
    {
     "data": {
      "text/plain": "array([[2148,  124],\n       [ 261,  181]], dtype=int64)"
     },
     "execution_count": 27,
     "metadata": {},
     "output_type": "execute_result"
    }
   ],
   "source": [
    "confusion_matrix(y_test, y_pred)"
   ],
   "metadata": {
    "collapsed": false,
    "ExecuteTime": {
     "end_time": "2023-12-07T18:18:59.313324800Z",
     "start_time": "2023-12-07T18:18:59.306990700Z"
    }
   },
   "id": "adb34df588ba4db5"
  },
  {
   "cell_type": "markdown",
   "source": [
    "### KNN"
   ],
   "metadata": {
    "collapsed": false
   },
   "id": "7307af14cebb4e4"
  },
  {
   "cell_type": "code",
   "execution_count": 28,
   "outputs": [],
   "source": [
    "knn_cl = KNeighborsClassifier()\n",
    "\n",
    "knn_cl.fit(X_train, y_train)\n",
    "\n",
    "pred_knn = knn_cl.predict(X_test)"
   ],
   "metadata": {
    "collapsed": false,
    "ExecuteTime": {
     "end_time": "2023-12-07T18:35:50.303255600Z",
     "start_time": "2023-12-07T18:35:50.103734900Z"
    }
   },
   "id": "8f8d654037ebc930"
  },
  {
   "cell_type": "code",
   "execution_count": 29,
   "outputs": [
    {
     "data": {
      "text/plain": "0.8496683861459101"
     },
     "execution_count": 29,
     "metadata": {},
     "output_type": "execute_result"
    }
   ],
   "source": [
    "accuracy_score(y_test, pred_knn)"
   ],
   "metadata": {
    "collapsed": false,
    "ExecuteTime": {
     "end_time": "2023-12-07T18:36:03.262449600Z",
     "start_time": "2023-12-07T18:36:03.231020100Z"
    }
   },
   "id": "eb702081cc13749e"
  },
  {
   "cell_type": "code",
   "execution_count": 30,
   "outputs": [
    {
     "data": {
      "text/plain": "array([[2179,   93],\n       [ 315,  127]], dtype=int64)"
     },
     "execution_count": 30,
     "metadata": {},
     "output_type": "execute_result"
    }
   ],
   "source": [
    "confusion_matrix(y_test, pred_knn)"
   ],
   "metadata": {
    "collapsed": false,
    "ExecuteTime": {
     "end_time": "2023-12-07T18:36:13.270789700Z",
     "start_time": "2023-12-07T18:36:13.264716500Z"
    }
   },
   "id": "3a6c2e56e38021d8"
  },
  {
   "cell_type": "markdown",
   "source": [
    "## Кросс-валидация"
   ],
   "metadata": {
    "collapsed": false
   },
   "id": "3ba3846cdadbde45"
  },
  {
   "cell_type": "code",
   "execution_count": 33,
   "outputs": [
    {
     "data": {
      "text/plain": "0.8530614303346388"
     },
     "execution_count": 33,
     "metadata": {},
     "output_type": "execute_result"
    }
   ],
   "source": [
    "cross_val_score(knn_cl, X, y, scoring='accuracy', cv=3, n_jobs=-1).mean()"
   ],
   "metadata": {
    "collapsed": false,
    "ExecuteTime": {
     "end_time": "2023-12-07T18:49:20.630106200Z",
     "start_time": "2023-12-07T18:49:19.557644400Z"
    }
   },
   "id": "24fcbd1547d58f50"
  },
  {
   "cell_type": "code",
   "execution_count": 32,
   "outputs": [
    {
     "data": {
      "text/plain": "{'fit_time': array([0.01209068, 0.01209068, 0.01209068]),\n 'score_time': array([0.13879037, 0.13879037, 0.13879037]),\n 'test_accuracy': array([0.87123515, 0.84715312, 0.84079602]),\n 'test_f1': array([0.45433255, 0.38073908, 0.30935252])}"
     },
     "execution_count": 32,
     "metadata": {},
     "output_type": "execute_result"
    }
   ],
   "source": [
    "cross_validate(knn_cl, X, y, scoring=['accuracy', 'f1'], cv=3, n_jobs=-1)"
   ],
   "metadata": {
    "collapsed": false,
    "ExecuteTime": {
     "end_time": "2023-12-07T18:48:12.136180500Z",
     "start_time": "2023-12-07T18:48:10.376122900Z"
    }
   },
   "id": "4dd5cfe83eaa09ac"
  },
  {
   "cell_type": "code",
   "execution_count": 34,
   "outputs": [],
   "source": [
    "X_train, X_val, y_train, y_val = train_test_split(X_train, y_train, test_size=0.25, random_state=42, stratify=y_train)"
   ],
   "metadata": {
    "collapsed": false,
    "ExecuteTime": {
     "end_time": "2023-12-07T18:56:08.502910700Z",
     "start_time": "2023-12-07T18:56:08.486902300Z"
    }
   },
   "id": "d60aa5590ea70c15"
  },
  {
   "cell_type": "code",
   "execution_count": 35,
   "outputs": [
    {
     "name": "stdout",
     "output_type": "stream",
     "text": [
      "n_neighbors: 2 accuracy: 0.8526522593320236\n",
      "n_neighbors: 3 accuracy: 0.8521611001964636\n",
      "n_neighbors: 4 accuracy: 0.8546168958742633\n",
      "n_neighbors: 5 accuracy: 0.8570726915520629\n",
      "n_neighbors: 6 accuracy: 0.8614931237721022\n",
      "n_neighbors: 7 accuracy: 0.8575638506876228\n",
      "n_neighbors: 8 accuracy: 0.8585461689587426\n",
      "n_neighbors: 9 accuracy: 0.8605108055009824\n",
      "n_neighbors: 10 accuracy: 0.8595284872298625\n",
      "n_neighbors: 11 accuracy: 0.8600196463654224\n",
      "n_neighbors: 12 accuracy: 0.8595284872298625\n",
      "n_neighbors: 13 accuracy: 0.8605108055009824\n",
      "n_neighbors: 14 accuracy: 0.8575638506876228\n",
      "n_neighbors: 15 accuracy: 0.8575638506876228\n",
      "n_neighbors: 16 accuracy: 0.8565815324165029\n",
      "n_neighbors: 17 accuracy: 0.8560903732809431\n",
      "n_neighbors: 18 accuracy: 0.8565815324165029\n",
      "n_neighbors: 19 accuracy: 0.8555992141453831\n",
      "n_neighbors: 20 accuracy: 0.8536345776031434\n",
      "n_neighbors: 21 accuracy: 0.8536345776031434\n",
      "n_neighbors: 22 accuracy: 0.8526522593320236\n",
      "n_neighbors: 23 accuracy: 0.8526522593320236\n",
      "n_neighbors: 24 accuracy: 0.8506876227897839\n",
      "n_neighbors: 25 accuracy: 0.8506876227897839\n",
      "n_neighbors: 26 accuracy: 0.8487229862475442\n",
      "n_neighbors: 27 accuracy: 0.8482318271119843\n",
      "n_neighbors: 28 accuracy: 0.8477406679764243\n",
      "n_neighbors: 29 accuracy: 0.8477406679764243\n",
      "6 0.8614931237721022\n"
     ]
    }
   ],
   "source": [
    "best_k = -1\n",
    "best_acc = -1\n",
    "\n",
    "for k in np.arange(2, 30, 1):\n",
    "    knn_cl = KNeighborsClassifier(n_neighbors=k) # по умолчанию n_neighbors=5\n",
    "\n",
    "    knn_cl.fit(X_train, y_train)\n",
    "    pred_knn = knn_cl.predict(X_val)\n",
    "    acc = accuracy_score(y_val, pred_knn)\n",
    "\n",
    "    if acc > best_acc:\n",
    "        best_k = k\n",
    "        best_acc = acc\n",
    "\n",
    "    print('n_neighbors:', k, 'accuracy:', acc)\n",
    "\n",
    "print(best_k, best_acc)"
   ],
   "metadata": {
    "collapsed": false,
    "ExecuteTime": {
     "end_time": "2023-12-07T18:56:26.514151600Z",
     "start_time": "2023-12-07T18:56:23.977009700Z"
    }
   },
   "id": "fdd91c6f66326fd7"
  },
  {
   "cell_type": "code",
   "execution_count": 36,
   "outputs": [
    {
     "name": "stdout",
     "output_type": "stream",
     "text": [
      "0.8566691230655858\n"
     ]
    }
   ],
   "source": [
    "knn_cl = KNeighborsClassifier(n_neighbors=6) # по умолчанию n_neighbors=5\n",
    "\n",
    "knn_cl.fit(X_train, y_train)\n",
    "pred_knn = knn_cl.predict(X_test)\n",
    "\n",
    "acc = accuracy_score(y_test, pred_knn)\n",
    "print(acc)"
   ],
   "metadata": {
    "collapsed": false,
    "ExecuteTime": {
     "end_time": "2023-12-07T18:57:20.928470600Z",
     "start_time": "2023-12-07T18:57:20.817856300Z"
    }
   },
   "id": "dd24fa31cde1744c"
  },
  {
   "cell_type": "code",
   "execution_count": 37,
   "outputs": [
    {
     "data": {
      "text/plain": "array([[2232,   40],\n       [ 349,   93]], dtype=int64)"
     },
     "execution_count": 37,
     "metadata": {},
     "output_type": "execute_result"
    }
   ],
   "source": [
    "confusion_matrix(y_test, pred_knn)"
   ],
   "metadata": {
    "collapsed": false,
    "ExecuteTime": {
     "end_time": "2023-12-07T18:57:42.249231Z",
     "start_time": "2023-12-07T18:57:42.245182200Z"
    }
   },
   "id": "46afdd0f4a4213f6"
  },
  {
   "cell_type": "markdown",
   "source": [
    "## 2.3. Акцент на recall - строим модели по умолчанию и подбираем параметры на GridSearch"
   ],
   "metadata": {
    "collapsed": false
   },
   "id": "cffb70473830448d"
  },
  {
   "cell_type": "markdown",
   "source": [
    "### KNN"
   ],
   "metadata": {
    "collapsed": false
   },
   "id": "c3d6f3ed43457953"
  },
  {
   "cell_type": "code",
   "execution_count": 11,
   "outputs": [
    {
     "data": {
      "text/plain": "0.2873303167420814"
     },
     "execution_count": 11,
     "metadata": {},
     "output_type": "execute_result"
    }
   ],
   "source": [
    "knn_cl = KNeighborsClassifier()\n",
    "\n",
    "knn_cl.fit(X_train, y_train)\n",
    "\n",
    "pred_knn = knn_cl.predict(X_test)\n",
    "\n",
    "recall_score(y_test, pred_knn)"
   ],
   "metadata": {
    "collapsed": false,
    "ExecuteTime": {
     "end_time": "2023-12-08T14:23:34.843751Z",
     "start_time": "2023-12-08T14:23:34.723977200Z"
    }
   },
   "id": "8d7a8d185300424a"
  },
  {
   "cell_type": "code",
   "execution_count": 12,
   "outputs": [
    {
     "data": {
      "text/plain": "0.279003961516695"
     },
     "execution_count": 12,
     "metadata": {},
     "output_type": "execute_result"
    }
   ],
   "source": [
    "cross_val_score(knn_cl, X, y, scoring='recall', cv=3, n_jobs=-1).mean()"
   ],
   "metadata": {
    "collapsed": false,
    "ExecuteTime": {
     "end_time": "2023-12-08T14:24:47.464523200Z",
     "start_time": "2023-12-08T14:24:45.823547400Z"
    }
   },
   "id": "31ee672a4913b320"
  },
  {
   "cell_type": "code",
   "execution_count": 13,
   "outputs": [
    {
     "data": {
      "text/plain": "{'fit_time': array([0.0060885 , 0.00261712, 0.0060885 ]),\n 'score_time': array([0.13486457, 0.1347394 , 0.12680864]),\n 'test_accuracy': array([0.87123515, 0.84715312, 0.84079602]),\n 'test_recall': array([0.32937182, 0.28862479, 0.21901528]),\n 'test_f1': array([0.45433255, 0.38073908, 0.30935252])}"
     },
     "execution_count": 13,
     "metadata": {},
     "output_type": "execute_result"
    }
   ],
   "source": [
    "cross_validate(knn_cl, X, y, scoring=['accuracy', 'recall', 'f1'], cv=3, n_jobs=-1)"
   ],
   "metadata": {
    "collapsed": false,
    "ExecuteTime": {
     "end_time": "2023-12-08T14:25:27.318511600Z",
     "start_time": "2023-12-08T14:25:26.225741100Z"
    }
   },
   "id": "9d797a0d0c39d728"
  },
  {
   "cell_type": "code",
   "execution_count": 16,
   "outputs": [
    {
     "name": "stdout",
     "output_type": "stream",
     "text": [
      "Fitting 3 folds for each of 36 candidates, totalling 108 fits\n",
      "[CV] END ................n_neighbors=2, p=1, weights=uniform; total time=   0.0s\n",
      "[CV] END ................n_neighbors=2, p=1, weights=uniform; total time=   0.0s\n",
      "[CV] END ................n_neighbors=2, p=1, weights=uniform; total time=   0.0s\n",
      "[CV] END ...............n_neighbors=2, p=1, weights=distance; total time=   0.0s\n",
      "[CV] END ...............n_neighbors=2, p=1, weights=distance; total time=   0.0s\n",
      "[CV] END ...............n_neighbors=2, p=1, weights=distance; total time=   0.0s\n",
      "[CV] END ................n_neighbors=2, p=2, weights=uniform; total time=   0.0s\n",
      "[CV] END ................n_neighbors=2, p=2, weights=uniform; total time=   0.0s\n",
      "[CV] END ................n_neighbors=2, p=2, weights=uniform; total time=   0.0s\n",
      "[CV] END ...............n_neighbors=2, p=2, weights=distance; total time=   0.0s\n",
      "[CV] END ...............n_neighbors=2, p=2, weights=distance; total time=   0.0s\n",
      "[CV] END ...............n_neighbors=2, p=2, weights=distance; total time=   0.0s\n",
      "[CV] END ................n_neighbors=4, p=1, weights=uniform; total time=   0.0s\n",
      "[CV] END ................n_neighbors=4, p=1, weights=uniform; total time=   0.0s\n",
      "[CV] END ................n_neighbors=4, p=1, weights=uniform; total time=   0.0s\n",
      "[CV] END ...............n_neighbors=4, p=1, weights=distance; total time=   0.0s\n",
      "[CV] END ...............n_neighbors=4, p=1, weights=distance; total time=   0.0s\n",
      "[CV] END ...............n_neighbors=4, p=1, weights=distance; total time=   0.0s\n",
      "[CV] END ................n_neighbors=4, p=2, weights=uniform; total time=   0.0s\n",
      "[CV] END ................n_neighbors=4, p=2, weights=uniform; total time=   0.0s\n",
      "[CV] END ................n_neighbors=4, p=2, weights=uniform; total time=   0.0s\n",
      "[CV] END ...............n_neighbors=4, p=2, weights=distance; total time=   0.0s\n",
      "[CV] END ...............n_neighbors=4, p=2, weights=distance; total time=   0.0s\n",
      "[CV] END ...............n_neighbors=4, p=2, weights=distance; total time=   0.0s\n",
      "[CV] END ................n_neighbors=6, p=1, weights=uniform; total time=   0.0s\n",
      "[CV] END ................n_neighbors=6, p=1, weights=uniform; total time=   0.0s\n",
      "[CV] END ................n_neighbors=6, p=1, weights=uniform; total time=   0.0s\n",
      "[CV] END ...............n_neighbors=6, p=1, weights=distance; total time=   0.0s\n",
      "[CV] END ...............n_neighbors=6, p=1, weights=distance; total time=   0.0s\n",
      "[CV] END ...............n_neighbors=6, p=1, weights=distance; total time=   0.0s\n",
      "[CV] END ................n_neighbors=6, p=2, weights=uniform; total time=   0.0s\n",
      "[CV] END ................n_neighbors=6, p=2, weights=uniform; total time=   0.0s\n",
      "[CV] END ................n_neighbors=6, p=2, weights=uniform; total time=   0.0s\n",
      "[CV] END ...............n_neighbors=6, p=2, weights=distance; total time=   0.0s\n",
      "[CV] END ...............n_neighbors=6, p=2, weights=distance; total time=   0.0s\n",
      "[CV] END ...............n_neighbors=6, p=2, weights=distance; total time=   0.0s\n",
      "[CV] END ................n_neighbors=8, p=1, weights=uniform; total time=   0.0s\n",
      "[CV] END ................n_neighbors=8, p=1, weights=uniform; total time=   0.0s\n",
      "[CV] END ................n_neighbors=8, p=1, weights=uniform; total time=   0.0s\n",
      "[CV] END ...............n_neighbors=8, p=1, weights=distance; total time=   0.0s\n",
      "[CV] END ...............n_neighbors=8, p=1, weights=distance; total time=   0.0s\n",
      "[CV] END ...............n_neighbors=8, p=1, weights=distance; total time=   0.0s\n",
      "[CV] END ................n_neighbors=8, p=2, weights=uniform; total time=   0.0s\n",
      "[CV] END ................n_neighbors=8, p=2, weights=uniform; total time=   0.0s\n",
      "[CV] END ................n_neighbors=8, p=2, weights=uniform; total time=   0.0s\n",
      "[CV] END ...............n_neighbors=8, p=2, weights=distance; total time=   0.0s\n",
      "[CV] END ...............n_neighbors=8, p=2, weights=distance; total time=   0.0s\n",
      "[CV] END ...............n_neighbors=8, p=2, weights=distance; total time=   0.0s\n",
      "[CV] END ...............n_neighbors=10, p=1, weights=uniform; total time=   0.0s\n",
      "[CV] END ...............n_neighbors=10, p=1, weights=uniform; total time=   0.0s\n",
      "[CV] END ...............n_neighbors=10, p=1, weights=uniform; total time=   0.0s\n",
      "[CV] END ..............n_neighbors=10, p=1, weights=distance; total time=   0.0s\n",
      "[CV] END ..............n_neighbors=10, p=1, weights=distance; total time=   0.0s\n",
      "[CV] END ..............n_neighbors=10, p=1, weights=distance; total time=   0.0s\n",
      "[CV] END ...............n_neighbors=10, p=2, weights=uniform; total time=   0.0s\n",
      "[CV] END ...............n_neighbors=10, p=2, weights=uniform; total time=   0.0s\n",
      "[CV] END ...............n_neighbors=10, p=2, weights=uniform; total time=   0.0s\n",
      "[CV] END ..............n_neighbors=10, p=2, weights=distance; total time=   0.0s\n",
      "[CV] END ..............n_neighbors=10, p=2, weights=distance; total time=   0.0s\n",
      "[CV] END ..............n_neighbors=10, p=2, weights=distance; total time=   0.0s\n",
      "[CV] END ...............n_neighbors=12, p=1, weights=uniform; total time=   0.0s\n",
      "[CV] END ...............n_neighbors=12, p=1, weights=uniform; total time=   0.0s\n",
      "[CV] END ...............n_neighbors=12, p=1, weights=uniform; total time=   0.0s\n",
      "[CV] END ..............n_neighbors=12, p=1, weights=distance; total time=   0.0s\n",
      "[CV] END ..............n_neighbors=12, p=1, weights=distance; total time=   0.0s\n",
      "[CV] END ..............n_neighbors=12, p=1, weights=distance; total time=   0.0s\n",
      "[CV] END ...............n_neighbors=12, p=2, weights=uniform; total time=   0.0s\n",
      "[CV] END ...............n_neighbors=12, p=2, weights=uniform; total time=   0.0s\n",
      "[CV] END ...............n_neighbors=12, p=2, weights=uniform; total time=   0.0s\n",
      "[CV] END ..............n_neighbors=12, p=2, weights=distance; total time=   0.0s\n",
      "[CV] END ..............n_neighbors=12, p=2, weights=distance; total time=   0.0s\n",
      "[CV] END ..............n_neighbors=12, p=2, weights=distance; total time=   0.0s\n",
      "[CV] END ...............n_neighbors=14, p=1, weights=uniform; total time=   0.0s\n",
      "[CV] END ...............n_neighbors=14, p=1, weights=uniform; total time=   0.0s\n",
      "[CV] END ...............n_neighbors=14, p=1, weights=uniform; total time=   0.0s\n",
      "[CV] END ..............n_neighbors=14, p=1, weights=distance; total time=   0.0s\n",
      "[CV] END ..............n_neighbors=14, p=1, weights=distance; total time=   0.0s\n",
      "[CV] END ..............n_neighbors=14, p=1, weights=distance; total time=   0.0s\n",
      "[CV] END ...............n_neighbors=14, p=2, weights=uniform; total time=   0.0s\n",
      "[CV] END ...............n_neighbors=14, p=2, weights=uniform; total time=   0.0s\n",
      "[CV] END ...............n_neighbors=14, p=2, weights=uniform; total time=   0.0s\n",
      "[CV] END ..............n_neighbors=14, p=2, weights=distance; total time=   0.0s\n",
      "[CV] END ..............n_neighbors=14, p=2, weights=distance; total time=   0.0s\n",
      "[CV] END ..............n_neighbors=14, p=2, weights=distance; total time=   0.0s\n",
      "[CV] END ...............n_neighbors=16, p=1, weights=uniform; total time=   0.0s\n",
      "[CV] END ...............n_neighbors=16, p=1, weights=uniform; total time=   0.0s\n",
      "[CV] END ...............n_neighbors=16, p=1, weights=uniform; total time=   0.0s\n",
      "[CV] END ..............n_neighbors=16, p=1, weights=distance; total time=   0.0s\n",
      "[CV] END ..............n_neighbors=16, p=1, weights=distance; total time=   0.0s\n",
      "[CV] END ..............n_neighbors=16, p=1, weights=distance; total time=   0.0s\n",
      "[CV] END ...............n_neighbors=16, p=2, weights=uniform; total time=   0.0s\n",
      "[CV] END ...............n_neighbors=16, p=2, weights=uniform; total time=   0.0s\n",
      "[CV] END ...............n_neighbors=16, p=2, weights=uniform; total time=   0.0s\n",
      "[CV] END ..............n_neighbors=16, p=2, weights=distance; total time=   0.0s\n",
      "[CV] END ..............n_neighbors=16, p=2, weights=distance; total time=   0.0s\n",
      "[CV] END ..............n_neighbors=16, p=2, weights=distance; total time=   0.0s\n",
      "[CV] END ...............n_neighbors=18, p=1, weights=uniform; total time=   0.0s\n",
      "[CV] END ...............n_neighbors=18, p=1, weights=uniform; total time=   0.0s\n",
      "[CV] END ...............n_neighbors=18, p=1, weights=uniform; total time=   0.0s\n",
      "[CV] END ..............n_neighbors=18, p=1, weights=distance; total time=   0.0s\n",
      "[CV] END ..............n_neighbors=18, p=1, weights=distance; total time=   0.0s\n",
      "[CV] END ..............n_neighbors=18, p=1, weights=distance; total time=   0.0s\n",
      "[CV] END ...............n_neighbors=18, p=2, weights=uniform; total time=   0.0s\n",
      "[CV] END ...............n_neighbors=18, p=2, weights=uniform; total time=   0.0s\n",
      "[CV] END ...............n_neighbors=18, p=2, weights=uniform; total time=   0.0s\n",
      "[CV] END ..............n_neighbors=18, p=2, weights=distance; total time=   0.0s\n",
      "[CV] END ..............n_neighbors=18, p=2, weights=distance; total time=   0.0s\n",
      "[CV] END ..............n_neighbors=18, p=2, weights=distance; total time=   0.0s\n"
     ]
    },
    {
     "data": {
      "text/plain": "GridSearchCV(cv=3, estimator=KNeighborsClassifier(),\n             param_grid={'n_neighbors': array([ 2,  4,  6,  8, 10, 12, 14, 16, 18]),\n                         'p': [1, 2], 'weights': ['uniform', 'distance']},\n             scoring='recall', verbose=2)",
      "text/html": "<style>#sk-container-id-2 {color: black;}#sk-container-id-2 pre{padding: 0;}#sk-container-id-2 div.sk-toggleable {background-color: white;}#sk-container-id-2 label.sk-toggleable__label {cursor: pointer;display: block;width: 100%;margin-bottom: 0;padding: 0.3em;box-sizing: border-box;text-align: center;}#sk-container-id-2 label.sk-toggleable__label-arrow:before {content: \"▸\";float: left;margin-right: 0.25em;color: #696969;}#sk-container-id-2 label.sk-toggleable__label-arrow:hover:before {color: black;}#sk-container-id-2 div.sk-estimator:hover label.sk-toggleable__label-arrow:before {color: black;}#sk-container-id-2 div.sk-toggleable__content {max-height: 0;max-width: 0;overflow: hidden;text-align: left;background-color: #f0f8ff;}#sk-container-id-2 div.sk-toggleable__content pre {margin: 0.2em;color: black;border-radius: 0.25em;background-color: #f0f8ff;}#sk-container-id-2 input.sk-toggleable__control:checked~div.sk-toggleable__content {max-height: 200px;max-width: 100%;overflow: auto;}#sk-container-id-2 input.sk-toggleable__control:checked~label.sk-toggleable__label-arrow:before {content: \"▾\";}#sk-container-id-2 div.sk-estimator input.sk-toggleable__control:checked~label.sk-toggleable__label {background-color: #d4ebff;}#sk-container-id-2 div.sk-label input.sk-toggleable__control:checked~label.sk-toggleable__label {background-color: #d4ebff;}#sk-container-id-2 input.sk-hidden--visually {border: 0;clip: rect(1px 1px 1px 1px);clip: rect(1px, 1px, 1px, 1px);height: 1px;margin: -1px;overflow: hidden;padding: 0;position: absolute;width: 1px;}#sk-container-id-2 div.sk-estimator {font-family: monospace;background-color: #f0f8ff;border: 1px dotted black;border-radius: 0.25em;box-sizing: border-box;margin-bottom: 0.5em;}#sk-container-id-2 div.sk-estimator:hover {background-color: #d4ebff;}#sk-container-id-2 div.sk-parallel-item::after {content: \"\";width: 100%;border-bottom: 1px solid gray;flex-grow: 1;}#sk-container-id-2 div.sk-label:hover label.sk-toggleable__label {background-color: #d4ebff;}#sk-container-id-2 div.sk-serial::before {content: \"\";position: absolute;border-left: 1px solid gray;box-sizing: border-box;top: 0;bottom: 0;left: 50%;z-index: 0;}#sk-container-id-2 div.sk-serial {display: flex;flex-direction: column;align-items: center;background-color: white;padding-right: 0.2em;padding-left: 0.2em;position: relative;}#sk-container-id-2 div.sk-item {position: relative;z-index: 1;}#sk-container-id-2 div.sk-parallel {display: flex;align-items: stretch;justify-content: center;background-color: white;position: relative;}#sk-container-id-2 div.sk-item::before, #sk-container-id-2 div.sk-parallel-item::before {content: \"\";position: absolute;border-left: 1px solid gray;box-sizing: border-box;top: 0;bottom: 0;left: 50%;z-index: -1;}#sk-container-id-2 div.sk-parallel-item {display: flex;flex-direction: column;z-index: 1;position: relative;background-color: white;}#sk-container-id-2 div.sk-parallel-item:first-child::after {align-self: flex-end;width: 50%;}#sk-container-id-2 div.sk-parallel-item:last-child::after {align-self: flex-start;width: 50%;}#sk-container-id-2 div.sk-parallel-item:only-child::after {width: 0;}#sk-container-id-2 div.sk-dashed-wrapped {border: 1px dashed gray;margin: 0 0.4em 0.5em 0.4em;box-sizing: border-box;padding-bottom: 0.4em;background-color: white;}#sk-container-id-2 div.sk-label label {font-family: monospace;font-weight: bold;display: inline-block;line-height: 1.2em;}#sk-container-id-2 div.sk-label-container {text-align: center;}#sk-container-id-2 div.sk-container {/* jupyter's `normalize.less` sets `[hidden] { display: none; }` but bootstrap.min.css set `[hidden] { display: none !important; }` so we also need the `!important` here to be able to override the default hidden behavior on the sphinx rendered scikit-learn.org. See: https://github.com/scikit-learn/scikit-learn/issues/21755 */display: inline-block !important;position: relative;}#sk-container-id-2 div.sk-text-repr-fallback {display: none;}</style><div id=\"sk-container-id-2\" class=\"sk-top-container\"><div class=\"sk-text-repr-fallback\"><pre>GridSearchCV(cv=3, estimator=KNeighborsClassifier(),\n             param_grid={&#x27;n_neighbors&#x27;: array([ 2,  4,  6,  8, 10, 12, 14, 16, 18]),\n                         &#x27;p&#x27;: [1, 2], &#x27;weights&#x27;: [&#x27;uniform&#x27;, &#x27;distance&#x27;]},\n             scoring=&#x27;recall&#x27;, verbose=2)</pre><b>In a Jupyter environment, please rerun this cell to show the HTML representation or trust the notebook. <br />On GitHub, the HTML representation is unable to render, please try loading this page with nbviewer.org.</b></div><div class=\"sk-container\" hidden><div class=\"sk-item sk-dashed-wrapped\"><div class=\"sk-label-container\"><div class=\"sk-label sk-toggleable\"><input class=\"sk-toggleable__control sk-hidden--visually\" id=\"sk-estimator-id-4\" type=\"checkbox\" ><label for=\"sk-estimator-id-4\" class=\"sk-toggleable__label sk-toggleable__label-arrow\">GridSearchCV</label><div class=\"sk-toggleable__content\"><pre>GridSearchCV(cv=3, estimator=KNeighborsClassifier(),\n             param_grid={&#x27;n_neighbors&#x27;: array([ 2,  4,  6,  8, 10, 12, 14, 16, 18]),\n                         &#x27;p&#x27;: [1, 2], &#x27;weights&#x27;: [&#x27;uniform&#x27;, &#x27;distance&#x27;]},\n             scoring=&#x27;recall&#x27;, verbose=2)</pre></div></div></div><div class=\"sk-parallel\"><div class=\"sk-parallel-item\"><div class=\"sk-item\"><div class=\"sk-label-container\"><div class=\"sk-label sk-toggleable\"><input class=\"sk-toggleable__control sk-hidden--visually\" id=\"sk-estimator-id-5\" type=\"checkbox\" ><label for=\"sk-estimator-id-5\" class=\"sk-toggleable__label sk-toggleable__label-arrow\">estimator: KNeighborsClassifier</label><div class=\"sk-toggleable__content\"><pre>KNeighborsClassifier()</pre></div></div></div><div class=\"sk-serial\"><div class=\"sk-item\"><div class=\"sk-estimator sk-toggleable\"><input class=\"sk-toggleable__control sk-hidden--visually\" id=\"sk-estimator-id-6\" type=\"checkbox\" ><label for=\"sk-estimator-id-6\" class=\"sk-toggleable__label sk-toggleable__label-arrow\">KNeighborsClassifier</label><div class=\"sk-toggleable__content\"><pre>KNeighborsClassifier()</pre></div></div></div></div></div></div></div></div></div></div>"
     },
     "execution_count": 16,
     "metadata": {},
     "output_type": "execute_result"
    }
   ],
   "source": [
    "model = KNeighborsClassifier()\n",
    "\n",
    "params = {'n_neighbors' : np.arange(2, 20, 2),\n",
    "          'weights' : ['uniform', 'distance'],\n",
    "          'p': [1,2]}\n",
    "\n",
    "gs = GridSearchCV(model, params, scoring='recall', cv=3, verbose=2)\n",
    "gs.fit(X_train, y_train)"
   ],
   "metadata": {
    "collapsed": false,
    "ExecuteTime": {
     "end_time": "2023-12-08T14:33:54.676977800Z",
     "start_time": "2023-12-08T14:33:47.500323900Z"
    }
   },
   "id": "212d091b1906ac0e"
  },
  {
   "cell_type": "code",
   "execution_count": 17,
   "outputs": [
    {
     "data": {
      "text/plain": "(0.39471344093192834, {'n_neighbors': 2, 'p': 2, 'weights': 'distance'})"
     },
     "execution_count": 17,
     "metadata": {},
     "output_type": "execute_result"
    }
   ],
   "source": [
    "gs.best_score_, gs.best_params_"
   ],
   "metadata": {
    "collapsed": false,
    "ExecuteTime": {
     "end_time": "2023-12-08T14:33:56.324411600Z",
     "start_time": "2023-12-08T14:33:56.322213Z"
    }
   },
   "id": "6f4f39541611baf4"
  },
  {
   "cell_type": "code",
   "execution_count": 19,
   "outputs": [
    {
     "data": {
      "text/plain": "0.35294117647058826"
     },
     "execution_count": 19,
     "metadata": {},
     "output_type": "execute_result"
    }
   ],
   "source": [
    "pred = gs.best_estimator_.predict(X_test)\n",
    "\n",
    "recall_score(y_test, pred)"
   ],
   "metadata": {
    "collapsed": false,
    "ExecuteTime": {
     "end_time": "2023-12-08T14:34:12.951893400Z",
     "start_time": "2023-12-08T14:34:12.921833900Z"
    }
   },
   "id": "575cb0801a08ef4d"
  },
  {
   "cell_type": "code",
   "execution_count": 20,
   "outputs": [
    {
     "data": {
      "text/plain": "array([[2047,  225],\n       [ 286,  156]], dtype=int64)"
     },
     "execution_count": 20,
     "metadata": {},
     "output_type": "execute_result"
    }
   ],
   "source": [
    "confusion_matrix(y_test, pred)"
   ],
   "metadata": {
    "collapsed": false,
    "ExecuteTime": {
     "end_time": "2023-12-08T14:34:44.613421600Z",
     "start_time": "2023-12-08T14:34:44.597614800Z"
    }
   },
   "id": "7d564d4814cb7b13"
  },
  {
   "cell_type": "markdown",
   "source": [
    "### CatBoost"
   ],
   "metadata": {
    "collapsed": false
   },
   "id": "68241510d17f200c"
  },
  {
   "cell_type": "code",
   "execution_count": 24,
   "outputs": [
    {
     "name": "stdout",
     "output_type": "stream",
     "text": [
      "Collecting catboost\n",
      "  Using cached catboost-1.2.2-cp311-cp311-win_amd64.whl.metadata (1.2 kB)\n",
      "Collecting graphviz (from catboost)\n",
      "  Using cached graphviz-0.20.1-py3-none-any.whl (47 kB)\n",
      "Requirement already satisfied: matplotlib in c:\\users\\maxle\\appdata\\local\\pypoetry\\cache\\virtualenvs\\eda-and-devs-znx4-9sc-py3.11\\lib\\site-packages (from catboost) (3.7.3)\n",
      "Requirement already satisfied: numpy>=1.16.0 in c:\\users\\maxle\\appdata\\local\\pypoetry\\cache\\virtualenvs\\eda-and-devs-znx4-9sc-py3.11\\lib\\site-packages (from catboost) (1.25.2)\n",
      "Requirement already satisfied: pandas>=0.24 in c:\\users\\maxle\\appdata\\local\\pypoetry\\cache\\virtualenvs\\eda-and-devs-znx4-9sc-py3.11\\lib\\site-packages (from catboost) (2.0.3)\n",
      "Requirement already satisfied: scipy in c:\\users\\maxle\\appdata\\local\\pypoetry\\cache\\virtualenvs\\eda-and-devs-znx4-9sc-py3.11\\lib\\site-packages (from catboost) (1.11.3)\n",
      "Collecting plotly (from catboost)\n",
      "  Using cached plotly-5.18.0-py3-none-any.whl.metadata (7.0 kB)\n",
      "Requirement already satisfied: six in c:\\users\\maxle\\appdata\\local\\pypoetry\\cache\\virtualenvs\\eda-and-devs-znx4-9sc-py3.11\\lib\\site-packages (from catboost) (1.16.0)\n",
      "Requirement already satisfied: python-dateutil>=2.8.2 in c:\\users\\maxle\\appdata\\local\\pypoetry\\cache\\virtualenvs\\eda-and-devs-znx4-9sc-py3.11\\lib\\site-packages (from pandas>=0.24->catboost) (2.8.2)\n",
      "Requirement already satisfied: pytz>=2020.1 in c:\\users\\maxle\\appdata\\local\\pypoetry\\cache\\virtualenvs\\eda-and-devs-znx4-9sc-py3.11\\lib\\site-packages (from pandas>=0.24->catboost) (2023.3.post1)\n",
      "Requirement already satisfied: tzdata>=2022.1 in c:\\users\\maxle\\appdata\\local\\pypoetry\\cache\\virtualenvs\\eda-and-devs-znx4-9sc-py3.11\\lib\\site-packages (from pandas>=0.24->catboost) (2023.3)\n",
      "Requirement already satisfied: contourpy>=1.0.1 in c:\\users\\maxle\\appdata\\local\\pypoetry\\cache\\virtualenvs\\eda-and-devs-znx4-9sc-py3.11\\lib\\site-packages (from matplotlib->catboost) (1.1.1)\n",
      "Requirement already satisfied: cycler>=0.10 in c:\\users\\maxle\\appdata\\local\\pypoetry\\cache\\virtualenvs\\eda-and-devs-znx4-9sc-py3.11\\lib\\site-packages (from matplotlib->catboost) (0.12.1)\n",
      "Requirement already satisfied: fonttools>=4.22.0 in c:\\users\\maxle\\appdata\\local\\pypoetry\\cache\\virtualenvs\\eda-and-devs-znx4-9sc-py3.11\\lib\\site-packages (from matplotlib->catboost) (4.43.1)\n",
      "Requirement already satisfied: kiwisolver>=1.0.1 in c:\\users\\maxle\\appdata\\local\\pypoetry\\cache\\virtualenvs\\eda-and-devs-znx4-9sc-py3.11\\lib\\site-packages (from matplotlib->catboost) (1.4.5)\n",
      "Requirement already satisfied: packaging>=20.0 in c:\\users\\maxle\\appdata\\local\\pypoetry\\cache\\virtualenvs\\eda-and-devs-znx4-9sc-py3.11\\lib\\site-packages (from matplotlib->catboost) (23.2)\n",
      "Requirement already satisfied: pillow>=6.2.0 in c:\\users\\maxle\\appdata\\local\\pypoetry\\cache\\virtualenvs\\eda-and-devs-znx4-9sc-py3.11\\lib\\site-packages (from matplotlib->catboost) (10.1.0)\n",
      "Requirement already satisfied: pyparsing>=2.3.1 in c:\\users\\maxle\\appdata\\local\\pypoetry\\cache\\virtualenvs\\eda-and-devs-znx4-9sc-py3.11\\lib\\site-packages (from matplotlib->catboost) (3.1.1)\n",
      "Collecting tenacity>=6.2.0 (from plotly->catboost)\n",
      "  Using cached tenacity-8.2.3-py3-none-any.whl.metadata (1.0 kB)\n",
      "Downloading catboost-1.2.2-cp311-cp311-win_amd64.whl (101.0 MB)\n",
      "   ---------------------------------------- 0.0/101.0 MB ? eta -:--:--\n",
      "   ---------------------------------------- 0.0/101.0 MB 1.4 MB/s eta 0:01:14\n",
      "   ---------------------------------------- 0.1/101.0 MB 1.7 MB/s eta 0:01:00\n",
      "   ---------------------------------------- 0.4/101.0 MB 2.7 MB/s eta 0:00:38\n",
      "   ---------------------------------------- 0.7/101.0 MB 3.4 MB/s eta 0:00:30\n",
      "   ---------------------------------------- 0.8/101.0 MB 3.3 MB/s eta 0:00:31\n",
      "   ---------------------------------------- 1.0/101.0 MB 3.9 MB/s eta 0:00:26\n",
      "   ---------------------------------------- 1.0/101.0 MB 3.9 MB/s eta 0:00:26\n",
      "   ---------------------------------------- 1.0/101.0 MB 3.9 MB/s eta 0:00:26\n",
      "   ---------------------------------------- 1.0/101.0 MB 3.9 MB/s eta 0:00:26\n",
      "   ---------------------------------------- 1.0/101.0 MB 3.9 MB/s eta 0:00:26\n",
      "   ---------------------------------------- 1.0/101.0 MB 3.9 MB/s eta 0:00:26\n",
      "   ---------------------------------------- 1.0/101.0 MB 3.9 MB/s eta 0:00:26\n",
      "    --------------------------------------- 1.3/101.0 MB 2.2 MB/s eta 0:00:46\n",
      "    --------------------------------------- 1.7/101.0 MB 2.6 MB/s eta 0:00:39\n",
      "    --------------------------------------- 1.9/101.0 MB 2.7 MB/s eta 0:00:37\n",
      "    --------------------------------------- 2.0/101.0 MB 2.7 MB/s eta 0:00:37\n",
      "    --------------------------------------- 2.2/101.0 MB 2.8 MB/s eta 0:00:36\n",
      "    --------------------------------------- 2.4/101.0 MB 2.8 MB/s eta 0:00:36\n",
      "    --------------------------------------- 2.5/101.0 MB 2.8 MB/s eta 0:00:36\n",
      "   - -------------------------------------- 2.6/101.0 MB 2.8 MB/s eta 0:00:36\n",
      "   - -------------------------------------- 2.7/101.0 MB 2.6 MB/s eta 0:00:38\n",
      "   - -------------------------------------- 2.8/101.0 MB 2.7 MB/s eta 0:00:37\n",
      "   - -------------------------------------- 2.9/101.0 MB 2.6 MB/s eta 0:00:38\n",
      "   - -------------------------------------- 2.9/101.0 MB 2.6 MB/s eta 0:00:38\n",
      "   - -------------------------------------- 3.1/101.0 MB 2.6 MB/s eta 0:00:38\n",
      "   - -------------------------------------- 3.1/101.0 MB 2.6 MB/s eta 0:00:39\n",
      "   - -------------------------------------- 3.2/101.0 MB 2.5 MB/s eta 0:00:40\n",
      "   - -------------------------------------- 3.2/101.0 MB 2.5 MB/s eta 0:00:39\n",
      "   - -------------------------------------- 3.3/101.0 MB 2.4 MB/s eta 0:00:40\n",
      "   - -------------------------------------- 3.4/101.0 MB 2.4 MB/s eta 0:00:41\n",
      "   - -------------------------------------- 3.4/101.0 MB 2.4 MB/s eta 0:00:42\n",
      "   - -------------------------------------- 3.5/101.0 MB 2.3 MB/s eta 0:00:43\n",
      "   - -------------------------------------- 3.5/101.0 MB 2.3 MB/s eta 0:00:43\n",
      "   - -------------------------------------- 3.5/101.0 MB 2.3 MB/s eta 0:00:43\n",
      "   - -------------------------------------- 3.5/101.0 MB 2.3 MB/s eta 0:00:43\n",
      "   - -------------------------------------- 3.6/101.0 MB 2.1 MB/s eta 0:00:46\n",
      "   - -------------------------------------- 3.6/101.0 MB 2.1 MB/s eta 0:00:47\n",
      "   - -------------------------------------- 3.6/101.0 MB 2.0 MB/s eta 0:00:49\n",
      "   - -------------------------------------- 3.7/101.0 MB 2.0 MB/s eta 0:00:49\n",
      "   - -------------------------------------- 3.7/101.0 MB 1.9 MB/s eta 0:00:51\n",
      "   - -------------------------------------- 3.7/101.0 MB 2.0 MB/s eta 0:00:50\n",
      "   - -------------------------------------- 3.7/101.0 MB 1.9 MB/s eta 0:00:52\n",
      "   - -------------------------------------- 3.8/101.0 MB 1.9 MB/s eta 0:00:52\n",
      "   - -------------------------------------- 3.8/101.0 MB 1.9 MB/s eta 0:00:52\n",
      "   - -------------------------------------- 3.8/101.0 MB 1.8 MB/s eta 0:00:54\n",
      "   - -------------------------------------- 3.9/101.0 MB 1.8 MB/s eta 0:00:55\n",
      "   - -------------------------------------- 3.9/101.0 MB 1.8 MB/s eta 0:00:55\n",
      "   - -------------------------------------- 4.0/101.0 MB 1.8 MB/s eta 0:00:56\n",
      "   - -------------------------------------- 4.0/101.0 MB 1.7 MB/s eta 0:00:56\n",
      "   - -------------------------------------- 4.0/101.0 MB 1.7 MB/s eta 0:00:56\n",
      "   - -------------------------------------- 4.1/101.0 MB 1.7 MB/s eta 0:00:58\n",
      "   - -------------------------------------- 4.1/101.0 MB 1.7 MB/s eta 0:00:59\n",
      "   - -------------------------------------- 4.1/101.0 MB 1.7 MB/s eta 0:00:59\n",
      "   - -------------------------------------- 4.2/101.0 MB 1.6 MB/s eta 0:01:00\n",
      "   - -------------------------------------- 4.2/101.0 MB 1.6 MB/s eta 0:01:00\n",
      "   - -------------------------------------- 4.3/101.0 MB 1.6 MB/s eta 0:01:00\n",
      "   - -------------------------------------- 4.3/101.0 MB 1.6 MB/s eta 0:01:00\n",
      "   - -------------------------------------- 4.4/101.0 MB 1.6 MB/s eta 0:01:00\n",
      "   - -------------------------------------- 4.4/101.0 MB 1.6 MB/s eta 0:01:01\n",
      "   - -------------------------------------- 4.5/101.0 MB 1.6 MB/s eta 0:01:01\n",
      "   - -------------------------------------- 4.5/101.0 MB 1.6 MB/s eta 0:01:02\n",
      "   - -------------------------------------- 4.6/101.0 MB 1.6 MB/s eta 0:01:02\n",
      "   - -------------------------------------- 4.6/101.0 MB 1.6 MB/s eta 0:01:02\n",
      "   - -------------------------------------- 4.6/101.0 MB 1.6 MB/s eta 0:01:03\n",
      "   - -------------------------------------- 4.7/101.0 MB 1.5 MB/s eta 0:01:03\n",
      "   - -------------------------------------- 4.8/101.0 MB 1.5 MB/s eta 0:01:04\n",
      "   - -------------------------------------- 4.8/101.0 MB 1.5 MB/s eta 0:01:04\n",
      "   - -------------------------------------- 4.9/101.0 MB 1.5 MB/s eta 0:01:04\n",
      "   - -------------------------------------- 4.9/101.0 MB 1.5 MB/s eta 0:01:04\n",
      "   - -------------------------------------- 5.0/101.0 MB 1.5 MB/s eta 0:01:05\n",
      "   - -------------------------------------- 5.0/101.0 MB 1.5 MB/s eta 0:01:05\n",
      "   - -------------------------------------- 5.0/101.0 MB 1.5 MB/s eta 0:01:05\n",
      "   -- ------------------------------------- 5.1/101.0 MB 1.5 MB/s eta 0:01:06\n",
      "   -- ------------------------------------- 5.1/101.0 MB 1.5 MB/s eta 0:01:06\n",
      "   -- ------------------------------------- 5.2/101.0 MB 1.5 MB/s eta 0:01:06\n",
      "   -- ------------------------------------- 5.2/101.0 MB 1.5 MB/s eta 0:01:06\n",
      "   -- ------------------------------------- 5.3/101.0 MB 1.5 MB/s eta 0:01:06\n",
      "   -- ------------------------------------- 5.3/101.0 MB 1.4 MB/s eta 0:01:07\n",
      "   -- ------------------------------------- 5.4/101.0 MB 1.4 MB/s eta 0:01:07\n",
      "   -- ------------------------------------- 5.4/101.0 MB 1.4 MB/s eta 0:01:07\n",
      "   -- ------------------------------------- 5.5/101.0 MB 1.4 MB/s eta 0:01:07\n",
      "   -- ------------------------------------- 5.5/101.0 MB 1.4 MB/s eta 0:01:07\n",
      "   -- ------------------------------------- 5.5/101.0 MB 1.4 MB/s eta 0:01:08\n",
      "   -- ------------------------------------- 5.6/101.0 MB 1.4 MB/s eta 0:01:09\n",
      "   -- ------------------------------------- 5.6/101.0 MB 1.4 MB/s eta 0:01:09\n",
      "   -- ------------------------------------- 5.6/101.0 MB 1.4 MB/s eta 0:01:09\n",
      "   -- ------------------------------------- 5.7/101.0 MB 1.4 MB/s eta 0:01:10\n",
      "   -- ------------------------------------- 5.7/101.0 MB 1.4 MB/s eta 0:01:10\n",
      "   -- ------------------------------------- 5.7/101.0 MB 1.4 MB/s eta 0:01:10\n",
      "   -- ------------------------------------- 5.8/101.0 MB 1.4 MB/s eta 0:01:11\n",
      "   -- ------------------------------------- 5.8/101.0 MB 1.3 MB/s eta 0:01:11\n",
      "   -- ------------------------------------- 5.8/101.0 MB 1.3 MB/s eta 0:01:11\n",
      "   -- ------------------------------------- 5.9/101.0 MB 1.3 MB/s eta 0:01:11\n",
      "   -- ------------------------------------- 5.9/101.0 MB 1.3 MB/s eta 0:01:11\n",
      "   -- ------------------------------------- 6.0/101.0 MB 1.3 MB/s eta 0:01:12\n",
      "   -- ------------------------------------- 6.0/101.0 MB 1.3 MB/s eta 0:01:12\n",
      "   -- ------------------------------------- 6.1/101.0 MB 1.3 MB/s eta 0:01:12\n",
      "   -- ------------------------------------- 6.1/101.0 MB 1.3 MB/s eta 0:01:12\n",
      "   -- ------------------------------------- 6.2/101.0 MB 1.3 MB/s eta 0:01:12\n",
      "   -- ------------------------------------- 6.3/101.0 MB 1.3 MB/s eta 0:01:12\n",
      "   -- ------------------------------------- 6.3/101.0 MB 1.3 MB/s eta 0:01:12\n",
      "   -- ------------------------------------- 6.4/101.0 MB 1.3 MB/s eta 0:01:12\n",
      "   -- ------------------------------------- 6.4/101.0 MB 1.3 MB/s eta 0:01:12\n",
      "   -- ------------------------------------- 6.5/101.0 MB 1.3 MB/s eta 0:01:12\n",
      "   -- ------------------------------------- 6.5/101.0 MB 1.3 MB/s eta 0:01:12\n",
      "   -- ------------------------------------- 6.5/101.0 MB 1.3 MB/s eta 0:01:13\n",
      "   -- ------------------------------------- 6.6/101.0 MB 1.3 MB/s eta 0:01:13\n",
      "   -- ------------------------------------- 6.6/101.0 MB 1.3 MB/s eta 0:01:13\n",
      "   -- ------------------------------------- 6.6/101.0 MB 1.3 MB/s eta 0:01:13\n",
      "   -- ------------------------------------- 6.7/101.0 MB 1.3 MB/s eta 0:01:14\n",
      "   -- ------------------------------------- 6.7/101.0 MB 1.3 MB/s eta 0:01:14\n",
      "   -- ------------------------------------- 6.7/101.0 MB 1.3 MB/s eta 0:01:14\n",
      "   -- ------------------------------------- 6.7/101.0 MB 1.3 MB/s eta 0:01:15\n",
      "   -- ------------------------------------- 6.8/101.0 MB 1.3 MB/s eta 0:01:15\n",
      "   -- ------------------------------------- 6.8/101.0 MB 1.3 MB/s eta 0:01:15\n",
      "   -- ------------------------------------- 6.9/101.0 MB 1.3 MB/s eta 0:01:15\n",
      "   -- ------------------------------------- 6.9/101.0 MB 1.3 MB/s eta 0:01:15\n",
      "   -- ------------------------------------- 7.0/101.0 MB 1.3 MB/s eta 0:01:16\n",
      "   -- ------------------------------------- 7.0/101.0 MB 1.3 MB/s eta 0:01:16\n",
      "   -- ------------------------------------- 7.0/101.0 MB 1.2 MB/s eta 0:01:16\n",
      "   -- ------------------------------------- 7.1/101.0 MB 1.2 MB/s eta 0:01:16\n",
      "   -- ------------------------------------- 7.1/101.0 MB 1.2 MB/s eta 0:01:16\n",
      "   -- ------------------------------------- 7.2/101.0 MB 1.2 MB/s eta 0:01:16\n",
      "   -- ------------------------------------- 7.2/101.0 MB 1.2 MB/s eta 0:01:17\n",
      "   -- ------------------------------------- 7.2/101.0 MB 1.2 MB/s eta 0:01:17\n",
      "   -- ------------------------------------- 7.3/101.0 MB 1.2 MB/s eta 0:01:17\n",
      "   -- ------------------------------------- 7.3/101.0 MB 1.2 MB/s eta 0:01:17\n",
      "   -- ------------------------------------- 7.4/101.0 MB 1.2 MB/s eta 0:01:17\n",
      "   -- ------------------------------------- 7.4/101.0 MB 1.2 MB/s eta 0:01:17\n",
      "   -- ------------------------------------- 7.5/101.0 MB 1.2 MB/s eta 0:01:17\n",
      "   -- ------------------------------------- 7.5/101.0 MB 1.2 MB/s eta 0:01:17\n",
      "   -- ------------------------------------- 7.6/101.0 MB 1.2 MB/s eta 0:01:17\n",
      "   --- ------------------------------------ 7.6/101.0 MB 1.2 MB/s eta 0:01:17\n",
      "   --- ------------------------------------ 7.7/101.0 MB 1.2 MB/s eta 0:01:17\n",
      "   --- ------------------------------------ 7.7/101.0 MB 1.2 MB/s eta 0:01:17\n",
      "   --- ------------------------------------ 7.8/101.0 MB 1.2 MB/s eta 0:01:17\n",
      "   --- ------------------------------------ 7.8/101.0 MB 1.2 MB/s eta 0:01:17\n",
      "   --- ------------------------------------ 7.9/101.0 MB 1.2 MB/s eta 0:01:17\n",
      "   --- ------------------------------------ 7.9/101.0 MB 1.2 MB/s eta 0:01:17\n",
      "   --- ------------------------------------ 8.0/101.0 MB 1.2 MB/s eta 0:01:17\n",
      "   --- ------------------------------------ 8.0/101.0 MB 1.2 MB/s eta 0:01:17\n",
      "   --- ------------------------------------ 8.1/101.0 MB 1.2 MB/s eta 0:01:17\n",
      "   --- ------------------------------------ 8.1/101.0 MB 1.2 MB/s eta 0:01:17\n",
      "   --- ------------------------------------ 8.2/101.0 MB 1.2 MB/s eta 0:01:17\n",
      "   --- ------------------------------------ 8.3/101.0 MB 1.2 MB/s eta 0:01:17\n",
      "   --- ------------------------------------ 8.3/101.0 MB 1.2 MB/s eta 0:01:17\n",
      "   --- ------------------------------------ 8.4/101.0 MB 1.2 MB/s eta 0:01:17\n",
      "   --- ------------------------------------ 8.4/101.0 MB 1.2 MB/s eta 0:01:17\n",
      "   --- ------------------------------------ 8.5/101.0 MB 1.2 MB/s eta 0:01:17\n",
      "   --- ------------------------------------ 8.6/101.0 MB 1.2 MB/s eta 0:01:17\n",
      "   --- ------------------------------------ 8.7/101.0 MB 1.2 MB/s eta 0:01:16\n",
      "   --- ------------------------------------ 8.7/101.0 MB 1.2 MB/s eta 0:01:16\n",
      "   --- ------------------------------------ 8.8/101.0 MB 1.2 MB/s eta 0:01:16\n",
      "   --- ------------------------------------ 8.8/101.0 MB 1.2 MB/s eta 0:01:16\n",
      "   --- ------------------------------------ 8.9/101.0 MB 1.2 MB/s eta 0:01:16\n",
      "   --- ------------------------------------ 9.0/101.0 MB 1.2 MB/s eta 0:01:16\n",
      "   --- ------------------------------------ 9.1/101.0 MB 1.2 MB/s eta 0:01:15\n",
      "   --- ------------------------------------ 9.1/101.0 MB 1.2 MB/s eta 0:01:15\n",
      "   --- ------------------------------------ 9.2/101.0 MB 1.2 MB/s eta 0:01:15\n",
      "   --- ------------------------------------ 9.3/101.0 MB 1.2 MB/s eta 0:01:15\n",
      "   --- ------------------------------------ 9.3/101.0 MB 1.2 MB/s eta 0:01:15\n",
      "   --- ------------------------------------ 9.4/101.0 MB 1.2 MB/s eta 0:01:15\n",
      "   --- ------------------------------------ 9.5/101.0 MB 1.2 MB/s eta 0:01:14\n",
      "   --- ------------------------------------ 9.5/101.0 MB 1.2 MB/s eta 0:01:14\n",
      "   --- ------------------------------------ 9.6/101.0 MB 1.2 MB/s eta 0:01:14\n",
      "   --- ------------------------------------ 9.7/101.0 MB 1.2 MB/s eta 0:01:14\n",
      "   --- ------------------------------------ 9.8/101.0 MB 1.2 MB/s eta 0:01:14\n",
      "   --- ------------------------------------ 9.8/101.0 MB 1.2 MB/s eta 0:01:14\n",
      "   --- ------------------------------------ 9.9/101.0 MB 1.2 MB/s eta 0:01:13\n",
      "   --- ------------------------------------ 10.0/101.0 MB 1.3 MB/s eta 0:01:13\n",
      "   ---- ----------------------------------- 10.1/101.0 MB 1.3 MB/s eta 0:01:13\n",
      "   ---- ----------------------------------- 10.2/101.0 MB 1.3 MB/s eta 0:01:12\n",
      "   ---- ----------------------------------- 10.3/101.0 MB 1.3 MB/s eta 0:01:12\n",
      "   ---- ----------------------------------- 10.4/101.0 MB 1.3 MB/s eta 0:01:12\n",
      "   ---- ----------------------------------- 10.4/101.0 MB 1.3 MB/s eta 0:01:12\n",
      "   ---- ----------------------------------- 10.4/101.0 MB 1.3 MB/s eta 0:01:12\n",
      "   ---- ----------------------------------- 10.5/101.0 MB 1.2 MB/s eta 0:01:13\n",
      "   ---- ----------------------------------- 10.5/101.0 MB 1.2 MB/s eta 0:01:13\n",
      "   ---- ----------------------------------- 10.6/101.0 MB 1.2 MB/s eta 0:01:14\n",
      "   ---- ----------------------------------- 10.6/101.0 MB 1.2 MB/s eta 0:01:14\n",
      "   ---- ----------------------------------- 10.7/101.0 MB 1.2 MB/s eta 0:01:14\n",
      "   ---- ----------------------------------- 10.8/101.0 MB 1.2 MB/s eta 0:01:14\n",
      "   ---- ----------------------------------- 10.8/101.0 MB 1.2 MB/s eta 0:01:14\n",
      "   ---- ----------------------------------- 10.9/101.0 MB 1.2 MB/s eta 0:01:15\n",
      "   ---- ----------------------------------- 10.9/101.0 MB 1.2 MB/s eta 0:01:15\n",
      "   ---- ----------------------------------- 11.0/101.0 MB 1.2 MB/s eta 0:01:15\n",
      "   ---- ----------------------------------- 11.1/101.0 MB 1.2 MB/s eta 0:01:16\n",
      "   ---- ----------------------------------- 11.1/101.0 MB 1.2 MB/s eta 0:01:16\n",
      "   ---- ----------------------------------- 11.2/101.0 MB 1.2 MB/s eta 0:01:16\n",
      "   ---- ----------------------------------- 11.2/101.0 MB 1.2 MB/s eta 0:01:16\n",
      "   ---- ----------------------------------- 11.3/101.0 MB 1.2 MB/s eta 0:01:14\n",
      "   ---- ----------------------------------- 11.3/101.0 MB 1.2 MB/s eta 0:01:14\n",
      "   ---- ----------------------------------- 11.4/101.0 MB 1.2 MB/s eta 0:01:15\n",
      "   ---- ----------------------------------- 11.4/101.0 MB 1.2 MB/s eta 0:01:15\n",
      "   ---- ----------------------------------- 11.5/101.0 MB 1.2 MB/s eta 0:01:15\n",
      "   ---- ----------------------------------- 11.6/101.0 MB 1.2 MB/s eta 0:01:16\n",
      "   ---- ----------------------------------- 11.6/101.0 MB 1.2 MB/s eta 0:01:15\n",
      "   ---- ----------------------------------- 11.7/101.0 MB 1.2 MB/s eta 0:01:16\n",
      "   ---- ----------------------------------- 11.7/101.0 MB 1.2 MB/s eta 0:01:16\n",
      "   ---- ----------------------------------- 11.8/101.0 MB 1.2 MB/s eta 0:01:17\n",
      "   ---- ----------------------------------- 11.8/101.0 MB 1.2 MB/s eta 0:01:17\n",
      "   ---- ----------------------------------- 11.9/101.0 MB 1.2 MB/s eta 0:01:17\n",
      "   ---- ----------------------------------- 11.9/101.0 MB 1.2 MB/s eta 0:01:18\n",
      "   ---- ----------------------------------- 12.0/101.0 MB 1.2 MB/s eta 0:01:18\n",
      "   ---- ----------------------------------- 12.1/101.0 MB 1.1 MB/s eta 0:01:18\n",
      "   ---- ----------------------------------- 12.1/101.0 MB 1.1 MB/s eta 0:01:18\n",
      "   ---- ----------------------------------- 12.1/101.0 MB 1.1 MB/s eta 0:01:19\n",
      "   ---- ----------------------------------- 12.1/101.0 MB 1.1 MB/s eta 0:01:19\n",
      "   ---- ----------------------------------- 12.2/101.0 MB 1.1 MB/s eta 0:01:19\n",
      "   ---- ----------------------------------- 12.2/101.0 MB 1.1 MB/s eta 0:01:19\n",
      "   ---- ----------------------------------- 12.2/101.0 MB 1.1 MB/s eta 0:01:20\n",
      "   ---- ----------------------------------- 12.3/101.0 MB 1.1 MB/s eta 0:01:20\n",
      "   ---- ----------------------------------- 12.3/101.0 MB 1.1 MB/s eta 0:01:20\n",
      "   ---- ----------------------------------- 12.4/101.0 MB 1.1 MB/s eta 0:01:21\n",
      "   ---- ----------------------------------- 12.4/101.0 MB 1.1 MB/s eta 0:01:21\n",
      "   ---- ----------------------------------- 12.5/101.0 MB 1.1 MB/s eta 0:01:21\n",
      "   ---- ----------------------------------- 12.5/101.0 MB 1.1 MB/s eta 0:01:21\n",
      "   ---- ----------------------------------- 12.6/101.0 MB 1.1 MB/s eta 0:01:22\n",
      "   ---- ----------------------------------- 12.6/101.0 MB 1.1 MB/s eta 0:01:22\n",
      "   ----- ---------------------------------- 12.7/101.0 MB 1.1 MB/s eta 0:01:22\n",
      "   ----- ---------------------------------- 12.7/101.0 MB 1.1 MB/s eta 0:01:22\n",
      "   ----- ---------------------------------- 12.8/101.0 MB 1.1 MB/s eta 0:01:22\n",
      "   ----- ---------------------------------- 12.8/101.0 MB 1.1 MB/s eta 0:01:23\n",
      "   ----- ---------------------------------- 12.9/101.0 MB 1.1 MB/s eta 0:01:22\n",
      "   ----- ---------------------------------- 12.9/101.0 MB 1.1 MB/s eta 0:01:23\n",
      "   ----- ---------------------------------- 13.0/101.0 MB 1.1 MB/s eta 0:01:23\n",
      "   ----- ---------------------------------- 13.0/101.0 MB 1.1 MB/s eta 0:01:23\n",
      "   ----- ---------------------------------- 13.1/101.0 MB 1.1 MB/s eta 0:01:23\n",
      "   ----- ---------------------------------- 13.2/101.0 MB 1.1 MB/s eta 0:01:23\n",
      "   ----- ---------------------------------- 13.2/101.0 MB 1.1 MB/s eta 0:01:23\n",
      "   ----- ---------------------------------- 13.3/101.0 MB 1.1 MB/s eta 0:01:23\n",
      "   ----- ---------------------------------- 13.3/101.0 MB 1.1 MB/s eta 0:01:23\n",
      "   ----- ---------------------------------- 13.4/101.0 MB 1.1 MB/s eta 0:01:23\n",
      "   ----- ---------------------------------- 13.5/101.0 MB 1.1 MB/s eta 0:01:23\n",
      "   ----- ---------------------------------- 13.5/101.0 MB 1.1 MB/s eta 0:01:23\n",
      "   ----- ---------------------------------- 13.6/101.0 MB 1.1 MB/s eta 0:01:23\n",
      "   ----- ---------------------------------- 13.7/101.0 MB 1.1 MB/s eta 0:01:23\n",
      "   ----- ---------------------------------- 13.7/101.0 MB 1.1 MB/s eta 0:01:23\n",
      "   ----- ---------------------------------- 13.8/101.0 MB 1.1 MB/s eta 0:01:21\n",
      "   ----- ---------------------------------- 13.9/101.0 MB 1.1 MB/s eta 0:01:21\n",
      "   ----- ---------------------------------- 13.9/101.0 MB 1.1 MB/s eta 0:01:20\n",
      "   ----- ---------------------------------- 14.0/101.0 MB 1.1 MB/s eta 0:01:19\n",
      "   ----- ---------------------------------- 14.1/101.0 MB 1.1 MB/s eta 0:01:19\n",
      "   ----- ---------------------------------- 14.2/101.0 MB 1.1 MB/s eta 0:01:18\n",
      "   ----- ---------------------------------- 14.3/101.0 MB 1.1 MB/s eta 0:01:17\n",
      "   ----- ---------------------------------- 14.4/101.0 MB 1.1 MB/s eta 0:01:17\n",
      "   ----- ---------------------------------- 14.4/101.0 MB 1.1 MB/s eta 0:01:16\n",
      "   ----- ---------------------------------- 14.5/101.0 MB 1.1 MB/s eta 0:01:16\n",
      "   ----- ---------------------------------- 14.6/101.0 MB 1.1 MB/s eta 0:01:16\n",
      "   ----- ---------------------------------- 14.7/101.0 MB 1.1 MB/s eta 0:01:16\n",
      "   ----- ---------------------------------- 14.8/101.0 MB 1.2 MB/s eta 0:01:15\n",
      "   ----- ---------------------------------- 14.9/101.0 MB 1.2 MB/s eta 0:01:14\n",
      "   ----- ---------------------------------- 14.9/101.0 MB 1.2 MB/s eta 0:01:14\n",
      "   ----- ---------------------------------- 15.0/101.0 MB 1.2 MB/s eta 0:01:14\n",
      "   ----- ---------------------------------- 15.1/101.0 MB 1.2 MB/s eta 0:01:14\n",
      "   ------ --------------------------------- 15.2/101.0 MB 1.2 MB/s eta 0:01:13\n",
      "   ------ --------------------------------- 15.3/101.0 MB 1.2 MB/s eta 0:01:13\n",
      "   ------ --------------------------------- 15.3/101.0 MB 1.2 MB/s eta 0:01:12\n",
      "   ------ --------------------------------- 15.5/101.0 MB 1.2 MB/s eta 0:01:12\n",
      "   ------ --------------------------------- 15.5/101.0 MB 1.2 MB/s eta 0:01:11\n",
      "   ------ --------------------------------- 15.6/101.0 MB 1.2 MB/s eta 0:01:11\n",
      "   ------ --------------------------------- 15.7/101.0 MB 1.2 MB/s eta 0:01:11\n",
      "   ------ --------------------------------- 15.7/101.0 MB 1.2 MB/s eta 0:01:11\n",
      "   ------ --------------------------------- 15.8/101.0 MB 1.2 MB/s eta 0:01:10\n",
      "   ------ --------------------------------- 15.8/101.0 MB 1.2 MB/s eta 0:01:10\n",
      "   ------ --------------------------------- 15.9/101.0 MB 1.2 MB/s eta 0:01:10\n",
      "   ------ --------------------------------- 15.9/101.0 MB 1.2 MB/s eta 0:01:10\n",
      "   ------ --------------------------------- 16.0/101.0 MB 1.2 MB/s eta 0:01:10\n",
      "   ------ --------------------------------- 16.0/101.0 MB 1.2 MB/s eta 0:01:09\n",
      "   ------ --------------------------------- 16.1/101.0 MB 1.2 MB/s eta 0:01:09\n",
      "   ------ --------------------------------- 16.2/101.0 MB 1.2 MB/s eta 0:01:09\n",
      "   ------ --------------------------------- 16.2/101.0 MB 1.2 MB/s eta 0:01:09\n",
      "   ------ --------------------------------- 16.3/101.0 MB 1.2 MB/s eta 0:01:09\n",
      "   ------ --------------------------------- 16.3/101.0 MB 1.2 MB/s eta 0:01:09\n",
      "   ------ --------------------------------- 16.4/101.0 MB 1.2 MB/s eta 0:01:08\n",
      "   ------ --------------------------------- 16.5/101.0 MB 1.2 MB/s eta 0:01:09\n",
      "   ------ --------------------------------- 16.5/101.0 MB 1.2 MB/s eta 0:01:09\n",
      "   ------ --------------------------------- 16.6/101.0 MB 1.2 MB/s eta 0:01:08\n",
      "   ------ --------------------------------- 16.7/101.0 MB 1.2 MB/s eta 0:01:08\n",
      "   ------ --------------------------------- 16.7/101.0 MB 1.3 MB/s eta 0:01:08\n",
      "   ------ --------------------------------- 16.8/101.0 MB 1.3 MB/s eta 0:01:07\n",
      "   ------ --------------------------------- 16.9/101.0 MB 1.3 MB/s eta 0:01:07\n",
      "   ------ --------------------------------- 17.0/101.0 MB 1.3 MB/s eta 0:01:06\n",
      "   ------ --------------------------------- 17.0/101.0 MB 1.3 MB/s eta 0:01:06\n",
      "   ------ --------------------------------- 17.1/101.0 MB 1.3 MB/s eta 0:01:05\n",
      "   ------ --------------------------------- 17.1/101.0 MB 1.3 MB/s eta 0:01:05\n",
      "   ------ --------------------------------- 17.2/101.0 MB 1.3 MB/s eta 0:01:05\n",
      "   ------ --------------------------------- 17.3/101.0 MB 1.3 MB/s eta 0:01:04\n",
      "   ------ --------------------------------- 17.4/101.0 MB 1.3 MB/s eta 0:01:04\n",
      "   ------ --------------------------------- 17.4/101.0 MB 1.3 MB/s eta 0:01:03\n",
      "   ------ --------------------------------- 17.5/101.0 MB 1.3 MB/s eta 0:01:03\n",
      "   ------ --------------------------------- 17.6/101.0 MB 1.3 MB/s eta 0:01:03\n",
      "   ------ --------------------------------- 17.6/101.0 MB 1.3 MB/s eta 0:01:03\n",
      "   ------- -------------------------------- 17.7/101.0 MB 1.3 MB/s eta 0:01:03\n",
      "   ------- -------------------------------- 17.8/101.0 MB 1.3 MB/s eta 0:01:03\n",
      "   ------- -------------------------------- 17.8/101.0 MB 1.3 MB/s eta 0:01:02\n",
      "   ------- -------------------------------- 17.9/101.0 MB 1.3 MB/s eta 0:01:02\n",
      "   ------- -------------------------------- 18.0/101.0 MB 1.3 MB/s eta 0:01:02\n",
      "   ------- -------------------------------- 18.0/101.0 MB 1.4 MB/s eta 0:01:02\n",
      "   ------- -------------------------------- 18.1/101.0 MB 1.4 MB/s eta 0:01:02\n",
      "   ------- -------------------------------- 18.1/101.0 MB 1.4 MB/s eta 0:01:02\n",
      "   ------- -------------------------------- 18.2/101.0 MB 1.4 MB/s eta 0:01:01\n",
      "   ------- -------------------------------- 18.3/101.0 MB 1.4 MB/s eta 0:01:01\n",
      "   ------- -------------------------------- 18.4/101.0 MB 1.4 MB/s eta 0:01:01\n",
      "   ------- -------------------------------- 18.4/101.0 MB 1.4 MB/s eta 0:01:01\n",
      "   ------- -------------------------------- 18.5/101.0 MB 1.4 MB/s eta 0:01:01\n",
      "   ------- -------------------------------- 18.6/101.0 MB 1.4 MB/s eta 0:01:01\n",
      "   ------- -------------------------------- 18.7/101.0 MB 1.4 MB/s eta 0:01:01\n",
      "   ------- -------------------------------- 18.7/101.0 MB 1.4 MB/s eta 0:01:01\n",
      "   ------- -------------------------------- 18.8/101.0 MB 1.4 MB/s eta 0:01:01\n",
      "   ------- -------------------------------- 18.9/101.0 MB 1.4 MB/s eta 0:01:00\n",
      "   ------- -------------------------------- 19.0/101.0 MB 1.4 MB/s eta 0:01:00\n",
      "   ------- -------------------------------- 19.0/101.0 MB 1.4 MB/s eta 0:01:00\n",
      "   ------- -------------------------------- 19.1/101.0 MB 1.4 MB/s eta 0:01:00\n",
      "   ------- -------------------------------- 19.1/101.0 MB 1.4 MB/s eta 0:01:00\n",
      "   ------- -------------------------------- 19.2/101.0 MB 1.4 MB/s eta 0:01:00\n",
      "   ------- -------------------------------- 19.3/101.0 MB 1.4 MB/s eta 0:01:00\n",
      "   ------- -------------------------------- 19.3/101.0 MB 1.4 MB/s eta 0:01:00\n",
      "   ------- -------------------------------- 19.4/101.0 MB 1.4 MB/s eta 0:01:00\n",
      "   ------- -------------------------------- 19.5/101.0 MB 1.4 MB/s eta 0:01:00\n",
      "   ------- -------------------------------- 19.5/101.0 MB 1.4 MB/s eta 0:01:00\n",
      "   ------- -------------------------------- 19.6/101.0 MB 1.4 MB/s eta 0:01:00\n",
      "   ------- -------------------------------- 19.7/101.0 MB 1.4 MB/s eta 0:01:00\n",
      "   ------- -------------------------------- 19.7/101.0 MB 1.4 MB/s eta 0:01:00\n",
      "   ------- -------------------------------- 19.8/101.0 MB 1.4 MB/s eta 0:01:00\n",
      "   ------- -------------------------------- 19.9/101.0 MB 1.4 MB/s eta 0:01:00\n",
      "   ------- -------------------------------- 19.9/101.0 MB 1.4 MB/s eta 0:01:00\n",
      "   ------- -------------------------------- 20.0/101.0 MB 1.4 MB/s eta 0:01:00\n",
      "   ------- -------------------------------- 20.0/101.0 MB 1.4 MB/s eta 0:01:00\n",
      "   ------- -------------------------------- 20.2/101.0 MB 1.4 MB/s eta 0:01:00\n",
      "   ------- -------------------------------- 20.2/101.0 MB 1.4 MB/s eta 0:01:00\n",
      "   -------- ------------------------------- 20.2/101.0 MB 1.4 MB/s eta 0:01:00\n",
      "   -------- ------------------------------- 20.3/101.0 MB 1.4 MB/s eta 0:01:00\n",
      "   -------- ------------------------------- 20.3/101.0 MB 1.3 MB/s eta 0:01:00\n",
      "   -------- ------------------------------- 20.4/101.0 MB 1.3 MB/s eta 0:01:00\n",
      "   -------- ------------------------------- 20.4/101.0 MB 1.3 MB/s eta 0:01:00\n",
      "   -------- ------------------------------- 20.5/101.0 MB 1.3 MB/s eta 0:01:00\n",
      "   -------- ------------------------------- 20.6/101.0 MB 1.3 MB/s eta 0:01:01\n",
      "   -------- ------------------------------- 20.6/101.0 MB 1.3 MB/s eta 0:01:01\n",
      "   -------- ------------------------------- 20.7/101.0 MB 1.4 MB/s eta 0:01:00\n",
      "   -------- ------------------------------- 20.7/101.0 MB 1.3 MB/s eta 0:01:00\n",
      "   -------- ------------------------------- 20.8/101.0 MB 1.3 MB/s eta 0:01:00\n",
      "   -------- ------------------------------- 20.9/101.0 MB 1.4 MB/s eta 0:01:00\n",
      "   -------- ------------------------------- 20.9/101.0 MB 1.4 MB/s eta 0:01:00\n",
      "   -------- ------------------------------- 21.0/101.0 MB 1.3 MB/s eta 0:01:00\n",
      "   -------- ------------------------------- 21.1/101.0 MB 1.3 MB/s eta 0:01:00\n",
      "   -------- ------------------------------- 21.1/101.0 MB 1.3 MB/s eta 0:01:00\n",
      "   -------- ------------------------------- 21.2/101.0 MB 1.3 MB/s eta 0:01:00\n",
      "   -------- ------------------------------- 21.3/101.0 MB 1.3 MB/s eta 0:01:00\n",
      "   -------- ------------------------------- 21.3/101.0 MB 1.4 MB/s eta 0:00:59\n",
      "   -------- ------------------------------- 21.4/101.0 MB 1.4 MB/s eta 0:00:59\n",
      "   -------- ------------------------------- 21.5/101.0 MB 1.4 MB/s eta 0:00:59\n",
      "   -------- ------------------------------- 21.6/101.0 MB 1.4 MB/s eta 0:00:59\n",
      "   -------- ------------------------------- 21.6/101.0 MB 1.4 MB/s eta 0:00:58\n",
      "   -------- ------------------------------- 21.7/101.0 MB 1.4 MB/s eta 0:00:58\n",
      "   -------- ------------------------------- 21.8/101.0 MB 1.4 MB/s eta 0:00:58\n",
      "   -------- ------------------------------- 21.9/101.0 MB 1.4 MB/s eta 0:00:58\n",
      "   -------- ------------------------------- 22.0/101.0 MB 1.4 MB/s eta 0:00:58\n",
      "   -------- ------------------------------- 22.1/101.0 MB 1.4 MB/s eta 0:00:57\n",
      "   -------- ------------------------------- 22.1/101.0 MB 1.4 MB/s eta 0:00:57\n",
      "   -------- ------------------------------- 22.3/101.0 MB 1.4 MB/s eta 0:00:56\n",
      "   -------- ------------------------------- 22.3/101.0 MB 1.4 MB/s eta 0:00:56\n",
      "   -------- ------------------------------- 22.4/101.0 MB 1.4 MB/s eta 0:00:55\n",
      "   -------- ------------------------------- 22.5/101.0 MB 1.4 MB/s eta 0:00:55\n",
      "   -------- ------------------------------- 22.6/101.0 MB 1.5 MB/s eta 0:00:54\n",
      "   -------- ------------------------------- 22.7/101.0 MB 1.5 MB/s eta 0:00:54\n",
      "   --------- ------------------------------ 22.8/101.0 MB 1.5 MB/s eta 0:00:54\n",
      "   --------- ------------------------------ 22.8/101.0 MB 1.5 MB/s eta 0:00:53\n",
      "   --------- ------------------------------ 22.9/101.0 MB 1.5 MB/s eta 0:00:53\n",
      "   --------- ------------------------------ 23.0/101.0 MB 1.5 MB/s eta 0:00:53\n",
      "   --------- ------------------------------ 23.0/101.0 MB 1.5 MB/s eta 0:00:53\n",
      "   --------- ------------------------------ 23.1/101.0 MB 1.5 MB/s eta 0:00:53\n",
      "   --------- ------------------------------ 23.2/101.0 MB 1.5 MB/s eta 0:00:53\n",
      "   --------- ------------------------------ 23.2/101.0 MB 1.5 MB/s eta 0:00:53\n",
      "   --------- ------------------------------ 23.3/101.0 MB 1.5 MB/s eta 0:00:53\n",
      "   --------- ------------------------------ 23.3/101.0 MB 1.5 MB/s eta 0:00:53\n",
      "   --------- ------------------------------ 23.4/101.0 MB 1.5 MB/s eta 0:00:53\n",
      "   --------- ------------------------------ 23.4/101.0 MB 1.5 MB/s eta 0:00:53\n",
      "   --------- ------------------------------ 23.5/101.0 MB 1.5 MB/s eta 0:00:53\n",
      "   --------- ------------------------------ 23.6/101.0 MB 1.5 MB/s eta 0:00:53\n",
      "   --------- ------------------------------ 23.6/101.0 MB 1.5 MB/s eta 0:00:53\n",
      "   --------- ------------------------------ 23.7/101.0 MB 1.5 MB/s eta 0:00:53\n",
      "   --------- ------------------------------ 23.7/101.0 MB 1.5 MB/s eta 0:00:53\n",
      "   --------- ------------------------------ 23.8/101.0 MB 1.5 MB/s eta 0:00:53\n",
      "   --------- ------------------------------ 23.8/101.0 MB 1.5 MB/s eta 0:00:53\n",
      "   --------- ------------------------------ 23.9/101.0 MB 1.5 MB/s eta 0:00:53\n",
      "   --------- ------------------------------ 24.0/101.0 MB 1.5 MB/s eta 0:00:53\n",
      "   --------- ------------------------------ 24.0/101.0 MB 1.5 MB/s eta 0:00:53\n",
      "   --------- ------------------------------ 24.0/101.0 MB 1.5 MB/s eta 0:00:53\n",
      "   --------- ------------------------------ 24.1/101.0 MB 1.5 MB/s eta 0:00:53\n",
      "   --------- ------------------------------ 24.2/101.0 MB 1.5 MB/s eta 0:00:53\n",
      "   --------- ------------------------------ 24.2/101.0 MB 1.5 MB/s eta 0:00:53\n",
      "   --------- ------------------------------ 24.3/101.0 MB 1.5 MB/s eta 0:00:53\n",
      "   --------- ------------------------------ 24.3/101.0 MB 1.5 MB/s eta 0:00:53\n",
      "   --------- ------------------------------ 24.4/101.0 MB 1.5 MB/s eta 0:00:53\n",
      "   --------- ------------------------------ 24.4/101.0 MB 1.5 MB/s eta 0:00:53\n",
      "   --------- ------------------------------ 24.5/101.0 MB 1.4 MB/s eta 0:00:53\n",
      "   --------- ------------------------------ 24.6/101.0 MB 1.4 MB/s eta 0:00:53\n",
      "   --------- ------------------------------ 24.6/101.0 MB 1.4 MB/s eta 0:00:53\n",
      "   --------- ------------------------------ 24.7/101.0 MB 1.4 MB/s eta 0:00:54\n",
      "   --------- ------------------------------ 24.7/101.0 MB 1.4 MB/s eta 0:00:54\n",
      "   --------- ------------------------------ 24.8/101.0 MB 1.4 MB/s eta 0:00:53\n",
      "   --------- ------------------------------ 24.9/101.0 MB 1.4 MB/s eta 0:00:54\n",
      "   --------- ------------------------------ 24.9/101.0 MB 1.4 MB/s eta 0:00:54\n",
      "   --------- ------------------------------ 24.9/101.0 MB 1.4 MB/s eta 0:00:54\n",
      "   --------- ------------------------------ 25.0/101.0 MB 1.4 MB/s eta 0:00:54\n",
      "   --------- ------------------------------ 25.0/101.0 MB 1.4 MB/s eta 0:00:54\n",
      "   --------- ------------------------------ 25.1/101.0 MB 1.4 MB/s eta 0:00:54\n",
      "   --------- ------------------------------ 25.2/101.0 MB 1.4 MB/s eta 0:00:54\n",
      "   --------- ------------------------------ 25.2/101.0 MB 1.4 MB/s eta 0:00:54\n",
      "   ---------- ----------------------------- 25.3/101.0 MB 1.4 MB/s eta 0:00:54\n",
      "   ---------- ----------------------------- 25.3/101.0 MB 1.4 MB/s eta 0:00:54\n",
      "   ---------- ----------------------------- 25.4/101.0 MB 1.4 MB/s eta 0:00:54\n",
      "   ---------- ----------------------------- 25.4/101.0 MB 1.4 MB/s eta 0:00:55\n",
      "   ---------- ----------------------------- 25.5/101.0 MB 1.4 MB/s eta 0:00:55\n",
      "   ---------- ----------------------------- 25.6/101.0 MB 1.4 MB/s eta 0:00:55\n",
      "   ---------- ----------------------------- 25.6/101.0 MB 1.4 MB/s eta 0:00:55\n",
      "   ---------- ----------------------------- 25.7/101.0 MB 1.4 MB/s eta 0:00:55\n",
      "   ---------- ----------------------------- 25.7/101.0 MB 1.4 MB/s eta 0:00:55\n",
      "   ---------- ----------------------------- 25.8/101.0 MB 1.4 MB/s eta 0:00:55\n",
      "   ---------- ----------------------------- 25.9/101.0 MB 1.4 MB/s eta 0:00:55\n",
      "   ---------- ----------------------------- 25.9/101.0 MB 1.4 MB/s eta 0:00:55\n",
      "   ---------- ----------------------------- 26.0/101.0 MB 1.4 MB/s eta 0:00:55\n",
      "   ---------- ----------------------------- 26.1/101.0 MB 1.4 MB/s eta 0:00:55\n",
      "   ---------- ----------------------------- 26.1/101.0 MB 1.4 MB/s eta 0:00:54\n",
      "   ---------- ----------------------------- 26.2/101.0 MB 1.4 MB/s eta 0:00:54\n",
      "   ---------- ----------------------------- 26.2/101.0 MB 1.4 MB/s eta 0:00:54\n",
      "   ---------- ----------------------------- 26.3/101.0 MB 1.4 MB/s eta 0:00:54\n",
      "   ---------- ----------------------------- 26.3/101.0 MB 1.4 MB/s eta 0:00:54\n",
      "   ---------- ----------------------------- 26.4/101.0 MB 1.4 MB/s eta 0:00:54\n",
      "   ---------- ----------------------------- 26.4/101.0 MB 1.4 MB/s eta 0:00:54\n",
      "   ---------- ----------------------------- 26.5/101.0 MB 1.4 MB/s eta 0:00:54\n",
      "   ---------- ----------------------------- 26.5/101.0 MB 1.4 MB/s eta 0:00:54\n",
      "   ---------- ----------------------------- 26.6/101.0 MB 1.4 MB/s eta 0:00:54\n",
      "   ---------- ----------------------------- 26.7/101.0 MB 1.4 MB/s eta 0:00:54\n",
      "   ---------- ----------------------------- 26.7/101.0 MB 1.4 MB/s eta 0:00:54\n",
      "   ---------- ----------------------------- 26.8/101.0 MB 1.4 MB/s eta 0:00:54\n",
      "   ---------- ----------------------------- 26.8/101.0 MB 1.4 MB/s eta 0:00:54\n",
      "   ---------- ----------------------------- 26.9/101.0 MB 1.4 MB/s eta 0:00:54\n",
      "   ---------- ----------------------------- 26.9/101.0 MB 1.4 MB/s eta 0:00:54\n",
      "   ---------- ----------------------------- 27.0/101.0 MB 1.4 MB/s eta 0:00:55\n",
      "   ---------- ----------------------------- 27.0/101.0 MB 1.4 MB/s eta 0:00:55\n",
      "   ---------- ----------------------------- 27.1/101.0 MB 1.4 MB/s eta 0:00:55\n",
      "   ---------- ----------------------------- 27.1/101.0 MB 1.4 MB/s eta 0:00:55\n",
      "   ---------- ----------------------------- 27.2/101.0 MB 1.4 MB/s eta 0:00:55\n",
      "   ---------- ----------------------------- 27.2/101.0 MB 1.4 MB/s eta 0:00:55\n",
      "   ---------- ----------------------------- 27.2/101.0 MB 1.3 MB/s eta 0:00:55\n",
      "   ---------- ----------------------------- 27.3/101.0 MB 1.3 MB/s eta 0:00:55\n",
      "   ---------- ----------------------------- 27.3/101.0 MB 1.3 MB/s eta 0:00:55\n",
      "   ---------- ----------------------------- 27.3/101.0 MB 1.3 MB/s eta 0:00:56\n",
      "   ---------- ----------------------------- 27.4/101.0 MB 1.3 MB/s eta 0:00:56\n",
      "   ---------- ----------------------------- 27.4/101.0 MB 1.3 MB/s eta 0:00:56\n",
      "   ---------- ----------------------------- 27.5/101.0 MB 1.3 MB/s eta 0:00:56\n",
      "   ---------- ----------------------------- 27.5/101.0 MB 1.3 MB/s eta 0:00:56\n",
      "   ---------- ----------------------------- 27.6/101.0 MB 1.3 MB/s eta 0:00:56\n",
      "   ---------- ----------------------------- 27.6/101.0 MB 1.3 MB/s eta 0:00:56\n",
      "   ---------- ----------------------------- 27.6/101.0 MB 1.3 MB/s eta 0:00:56\n",
      "   ---------- ----------------------------- 27.7/101.0 MB 1.3 MB/s eta 0:00:56\n",
      "   ---------- ----------------------------- 27.8/101.0 MB 1.3 MB/s eta 0:00:56\n",
      "   ----------- ---------------------------- 27.8/101.0 MB 1.3 MB/s eta 0:00:57\n",
      "   ----------- ---------------------------- 27.9/101.0 MB 1.3 MB/s eta 0:00:56\n",
      "   ----------- ---------------------------- 27.9/101.0 MB 1.3 MB/s eta 0:00:56\n",
      "   ----------- ---------------------------- 27.9/101.0 MB 1.3 MB/s eta 0:00:56\n",
      "   ----------- ---------------------------- 28.0/101.0 MB 1.3 MB/s eta 0:00:56\n",
      "   ----------- ---------------------------- 28.1/101.0 MB 1.3 MB/s eta 0:00:56\n",
      "   ----------- ---------------------------- 28.1/101.0 MB 1.3 MB/s eta 0:00:57\n",
      "   ----------- ---------------------------- 28.2/101.0 MB 1.3 MB/s eta 0:00:56\n",
      "   ----------- ---------------------------- 28.2/101.0 MB 1.3 MB/s eta 0:00:56\n",
      "   ----------- ---------------------------- 28.3/101.0 MB 1.3 MB/s eta 0:00:56\n",
      "   ----------- ---------------------------- 28.3/101.0 MB 1.3 MB/s eta 0:00:56\n",
      "   ----------- ---------------------------- 28.4/101.0 MB 1.3 MB/s eta 0:00:56\n",
      "   ----------- ---------------------------- 28.5/101.0 MB 1.3 MB/s eta 0:00:56\n",
      "   ----------- ---------------------------- 28.5/101.0 MB 1.3 MB/s eta 0:00:56\n",
      "   ----------- ---------------------------- 28.6/101.0 MB 1.3 MB/s eta 0:00:56\n",
      "   ----------- ---------------------------- 28.6/101.0 MB 1.3 MB/s eta 0:00:57\n",
      "   ----------- ---------------------------- 28.7/101.0 MB 1.3 MB/s eta 0:00:57\n",
      "   ----------- ---------------------------- 28.7/101.0 MB 1.3 MB/s eta 0:00:57\n",
      "   ----------- ---------------------------- 28.7/101.0 MB 1.3 MB/s eta 0:00:57\n",
      "   ----------- ---------------------------- 28.7/101.0 MB 1.3 MB/s eta 0:00:57\n",
      "   ----------- ---------------------------- 28.8/101.0 MB 1.3 MB/s eta 0:00:57\n",
      "   ----------- ---------------------------- 28.8/101.0 MB 1.3 MB/s eta 0:00:57\n",
      "   ----------- ---------------------------- 28.9/101.0 MB 1.3 MB/s eta 0:00:57\n",
      "   ----------- ---------------------------- 28.9/101.0 MB 1.3 MB/s eta 0:00:58\n",
      "   ----------- ---------------------------- 28.9/101.0 MB 1.3 MB/s eta 0:00:58\n",
      "   ----------- ---------------------------- 29.0/101.0 MB 1.3 MB/s eta 0:00:58\n",
      "   ----------- ---------------------------- 29.0/101.0 MB 1.3 MB/s eta 0:00:58\n",
      "   ----------- ---------------------------- 29.1/101.0 MB 1.2 MB/s eta 0:00:58\n",
      "   ----------- ---------------------------- 29.1/101.0 MB 1.2 MB/s eta 0:00:58\n",
      "   ----------- ---------------------------- 29.2/101.0 MB 1.2 MB/s eta 0:00:58\n",
      "   ----------- ---------------------------- 29.2/101.0 MB 1.2 MB/s eta 0:00:58\n",
      "   ----------- ---------------------------- 29.3/101.0 MB 1.2 MB/s eta 0:00:58\n",
      "   ----------- ---------------------------- 29.3/101.0 MB 1.2 MB/s eta 0:00:58\n",
      "   ----------- ---------------------------- 29.3/101.0 MB 1.2 MB/s eta 0:00:59\n",
      "   ----------- ---------------------------- 29.4/101.0 MB 1.2 MB/s eta 0:00:58\n",
      "   ----------- ---------------------------- 29.4/101.0 MB 1.2 MB/s eta 0:00:59\n",
      "   ----------- ---------------------------- 29.5/101.0 MB 1.2 MB/s eta 0:00:59\n",
      "   ----------- ---------------------------- 29.5/101.0 MB 1.2 MB/s eta 0:00:59\n",
      "   ----------- ---------------------------- 29.5/101.0 MB 1.2 MB/s eta 0:00:59\n",
      "   ----------- ---------------------------- 29.6/101.0 MB 1.2 MB/s eta 0:00:59\n",
      "   ----------- ---------------------------- 29.6/101.0 MB 1.2 MB/s eta 0:00:59\n",
      "   ----------- ---------------------------- 29.7/101.0 MB 1.2 MB/s eta 0:00:59\n",
      "   ----------- ---------------------------- 29.7/101.0 MB 1.2 MB/s eta 0:00:59\n",
      "   ----------- ---------------------------- 29.7/101.0 MB 1.2 MB/s eta 0:00:59\n",
      "   ----------- ---------------------------- 29.8/101.0 MB 1.2 MB/s eta 0:01:00\n",
      "   ----------- ---------------------------- 29.8/101.0 MB 1.2 MB/s eta 0:01:00\n",
      "   ----------- ---------------------------- 29.9/101.0 MB 1.2 MB/s eta 0:01:00\n",
      "   ----------- ---------------------------- 29.9/101.0 MB 1.2 MB/s eta 0:01:00\n",
      "   ----------- ---------------------------- 30.0/101.0 MB 1.2 MB/s eta 0:01:00\n",
      "   ----------- ---------------------------- 30.0/101.0 MB 1.2 MB/s eta 0:01:00\n",
      "   ----------- ---------------------------- 30.1/101.0 MB 1.2 MB/s eta 0:01:00\n",
      "   ----------- ---------------------------- 30.1/101.0 MB 1.2 MB/s eta 0:01:00\n",
      "   ----------- ---------------------------- 30.2/101.0 MB 1.2 MB/s eta 0:01:00\n",
      "   ----------- ---------------------------- 30.2/101.0 MB 1.2 MB/s eta 0:01:00\n",
      "   ----------- ---------------------------- 30.3/101.0 MB 1.2 MB/s eta 0:01:00\n",
      "   ------------ --------------------------- 30.3/101.0 MB 1.2 MB/s eta 0:01:00\n",
      "   ------------ --------------------------- 30.4/101.0 MB 1.2 MB/s eta 0:01:00\n",
      "   ------------ --------------------------- 30.5/101.0 MB 1.2 MB/s eta 0:01:00\n",
      "   ------------ --------------------------- 30.5/101.0 MB 1.2 MB/s eta 0:01:00\n",
      "   ------------ --------------------------- 30.5/101.0 MB 1.2 MB/s eta 0:01:00\n",
      "   ------------ --------------------------- 30.6/101.0 MB 1.2 MB/s eta 0:01:00\n",
      "   ------------ --------------------------- 30.6/101.0 MB 1.2 MB/s eta 0:01:00\n",
      "   ------------ --------------------------- 30.6/101.0 MB 1.2 MB/s eta 0:01:00\n",
      "   ------------ --------------------------- 30.7/101.0 MB 1.2 MB/s eta 0:01:00\n",
      "   ------------ --------------------------- 30.7/101.0 MB 1.2 MB/s eta 0:01:00\n",
      "   ------------ --------------------------- 30.7/101.0 MB 1.2 MB/s eta 0:01:00\n",
      "   ------------ --------------------------- 30.8/101.0 MB 1.2 MB/s eta 0:01:01\n",
      "   ------------ --------------------------- 30.8/101.0 MB 1.2 MB/s eta 0:01:01\n",
      "   ------------ --------------------------- 30.9/101.0 MB 1.2 MB/s eta 0:01:01\n",
      "   ------------ --------------------------- 30.9/101.0 MB 1.2 MB/s eta 0:01:01\n",
      "   ------------ --------------------------- 30.9/101.0 MB 1.2 MB/s eta 0:01:01\n",
      "   ------------ --------------------------- 31.0/101.0 MB 1.2 MB/s eta 0:01:01\n",
      "   ------------ --------------------------- 31.0/101.0 MB 1.2 MB/s eta 0:01:01\n",
      "   ------------ --------------------------- 31.0/101.0 MB 1.2 MB/s eta 0:01:01\n",
      "   ------------ --------------------------- 31.1/101.0 MB 1.2 MB/s eta 0:01:01\n",
      "   ------------ --------------------------- 31.1/101.0 MB 1.2 MB/s eta 0:01:01\n",
      "   ------------ --------------------------- 31.2/101.0 MB 1.2 MB/s eta 0:01:01\n",
      "   ------------ --------------------------- 31.3/101.0 MB 1.2 MB/s eta 0:01:01\n",
      "   ------------ --------------------------- 31.3/101.0 MB 1.2 MB/s eta 0:01:01\n",
      "   ------------ --------------------------- 31.4/101.0 MB 1.1 MB/s eta 0:01:01\n",
      "   ------------ --------------------------- 31.4/101.0 MB 1.1 MB/s eta 0:01:01\n",
      "   ------------ --------------------------- 31.5/101.0 MB 1.1 MB/s eta 0:01:01\n",
      "   ------------ --------------------------- 31.5/101.0 MB 1.1 MB/s eta 0:01:01\n",
      "   ------------ --------------------------- 31.6/101.0 MB 1.1 MB/s eta 0:01:01\n",
      "   ------------ --------------------------- 31.6/101.0 MB 1.1 MB/s eta 0:01:01\n",
      "   ------------ --------------------------- 31.7/101.0 MB 1.1 MB/s eta 0:01:01\n",
      "   ------------ --------------------------- 31.7/101.0 MB 1.1 MB/s eta 0:01:01\n",
      "   ------------ --------------------------- 31.8/101.0 MB 1.1 MB/s eta 0:01:01\n",
      "   ------------ --------------------------- 31.9/101.0 MB 1.1 MB/s eta 0:01:01\n",
      "   ------------ --------------------------- 31.9/101.0 MB 1.1 MB/s eta 0:01:01\n",
      "   ------------ --------------------------- 32.0/101.0 MB 1.1 MB/s eta 0:01:01\n",
      "   ------------ --------------------------- 32.1/101.0 MB 1.1 MB/s eta 0:01:01\n",
      "   ------------ --------------------------- 32.1/101.0 MB 1.1 MB/s eta 0:01:01\n",
      "   ------------ --------------------------- 32.2/101.0 MB 1.1 MB/s eta 0:01:02\n",
      "   ------------ --------------------------- 32.2/101.0 MB 1.1 MB/s eta 0:01:02\n",
      "   ------------ --------------------------- 32.3/101.0 MB 1.1 MB/s eta 0:01:02\n",
      "   ------------ --------------------------- 32.3/101.0 MB 1.1 MB/s eta 0:01:02\n",
      "   ------------ --------------------------- 32.3/101.0 MB 1.1 MB/s eta 0:01:02\n",
      "   ------------ --------------------------- 32.4/101.0 MB 1.1 MB/s eta 0:01:02\n",
      "   ------------ --------------------------- 32.5/101.0 MB 1.1 MB/s eta 0:01:02\n",
      "   ------------ --------------------------- 32.5/101.0 MB 1.1 MB/s eta 0:01:02\n",
      "   ------------ --------------------------- 32.6/101.0 MB 1.1 MB/s eta 0:01:02\n",
      "   ------------ --------------------------- 32.6/101.0 MB 1.1 MB/s eta 0:01:02\n",
      "   ------------ --------------------------- 32.7/101.0 MB 1.1 MB/s eta 0:01:02\n",
      "   ------------ --------------------------- 32.7/101.0 MB 1.1 MB/s eta 0:01:02\n",
      "   ------------ --------------------------- 32.8/101.0 MB 1.1 MB/s eta 0:01:02\n",
      "   ------------- -------------------------- 32.8/101.0 MB 1.1 MB/s eta 0:01:03\n",
      "   ------------- -------------------------- 32.9/101.0 MB 1.1 MB/s eta 0:01:03\n",
      "   ------------- -------------------------- 32.9/101.0 MB 1.1 MB/s eta 0:01:03\n",
      "   ------------- -------------------------- 33.0/101.0 MB 1.1 MB/s eta 0:01:03\n",
      "   ------------- -------------------------- 33.0/101.0 MB 1.1 MB/s eta 0:01:03\n",
      "   ------------- -------------------------- 33.1/101.0 MB 1.1 MB/s eta 0:01:03\n",
      "   ------------- -------------------------- 33.1/101.0 MB 1.1 MB/s eta 0:01:03\n",
      "   ------------- -------------------------- 33.2/101.0 MB 1.1 MB/s eta 0:01:03\n",
      "   ------------- -------------------------- 33.2/101.0 MB 1.1 MB/s eta 0:01:03\n",
      "   ------------- -------------------------- 33.3/101.0 MB 1.1 MB/s eta 0:01:03\n",
      "   ------------- -------------------------- 33.3/101.0 MB 1.1 MB/s eta 0:01:03\n",
      "   ------------- -------------------------- 33.4/101.0 MB 1.1 MB/s eta 0:01:03\n",
      "   ------------- -------------------------- 33.4/101.0 MB 1.1 MB/s eta 0:01:03\n",
      "   ------------- -------------------------- 33.5/101.0 MB 1.1 MB/s eta 0:01:03\n",
      "   ------------- -------------------------- 33.5/101.0 MB 1.1 MB/s eta 0:01:03\n",
      "   ------------- -------------------------- 33.6/101.0 MB 1.1 MB/s eta 0:01:03\n",
      "   ------------- -------------------------- 33.7/101.0 MB 1.1 MB/s eta 0:01:03\n",
      "   ------------- -------------------------- 33.7/101.0 MB 1.1 MB/s eta 0:01:03\n",
      "   ------------- -------------------------- 33.8/101.0 MB 1.1 MB/s eta 0:01:03\n",
      "   ------------- -------------------------- 33.8/101.0 MB 1.1 MB/s eta 0:01:03\n",
      "   ------------- -------------------------- 33.9/101.0 MB 1.1 MB/s eta 0:01:03\n",
      "   ------------- -------------------------- 34.0/101.0 MB 1.1 MB/s eta 0:01:02\n",
      "   ------------- -------------------------- 34.0/101.0 MB 1.1 MB/s eta 0:01:02\n",
      "   ------------- -------------------------- 34.1/101.0 MB 1.1 MB/s eta 0:01:02\n",
      "   ------------- -------------------------- 34.2/101.0 MB 1.1 MB/s eta 0:01:02\n",
      "   ------------- -------------------------- 34.3/101.0 MB 1.1 MB/s eta 0:01:02\n",
      "   ------------- -------------------------- 34.3/101.0 MB 1.1 MB/s eta 0:01:02\n",
      "   ------------- -------------------------- 34.4/101.0 MB 1.1 MB/s eta 0:01:02\n",
      "   ------------- -------------------------- 34.4/101.0 MB 1.1 MB/s eta 0:01:02\n",
      "   ------------- -------------------------- 34.5/101.0 MB 1.1 MB/s eta 0:01:02\n",
      "   ------------- -------------------------- 34.5/101.0 MB 1.1 MB/s eta 0:01:02\n",
      "   ------------- -------------------------- 34.5/101.0 MB 1.1 MB/s eta 0:01:02\n",
      "   ------------- -------------------------- 34.6/101.0 MB 1.1 MB/s eta 0:01:02\n",
      "   ------------- -------------------------- 34.6/101.0 MB 1.1 MB/s eta 0:01:02\n",
      "   ------------- -------------------------- 34.7/101.0 MB 1.1 MB/s eta 0:01:02\n",
      "   ------------- -------------------------- 34.7/101.0 MB 1.1 MB/s eta 0:01:02\n",
      "   ------------- -------------------------- 34.7/101.0 MB 1.1 MB/s eta 0:01:02\n",
      "   ------------- -------------------------- 34.7/101.0 MB 1.1 MB/s eta 0:01:02\n",
      "   ------------- -------------------------- 34.8/101.0 MB 1.1 MB/s eta 0:01:02\n",
      "   ------------- -------------------------- 34.8/101.0 MB 1.1 MB/s eta 0:01:03\n",
      "   ------------- -------------------------- 34.8/101.0 MB 1.1 MB/s eta 0:01:03\n",
      "   ------------- -------------------------- 34.9/101.0 MB 1.1 MB/s eta 0:01:03\n",
      "   ------------- -------------------------- 34.9/101.0 MB 1.1 MB/s eta 0:01:03\n",
      "   ------------- -------------------------- 34.9/101.0 MB 1.1 MB/s eta 0:01:03\n",
      "   ------------- -------------------------- 35.0/101.0 MB 1.1 MB/s eta 0:01:03\n",
      "   ------------- -------------------------- 35.0/101.0 MB 1.1 MB/s eta 0:01:03\n",
      "   ------------- -------------------------- 35.1/101.0 MB 1.1 MB/s eta 0:01:03\n",
      "   ------------- -------------------------- 35.1/101.0 MB 1.1 MB/s eta 0:01:03\n",
      "   ------------- -------------------------- 35.1/101.0 MB 1.1 MB/s eta 0:01:03\n",
      "   ------------- -------------------------- 35.2/101.0 MB 1.1 MB/s eta 0:01:03\n",
      "   ------------- -------------------------- 35.2/101.0 MB 1.0 MB/s eta 0:01:03\n",
      "   ------------- -------------------------- 35.3/101.0 MB 1.0 MB/s eta 0:01:03\n",
      "   ------------- -------------------------- 35.3/101.0 MB 1.0 MB/s eta 0:01:03\n",
      "   -------------- ------------------------- 35.4/101.0 MB 1.0 MB/s eta 0:01:03\n",
      "   -------------- ------------------------- 35.4/101.0 MB 1.0 MB/s eta 0:01:03\n",
      "   -------------- ------------------------- 35.4/101.0 MB 1.0 MB/s eta 0:01:03\n",
      "   -------------- ------------------------- 35.5/101.0 MB 1.0 MB/s eta 0:01:03\n",
      "   -------------- ------------------------- 35.5/101.0 MB 1.0 MB/s eta 0:01:03\n",
      "   -------------- ------------------------- 35.6/101.0 MB 1.0 MB/s eta 0:01:03\n",
      "   -------------- ------------------------- 35.6/101.0 MB 1.0 MB/s eta 0:01:03\n",
      "   -------------- ------------------------- 35.6/101.0 MB 1.0 MB/s eta 0:01:04\n",
      "   -------------- ------------------------- 35.7/101.0 MB 1.0 MB/s eta 0:01:03\n",
      "   -------------- ------------------------- 35.7/101.0 MB 1.0 MB/s eta 0:01:04\n",
      "   -------------- ------------------------- 35.8/101.0 MB 1.0 MB/s eta 0:01:04\n",
      "   -------------- ------------------------- 35.8/101.0 MB 1.0 MB/s eta 0:01:04\n",
      "   -------------- ------------------------- 35.9/101.0 MB 1.0 MB/s eta 0:01:04\n",
      "   -------------- ------------------------- 35.9/101.0 MB 1.0 MB/s eta 0:01:04\n",
      "   -------------- ------------------------- 36.0/101.0 MB 1.0 MB/s eta 0:01:04\n",
      "   -------------- ------------------------- 36.0/101.0 MB 1.0 MB/s eta 0:01:04\n",
      "   -------------- ------------------------- 36.1/101.0 MB 1.0 MB/s eta 0:01:04\n",
      "   -------------- ------------------------- 36.1/101.0 MB 1.0 MB/s eta 0:01:04\n",
      "   -------------- ------------------------- 36.1/101.0 MB 1.0 MB/s eta 0:01:04\n",
      "   -------------- ------------------------- 36.2/101.0 MB 1.0 MB/s eta 0:01:04\n",
      "   -------------- ------------------------- 36.2/101.0 MB 1.0 MB/s eta 0:01:04\n",
      "   -------------- ------------------------- 36.2/101.0 MB 1.0 MB/s eta 0:01:04\n",
      "   -------------- ------------------------- 36.3/101.0 MB 1.0 MB/s eta 0:01:04\n",
      "   -------------- ------------------------- 36.3/101.0 MB 1.0 MB/s eta 0:01:04\n",
      "   -------------- ------------------------- 36.4/101.0 MB 1.0 MB/s eta 0:01:04\n",
      "   -------------- ------------------------- 36.4/101.0 MB 1.0 MB/s eta 0:01:04\n",
      "   -------------- ------------------------- 36.5/101.0 MB 1.0 MB/s eta 0:01:04\n",
      "   -------------- ------------------------- 36.5/101.0 MB 1.0 MB/s eta 0:01:04\n",
      "   -------------- ------------------------- 36.6/101.0 MB 1.0 MB/s eta 0:01:04\n",
      "   -------------- ------------------------- 36.6/101.0 MB 1.0 MB/s eta 0:01:04\n",
      "   -------------- ------------------------- 36.6/101.0 MB 1.0 MB/s eta 0:01:04\n",
      "   -------------- ------------------------- 36.7/101.0 MB 1.0 MB/s eta 0:01:04\n",
      "   -------------- ------------------------- 36.7/101.0 MB 1.0 MB/s eta 0:01:04\n",
      "   -------------- ------------------------- 36.8/101.0 MB 1.0 MB/s eta 0:01:04\n",
      "   -------------- ------------------------- 36.8/101.0 MB 1.0 MB/s eta 0:01:05\n",
      "   -------------- ------------------------- 36.9/101.0 MB 1.0 MB/s eta 0:01:05\n",
      "   -------------- ------------------------- 36.9/101.0 MB 1.0 MB/s eta 0:01:05\n",
      "   -------------- ------------------------ 36.9/101.0 MB 998.0 kB/s eta 0:01:05\n",
      "   -------------- ------------------------ 37.0/101.0 MB 999.6 kB/s eta 0:01:05\n",
      "   -------------- ------------------------ 37.0/101.0 MB 996.6 kB/s eta 0:01:05\n",
      "   -------------- ------------------------ 37.1/101.0 MB 996.6 kB/s eta 0:01:05\n",
      "   -------------- ------------------------ 37.1/101.0 MB 998.0 kB/s eta 0:01:05\n",
      "   -------------- ------------------------ 37.2/101.0 MB 998.0 kB/s eta 0:01:04\n",
      "   -------------- ------------------------ 37.2/101.0 MB 999.5 kB/s eta 0:01:04\n",
      "   -------------- ------------------------ 37.2/101.0 MB 998.0 kB/s eta 0:01:04\n",
      "   -------------- ------------------------ 37.3/101.0 MB 998.0 kB/s eta 0:01:04\n",
      "   -------------- ------------------------ 37.3/101.0 MB 999.6 kB/s eta 0:01:04\n",
      "   -------------- ------------------------ 37.4/101.0 MB 996.6 kB/s eta 0:01:04\n",
      "   -------------- ------------------------ 37.4/101.0 MB 995.0 kB/s eta 0:01:04\n",
      "   -------------- ------------------------ 37.4/101.0 MB 995.0 kB/s eta 0:01:04\n",
      "   -------------- ------------------------ 37.5/101.0 MB 996.5 kB/s eta 0:01:04\n",
      "   -------------- ------------------------ 37.5/101.0 MB 996.6 kB/s eta 0:01:04\n",
      "   -------------- ------------------------ 37.6/101.0 MB 996.5 kB/s eta 0:01:04\n",
      "   -------------- ------------------------ 37.6/101.0 MB 998.0 kB/s eta 0:01:04\n",
      "   -------------- ------------------------ 37.6/101.0 MB 996.6 kB/s eta 0:01:04\n",
      "   -------------- ------------------------ 37.7/101.0 MB 996.6 kB/s eta 0:01:04\n",
      "   -------------- ------------------------ 37.7/101.0 MB 998.0 kB/s eta 0:01:04\n",
      "   -------------- ------------------------ 37.8/101.0 MB 998.0 kB/s eta 0:01:04\n",
      "   -------------- ------------------------ 37.8/101.0 MB 996.5 kB/s eta 0:01:04\n",
      "   -------------- ------------------------ 37.9/101.0 MB 998.0 kB/s eta 0:01:04\n",
      "   -------------- ------------------------ 37.9/101.0 MB 998.0 kB/s eta 0:01:04\n",
      "   -------------- ------------------------ 38.0/101.0 MB 998.0 kB/s eta 0:01:04\n",
      "   -------------- ------------------------ 38.0/101.0 MB 998.0 kB/s eta 0:01:04\n",
      "   -------------- ------------------------ 38.1/101.0 MB 999.6 kB/s eta 0:01:03\n",
      "   -------------- ------------------------ 38.1/101.0 MB 999.6 kB/s eta 0:01:03\n",
      "   --------------- ------------------------ 38.2/101.0 MB 1.0 MB/s eta 0:01:03\n",
      "   --------------- ------------------------ 38.3/101.0 MB 1.0 MB/s eta 0:01:03\n",
      "   --------------- ------------------------ 38.3/101.0 MB 1.0 MB/s eta 0:01:03\n",
      "   --------------- ------------------------ 38.4/101.0 MB 1.0 MB/s eta 0:01:03\n",
      "   --------------- ------------------------ 38.5/101.0 MB 1.0 MB/s eta 0:01:03\n",
      "   --------------- ------------------------ 38.5/101.0 MB 1.0 MB/s eta 0:01:03\n",
      "   --------------- ------------------------ 38.6/101.0 MB 1.0 MB/s eta 0:01:03\n",
      "   --------------- ------------------------ 38.7/101.0 MB 1.0 MB/s eta 0:01:03\n",
      "   --------------- ------------------------ 38.7/101.0 MB 1.0 MB/s eta 0:01:03\n",
      "   --------------- ------------------------ 38.8/101.0 MB 1.0 MB/s eta 0:01:02\n",
      "   --------------- ------------------------ 38.8/101.0 MB 1.0 MB/s eta 0:01:02\n",
      "   --------------- ------------------------ 38.9/101.0 MB 1.0 MB/s eta 0:01:02\n",
      "   --------------- ------------------------ 39.0/101.0 MB 1.0 MB/s eta 0:01:02\n",
      "   --------------- ------------------------ 39.0/101.0 MB 1.0 MB/s eta 0:01:01\n",
      "   --------------- ------------------------ 39.1/101.0 MB 1.0 MB/s eta 0:01:01\n",
      "   --------------- ------------------------ 39.2/101.0 MB 1.0 MB/s eta 0:01:01\n",
      "   --------------- ------------------------ 39.2/101.0 MB 1.0 MB/s eta 0:01:01\n",
      "   --------------- ------------------------ 39.3/101.0 MB 1.0 MB/s eta 0:01:00\n",
      "   --------------- ------------------------ 39.4/101.0 MB 1.0 MB/s eta 0:01:00\n",
      "   --------------- ------------------------ 39.5/101.0 MB 1.0 MB/s eta 0:01:00\n",
      "   --------------- ------------------------ 39.5/101.0 MB 1.0 MB/s eta 0:00:59\n",
      "   --------------- ------------------------ 39.6/101.0 MB 1.0 MB/s eta 0:00:59\n",
      "   --------------- ------------------------ 39.7/101.0 MB 1.1 MB/s eta 0:00:59\n",
      "   --------------- ------------------------ 39.8/101.0 MB 1.1 MB/s eta 0:00:58\n",
      "   --------------- ------------------------ 39.9/101.0 MB 1.1 MB/s eta 0:00:58\n",
      "   --------------- ------------------------ 39.9/101.0 MB 1.1 MB/s eta 0:00:58\n",
      "   --------------- ------------------------ 40.0/101.0 MB 1.1 MB/s eta 0:00:58\n",
      "   --------------- ------------------------ 40.1/101.0 MB 1.1 MB/s eta 0:00:57\n",
      "   --------------- ------------------------ 40.2/101.0 MB 1.1 MB/s eta 0:00:57\n",
      "   --------------- ------------------------ 40.3/101.0 MB 1.1 MB/s eta 0:00:57\n",
      "   --------------- ------------------------ 40.4/101.0 MB 1.1 MB/s eta 0:00:56\n",
      "   ---------------- ----------------------- 40.4/101.0 MB 1.1 MB/s eta 0:00:56\n",
      "   ---------------- ----------------------- 40.6/101.0 MB 1.1 MB/s eta 0:00:56\n",
      "   ---------------- ----------------------- 40.6/101.0 MB 1.1 MB/s eta 0:00:56\n",
      "   ---------------- ----------------------- 40.7/101.0 MB 1.1 MB/s eta 0:00:56\n",
      "   ---------------- ----------------------- 40.8/101.0 MB 1.1 MB/s eta 0:00:55\n",
      "   ---------------- ----------------------- 40.9/101.0 MB 1.1 MB/s eta 0:00:54\n",
      "   ---------------- ----------------------- 41.0/101.0 MB 1.1 MB/s eta 0:00:54\n",
      "   ---------------- ----------------------- 41.1/101.0 MB 1.1 MB/s eta 0:00:53\n",
      "   ---------------- ----------------------- 41.1/101.0 MB 1.1 MB/s eta 0:00:53\n",
      "   ---------------- ----------------------- 41.1/101.0 MB 1.1 MB/s eta 0:00:53\n",
      "   ---------------- ----------------------- 41.2/101.0 MB 1.1 MB/s eta 0:00:53\n",
      "   ---------------- ----------------------- 41.2/101.0 MB 1.1 MB/s eta 0:00:53\n",
      "   ---------------- ----------------------- 41.3/101.0 MB 1.1 MB/s eta 0:00:53\n",
      "   ---------------- ----------------------- 41.4/101.0 MB 1.1 MB/s eta 0:00:53\n",
      "   ---------------- ----------------------- 41.5/101.0 MB 1.1 MB/s eta 0:00:53\n",
      "   ---------------- ----------------------- 41.5/101.0 MB 1.1 MB/s eta 0:00:52\n",
      "   ---------------- ----------------------- 41.6/101.0 MB 1.2 MB/s eta 0:00:52\n",
      "   ---------------- ----------------------- 41.7/101.0 MB 1.2 MB/s eta 0:00:52\n",
      "   ---------------- ----------------------- 41.8/101.0 MB 1.2 MB/s eta 0:00:52\n",
      "   ---------------- ----------------------- 41.9/101.0 MB 1.2 MB/s eta 0:00:51\n",
      "   ---------------- ----------------------- 41.9/101.0 MB 1.2 MB/s eta 0:00:51\n",
      "   ---------------- ----------------------- 42.0/101.0 MB 1.2 MB/s eta 0:00:51\n",
      "   ---------------- ----------------------- 42.1/101.0 MB 1.2 MB/s eta 0:00:51\n",
      "   ---------------- ----------------------- 42.1/101.0 MB 1.2 MB/s eta 0:00:51\n",
      "   ---------------- ----------------------- 42.2/101.0 MB 1.2 MB/s eta 0:00:51\n",
      "   ---------------- ----------------------- 42.3/101.0 MB 1.2 MB/s eta 0:00:51\n",
      "   ---------------- ----------------------- 42.3/101.0 MB 1.2 MB/s eta 0:00:51\n",
      "   ---------------- ----------------------- 42.4/101.0 MB 1.2 MB/s eta 0:00:51\n",
      "   ---------------- ----------------------- 42.4/101.0 MB 1.2 MB/s eta 0:00:51\n",
      "   ---------------- ----------------------- 42.5/101.0 MB 1.2 MB/s eta 0:00:51\n",
      "   ---------------- ----------------------- 42.5/101.0 MB 1.2 MB/s eta 0:00:51\n",
      "   ---------------- ----------------------- 42.6/101.0 MB 1.2 MB/s eta 0:00:51\n",
      "   ---------------- ----------------------- 42.6/101.0 MB 1.2 MB/s eta 0:00:51\n",
      "   ---------------- ----------------------- 42.6/101.0 MB 1.2 MB/s eta 0:00:51\n",
      "   ---------------- ----------------------- 42.7/101.0 MB 1.2 MB/s eta 0:00:51\n",
      "   ---------------- ----------------------- 42.7/101.0 MB 1.2 MB/s eta 0:00:51\n",
      "   ---------------- ----------------------- 42.8/101.0 MB 1.2 MB/s eta 0:00:51\n",
      "   ---------------- ----------------------- 42.8/101.0 MB 1.2 MB/s eta 0:00:51\n",
      "   ---------------- ----------------------- 42.9/101.0 MB 1.2 MB/s eta 0:00:51\n",
      "   ---------------- ----------------------- 42.9/101.0 MB 1.2 MB/s eta 0:00:51\n",
      "   ---------------- ----------------------- 42.9/101.0 MB 1.1 MB/s eta 0:00:51\n",
      "   ----------------- ---------------------- 42.9/101.0 MB 1.1 MB/s eta 0:00:51\n",
      "   ----------------- ---------------------- 43.0/101.0 MB 1.1 MB/s eta 0:00:51\n",
      "   ----------------- ---------------------- 43.0/101.0 MB 1.1 MB/s eta 0:00:51\n",
      "   ----------------- ---------------------- 43.0/101.0 MB 1.1 MB/s eta 0:00:52\n",
      "   ----------------- ---------------------- 43.1/101.0 MB 1.1 MB/s eta 0:00:51\n",
      "   ----------------- ---------------------- 43.1/101.0 MB 1.1 MB/s eta 0:00:52\n",
      "   ----------------- ---------------------- 43.1/101.0 MB 1.1 MB/s eta 0:00:52\n",
      "   ----------------- ---------------------- 43.2/101.0 MB 1.1 MB/s eta 0:00:52\n",
      "   ----------------- ---------------------- 43.2/101.0 MB 1.1 MB/s eta 0:00:52\n",
      "   ----------------- ---------------------- 43.2/101.0 MB 1.1 MB/s eta 0:00:52\n",
      "   ----------------- ---------------------- 43.3/101.0 MB 1.1 MB/s eta 0:00:52\n",
      "   ----------------- ---------------------- 43.3/101.0 MB 1.1 MB/s eta 0:00:52\n",
      "   ----------------- ---------------------- 43.4/101.0 MB 1.1 MB/s eta 0:00:52\n",
      "   ----------------- ---------------------- 43.4/101.0 MB 1.1 MB/s eta 0:00:52\n",
      "   ----------------- ---------------------- 43.4/101.0 MB 1.1 MB/s eta 0:00:52\n",
      "   ----------------- ---------------------- 43.4/101.0 MB 1.1 MB/s eta 0:00:52\n",
      "   ----------------- ---------------------- 43.5/101.0 MB 1.1 MB/s eta 0:00:52\n",
      "   ----------------- ---------------------- 43.5/101.0 MB 1.1 MB/s eta 0:00:52\n",
      "   ----------------- ---------------------- 43.6/101.0 MB 1.1 MB/s eta 0:00:52\n",
      "   ----------------- ---------------------- 43.6/101.0 MB 1.1 MB/s eta 0:00:52\n",
      "   ----------------- ---------------------- 43.6/101.0 MB 1.1 MB/s eta 0:00:52\n",
      "   ----------------- ---------------------- 43.6/101.0 MB 1.1 MB/s eta 0:00:52\n",
      "   ----------------- ---------------------- 43.7/101.0 MB 1.1 MB/s eta 0:00:52\n",
      "   ----------------- ---------------------- 43.7/101.0 MB 1.1 MB/s eta 0:00:52\n",
      "   ----------------- ---------------------- 43.8/101.0 MB 1.1 MB/s eta 0:00:52\n",
      "   ----------------- ---------------------- 43.8/101.0 MB 1.1 MB/s eta 0:00:52\n",
      "   ----------------- ---------------------- 43.8/101.0 MB 1.1 MB/s eta 0:00:53\n",
      "   ----------------- ---------------------- 43.9/101.0 MB 1.1 MB/s eta 0:00:53\n",
      "   ----------------- ---------------------- 43.9/101.0 MB 1.1 MB/s eta 0:00:53\n",
      "   ----------------- ---------------------- 43.9/101.0 MB 1.1 MB/s eta 0:00:53\n",
      "   ----------------- ---------------------- 44.0/101.0 MB 1.1 MB/s eta 0:00:53\n",
      "   ----------------- ---------------------- 44.0/101.0 MB 1.1 MB/s eta 0:00:53\n",
      "   ----------------- ---------------------- 44.0/101.0 MB 1.1 MB/s eta 0:00:53\n",
      "   ----------------- ---------------------- 44.1/101.0 MB 1.1 MB/s eta 0:00:53\n",
      "   ----------------- ---------------------- 44.1/101.0 MB 1.1 MB/s eta 0:00:53\n",
      "   ----------------- ---------------------- 44.1/101.0 MB 1.1 MB/s eta 0:00:53\n",
      "   ----------------- ---------------------- 44.2/101.0 MB 1.1 MB/s eta 0:00:53\n",
      "   ----------------- ---------------------- 44.2/101.0 MB 1.1 MB/s eta 0:00:54\n",
      "   ----------------- ---------------------- 44.2/101.0 MB 1.1 MB/s eta 0:00:54\n",
      "   ----------------- ---------------------- 44.3/101.0 MB 1.1 MB/s eta 0:00:54\n",
      "   ----------------- ---------------------- 44.3/101.0 MB 1.1 MB/s eta 0:00:54\n",
      "   ----------------- ---------------------- 44.4/101.0 MB 1.1 MB/s eta 0:00:54\n",
      "   ----------------- ---------------------- 44.4/101.0 MB 1.1 MB/s eta 0:00:54\n",
      "   ----------------- ---------------------- 44.5/101.0 MB 1.1 MB/s eta 0:00:54\n",
      "   ----------------- ---------------------- 44.5/101.0 MB 1.1 MB/s eta 0:00:54\n",
      "   ----------------- ---------------------- 44.6/101.0 MB 1.1 MB/s eta 0:00:54\n",
      "   ----------------- ---------------------- 44.6/101.0 MB 1.1 MB/s eta 0:00:54\n",
      "   ----------------- ---------------------- 44.6/101.0 MB 1.1 MB/s eta 0:00:54\n",
      "   ----------------- ---------------------- 44.7/101.0 MB 1.1 MB/s eta 0:00:54\n",
      "   ----------------- ---------------------- 44.7/101.0 MB 1.0 MB/s eta 0:00:54\n",
      "   ----------------- ---------------------- 44.7/101.0 MB 1.1 MB/s eta 0:00:54\n",
      "   ----------------- ---------------------- 44.8/101.0 MB 1.0 MB/s eta 0:00:54\n",
      "   ----------------- ---------------------- 44.8/101.0 MB 1.0 MB/s eta 0:00:54\n",
      "   ----------------- ---------------------- 44.9/101.0 MB 1.0 MB/s eta 0:00:54\n",
      "   ----------------- ---------------------- 44.9/101.0 MB 1.1 MB/s eta 0:00:54\n",
      "   ----------------- ---------------------- 44.9/101.0 MB 1.1 MB/s eta 0:00:54\n",
      "   ----------------- ---------------------- 45.0/101.0 MB 1.1 MB/s eta 0:00:53\n",
      "   ----------------- ---------------------- 45.0/101.0 MB 1.1 MB/s eta 0:00:53\n",
      "   ----------------- ---------------------- 45.1/101.0 MB 1.1 MB/s eta 0:00:53\n",
      "   ----------------- ---------------------- 45.1/101.0 MB 1.1 MB/s eta 0:00:53\n",
      "   ----------------- ---------------------- 45.2/101.0 MB 1.1 MB/s eta 0:00:53\n",
      "   ----------------- ---------------------- 45.2/101.0 MB 1.1 MB/s eta 0:00:53\n",
      "   ----------------- ---------------------- 45.3/101.0 MB 1.1 MB/s eta 0:00:52\n",
      "   ----------------- ---------------------- 45.3/101.0 MB 1.1 MB/s eta 0:00:52\n",
      "   ----------------- ---------------------- 45.4/101.0 MB 1.1 MB/s eta 0:00:52\n",
      "   ----------------- ---------------------- 45.5/101.0 MB 1.1 MB/s eta 0:00:52\n",
      "   ------------------ --------------------- 45.5/101.0 MB 1.1 MB/s eta 0:00:52\n",
      "   ------------------ --------------------- 45.6/101.0 MB 1.1 MB/s eta 0:00:52\n",
      "   ------------------ --------------------- 45.6/101.0 MB 1.1 MB/s eta 0:00:52\n",
      "   ------------------ --------------------- 45.7/101.0 MB 1.1 MB/s eta 0:00:52\n",
      "   ------------------ --------------------- 45.7/101.0 MB 1.1 MB/s eta 0:00:51\n",
      "   ------------------ --------------------- 45.8/101.0 MB 1.1 MB/s eta 0:00:51\n",
      "   ------------------ --------------------- 45.9/101.0 MB 1.1 MB/s eta 0:00:51\n",
      "   ------------------ --------------------- 46.0/101.0 MB 1.1 MB/s eta 0:00:51\n",
      "   ------------------ --------------------- 46.0/101.0 MB 1.1 MB/s eta 0:00:50\n",
      "   ------------------ --------------------- 46.1/101.0 MB 1.1 MB/s eta 0:00:50\n",
      "   ------------------ --------------------- 46.2/101.0 MB 1.1 MB/s eta 0:00:50\n",
      "   ------------------ --------------------- 46.2/101.0 MB 1.1 MB/s eta 0:00:50\n",
      "   ------------------ --------------------- 46.3/101.0 MB 1.1 MB/s eta 0:00:50\n",
      "   ------------------ --------------------- 46.4/101.0 MB 1.1 MB/s eta 0:00:49\n",
      "   ------------------ --------------------- 46.5/101.0 MB 1.1 MB/s eta 0:00:49\n",
      "   ------------------ --------------------- 46.5/101.0 MB 1.1 MB/s eta 0:00:49\n",
      "   ------------------ --------------------- 46.6/101.0 MB 1.1 MB/s eta 0:00:48\n",
      "   ------------------ --------------------- 46.7/101.0 MB 1.1 MB/s eta 0:00:48\n",
      "   ------------------ --------------------- 46.8/101.0 MB 1.1 MB/s eta 0:00:48\n",
      "   ------------------ --------------------- 46.9/101.0 MB 1.2 MB/s eta 0:00:48\n",
      "   ------------------ --------------------- 47.0/101.0 MB 1.2 MB/s eta 0:00:47\n",
      "   ------------------ --------------------- 47.0/101.0 MB 1.2 MB/s eta 0:00:47\n",
      "   ------------------ --------------------- 47.1/101.0 MB 1.2 MB/s eta 0:00:47\n",
      "   ------------------ --------------------- 47.2/101.0 MB 1.2 MB/s eta 0:00:47\n",
      "   ------------------ --------------------- 47.2/101.0 MB 1.2 MB/s eta 0:00:47\n",
      "   ------------------ --------------------- 47.3/101.0 MB 1.2 MB/s eta 0:00:46\n",
      "   ------------------ --------------------- 47.3/101.0 MB 1.2 MB/s eta 0:00:46\n",
      "   ------------------ --------------------- 47.3/101.0 MB 1.2 MB/s eta 0:00:46\n",
      "   ------------------ --------------------- 47.4/101.0 MB 1.2 MB/s eta 0:00:46\n",
      "   ------------------ --------------------- 47.4/101.0 MB 1.2 MB/s eta 0:00:46\n",
      "   ------------------ --------------------- 47.4/101.0 MB 1.2 MB/s eta 0:00:47\n",
      "   ------------------ --------------------- 47.5/101.0 MB 1.2 MB/s eta 0:00:47\n",
      "   ------------------ --------------------- 47.5/101.0 MB 1.2 MB/s eta 0:00:47\n",
      "   ------------------ --------------------- 47.5/101.0 MB 1.2 MB/s eta 0:00:47\n",
      "   ------------------ --------------------- 47.6/101.0 MB 1.2 MB/s eta 0:00:47\n",
      "   ------------------ --------------------- 47.6/101.0 MB 1.2 MB/s eta 0:00:46\n",
      "   ------------------ --------------------- 47.7/101.0 MB 1.2 MB/s eta 0:00:46\n",
      "   ------------------ --------------------- 47.7/101.0 MB 1.2 MB/s eta 0:00:46\n",
      "   ------------------ --------------------- 47.7/101.0 MB 1.2 MB/s eta 0:00:46\n",
      "   ------------------ --------------------- 47.8/101.0 MB 1.2 MB/s eta 0:00:46\n",
      "   ------------------ --------------------- 47.8/101.0 MB 1.2 MB/s eta 0:00:46\n",
      "   ------------------ --------------------- 47.9/101.0 MB 1.2 MB/s eta 0:00:46\n",
      "   ------------------ --------------------- 47.9/101.0 MB 1.2 MB/s eta 0:00:46\n",
      "   ------------------- -------------------- 48.0/101.0 MB 1.2 MB/s eta 0:00:46\n",
      "   ------------------- -------------------- 48.0/101.0 MB 1.2 MB/s eta 0:00:46\n",
      "   ------------------- -------------------- 48.1/101.0 MB 1.2 MB/s eta 0:00:46\n",
      "   ------------------- -------------------- 48.1/101.0 MB 1.2 MB/s eta 0:00:46\n",
      "   ------------------- -------------------- 48.2/101.0 MB 1.2 MB/s eta 0:00:46\n",
      "   ------------------- -------------------- 48.3/101.0 MB 1.2 MB/s eta 0:00:46\n",
      "   ------------------- -------------------- 48.3/101.0 MB 1.2 MB/s eta 0:00:46\n",
      "   ------------------- -------------------- 48.4/101.0 MB 1.2 MB/s eta 0:00:46\n",
      "   ------------------- -------------------- 48.4/101.0 MB 1.2 MB/s eta 0:00:46\n",
      "   ------------------- -------------------- 48.5/101.0 MB 1.2 MB/s eta 0:00:46\n",
      "   ------------------- -------------------- 48.5/101.0 MB 1.2 MB/s eta 0:00:46\n",
      "   ------------------- -------------------- 48.5/101.0 MB 1.2 MB/s eta 0:00:46\n",
      "   ------------------- -------------------- 48.6/101.0 MB 1.2 MB/s eta 0:00:46\n",
      "   ------------------- -------------------- 48.6/101.0 MB 1.2 MB/s eta 0:00:46\n",
      "   ------------------- -------------------- 48.7/101.0 MB 1.2 MB/s eta 0:00:46\n",
      "   ------------------- -------------------- 48.7/101.0 MB 1.2 MB/s eta 0:00:46\n",
      "   ------------------- -------------------- 48.8/101.0 MB 1.2 MB/s eta 0:00:46\n",
      "   ------------------- -------------------- 48.8/101.0 MB 1.2 MB/s eta 0:00:46\n",
      "   ------------------- -------------------- 48.9/101.0 MB 1.2 MB/s eta 0:00:46\n",
      "   ------------------- -------------------- 48.9/101.0 MB 1.2 MB/s eta 0:00:46\n",
      "   ------------------- -------------------- 49.0/101.0 MB 1.2 MB/s eta 0:00:46\n",
      "   ------------------- -------------------- 49.0/101.0 MB 1.1 MB/s eta 0:00:46\n",
      "   ------------------- -------------------- 49.1/101.0 MB 1.1 MB/s eta 0:00:46\n",
      "   ------------------- -------------------- 49.1/101.0 MB 1.1 MB/s eta 0:00:46\n",
      "   ------------------- -------------------- 49.1/101.0 MB 1.1 MB/s eta 0:00:46\n",
      "   ------------------- -------------------- 49.1/101.0 MB 1.1 MB/s eta 0:00:46\n",
      "   ------------------- -------------------- 49.2/101.0 MB 1.1 MB/s eta 0:00:46\n",
      "   ------------------- -------------------- 49.2/101.0 MB 1.1 MB/s eta 0:00:46\n",
      "   ------------------- -------------------- 49.2/101.0 MB 1.1 MB/s eta 0:00:47\n",
      "   ------------------- -------------------- 49.3/101.0 MB 1.1 MB/s eta 0:00:47\n",
      "   ------------------- -------------------- 49.3/101.0 MB 1.1 MB/s eta 0:00:47\n",
      "   ------------------- -------------------- 49.3/101.0 MB 1.1 MB/s eta 0:00:47\n",
      "   ------------------- -------------------- 49.4/101.0 MB 1.1 MB/s eta 0:00:47\n",
      "   ------------------- -------------------- 49.4/101.0 MB 1.1 MB/s eta 0:00:47\n",
      "   ------------------- -------------------- 49.4/101.0 MB 1.1 MB/s eta 0:00:47\n",
      "   ------------------- -------------------- 49.5/101.0 MB 1.1 MB/s eta 0:00:47\n",
      "   ------------------- -------------------- 49.5/101.0 MB 1.1 MB/s eta 0:00:47\n",
      "   ------------------- -------------------- 49.6/101.0 MB 1.1 MB/s eta 0:00:47\n",
      "   ------------------- -------------------- 49.6/101.0 MB 1.1 MB/s eta 0:00:47\n",
      "   ------------------- -------------------- 49.6/101.0 MB 1.1 MB/s eta 0:00:47\n",
      "   ------------------- -------------------- 49.7/101.0 MB 1.1 MB/s eta 0:00:48\n",
      "   ------------------- -------------------- 49.7/101.0 MB 1.1 MB/s eta 0:00:48\n",
      "   ------------------- -------------------- 49.7/101.0 MB 1.1 MB/s eta 0:00:48\n",
      "   ------------------- -------------------- 49.8/101.0 MB 1.1 MB/s eta 0:00:48\n",
      "   ------------------- -------------------- 49.8/101.0 MB 1.1 MB/s eta 0:00:48\n",
      "   ------------------- -------------------- 49.8/101.0 MB 1.1 MB/s eta 0:00:48\n",
      "   ------------------- -------------------- 49.9/101.0 MB 1.1 MB/s eta 0:00:48\n",
      "   ------------------- -------------------- 49.9/101.0 MB 1.1 MB/s eta 0:00:48\n",
      "   ------------------- -------------------- 50.0/101.0 MB 1.1 MB/s eta 0:00:48\n",
      "   ------------------- -------------------- 50.0/101.0 MB 1.1 MB/s eta 0:00:48\n",
      "   ------------------- -------------------- 50.0/101.0 MB 1.1 MB/s eta 0:00:48\n",
      "   ------------------- -------------------- 50.1/101.0 MB 1.1 MB/s eta 0:00:49\n",
      "   ------------------- -------------------- 50.1/101.0 MB 1.1 MB/s eta 0:00:48\n",
      "   ------------------- -------------------- 50.1/101.0 MB 1.1 MB/s eta 0:00:49\n",
      "   ------------------- -------------------- 50.2/101.0 MB 1.1 MB/s eta 0:00:49\n",
      "   ------------------- -------------------- 50.2/101.0 MB 1.1 MB/s eta 0:00:49\n",
      "   ------------------- -------------------- 50.3/101.0 MB 1.1 MB/s eta 0:00:49\n",
      "   ------------------- -------------------- 50.3/101.0 MB 1.0 MB/s eta 0:00:49\n",
      "   ------------------- -------------------- 50.4/101.0 MB 1.0 MB/s eta 0:00:49\n",
      "   ------------------- -------------------- 50.4/101.0 MB 1.0 MB/s eta 0:00:49\n",
      "   ------------------- -------------------- 50.5/101.0 MB 1.0 MB/s eta 0:00:49\n",
      "   ------------------- -------------------- 50.5/101.0 MB 1.0 MB/s eta 0:00:49\n",
      "   -------------------- ------------------- 50.6/101.0 MB 1.0 MB/s eta 0:00:49\n",
      "   -------------------- ------------------- 50.6/101.0 MB 1.0 MB/s eta 0:00:49\n",
      "   -------------------- ------------------- 50.6/101.0 MB 1.0 MB/s eta 0:00:49\n",
      "   -------------------- ------------------- 50.7/101.0 MB 1.0 MB/s eta 0:00:50\n",
      "   -------------------- ------------------- 50.7/101.0 MB 1.0 MB/s eta 0:00:50\n",
      "   -------------------- ------------------- 50.8/101.0 MB 1.0 MB/s eta 0:00:50\n",
      "   -------------------- ------------------- 50.8/101.0 MB 1.0 MB/s eta 0:00:50\n",
      "   -------------------- ------------------- 50.8/101.0 MB 1.0 MB/s eta 0:00:50\n",
      "   -------------------- ------------------- 50.9/101.0 MB 1.0 MB/s eta 0:00:50\n",
      "   -------------------- ------------------- 50.9/101.0 MB 1.0 MB/s eta 0:00:50\n",
      "   -------------------- ------------------- 51.0/101.0 MB 1.0 MB/s eta 0:00:50\n",
      "   -------------------- ------------------- 51.0/101.0 MB 1.0 MB/s eta 0:00:50\n",
      "   -------------------- ------------------- 51.1/101.0 MB 1.0 MB/s eta 0:00:50\n",
      "   -------------------- ------------------- 51.1/101.0 MB 1.0 MB/s eta 0:00:50\n",
      "   -------------------- ------------------- 51.2/101.0 MB 1.0 MB/s eta 0:00:50\n",
      "   -------------------- ------------------- 51.2/101.0 MB 1.0 MB/s eta 0:00:50\n",
      "   -------------------- ------------------- 51.3/101.0 MB 1.0 MB/s eta 0:00:50\n",
      "   -------------------- ------------------- 51.3/101.0 MB 1.0 MB/s eta 0:00:50\n",
      "   -------------------- ------------------- 51.4/101.0 MB 1.0 MB/s eta 0:00:50\n",
      "   -------------------- ------------------- 51.4/101.0 MB 1.0 MB/s eta 0:00:50\n",
      "   -------------------- ------------------- 51.5/101.0 MB 1.0 MB/s eta 0:00:50\n",
      "   -------------------- ------------------- 51.5/101.0 MB 1.0 MB/s eta 0:00:50\n",
      "   ------------------- ------------------- 51.6/101.0 MB 999.6 kB/s eta 0:00:50\n",
      "   ------------------- ------------------- 51.6/101.0 MB 996.5 kB/s eta 0:00:50\n",
      "   ------------------- ------------------- 51.6/101.0 MB 992.0 kB/s eta 0:00:50\n",
      "   ------------------- ------------------- 51.7/101.0 MB 989.0 kB/s eta 0:00:50\n",
      "   ------------------- ------------------- 51.7/101.0 MB 987.5 kB/s eta 0:00:50\n",
      "   ------------------- ------------------- 51.7/101.0 MB 983.0 kB/s eta 0:00:51\n",
      "   ------------------- ------------------- 51.8/101.0 MB 983.1 kB/s eta 0:00:51\n",
      "   ------------------- ------------------- 51.8/101.0 MB 980.1 kB/s eta 0:00:51\n",
      "   -------------------- ------------------ 51.8/101.0 MB 975.7 kB/s eta 0:00:51\n",
      "   -------------------- ------------------ 51.8/101.0 MB 971.4 kB/s eta 0:00:51\n",
      "   -------------------- ------------------ 51.9/101.0 MB 971.4 kB/s eta 0:00:51\n",
      "   -------------------- ------------------ 51.9/101.0 MB 967.1 kB/s eta 0:00:51\n",
      "   -------------------- ------------------ 51.9/101.0 MB 964.2 kB/s eta 0:00:51\n",
      "   -------------------- ------------------ 51.9/101.0 MB 961.4 kB/s eta 0:00:52\n",
      "   -------------------- ------------------ 52.0/101.0 MB 960.0 kB/s eta 0:00:52\n",
      "   -------------------- ------------------ 52.0/101.0 MB 957.1 kB/s eta 0:00:52\n",
      "   -------------------- ------------------ 52.0/101.0 MB 952.9 kB/s eta 0:00:52\n",
      "   -------------------- ------------------ 52.1/101.0 MB 951.6 kB/s eta 0:00:52\n",
      "   -------------------- ------------------ 52.1/101.0 MB 948.9 kB/s eta 0:00:52\n",
      "   -------------------- ------------------ 52.1/101.0 MB 947.5 kB/s eta 0:00:52\n",
      "   -------------------- ------------------ 52.2/101.0 MB 944.8 kB/s eta 0:00:52\n",
      "   -------------------- ------------------ 52.2/101.0 MB 942.1 kB/s eta 0:00:52\n",
      "   -------------------- ------------------ 52.3/101.0 MB 939.4 kB/s eta 0:00:52\n",
      "   -------------------- ------------------ 52.3/101.0 MB 938.0 kB/s eta 0:00:52\n",
      "   -------------------- ------------------ 52.3/101.0 MB 936.6 kB/s eta 0:00:52\n",
      "   -------------------- ------------------ 52.4/101.0 MB 935.2 kB/s eta 0:00:53\n",
      "   -------------------- ------------------ 52.4/101.0 MB 935.2 kB/s eta 0:00:52\n",
      "   -------------------- ------------------ 52.5/101.0 MB 932.7 kB/s eta 0:00:53\n",
      "   -------------------- ------------------ 52.5/101.0 MB 931.3 kB/s eta 0:00:53\n",
      "   -------------------- ------------------ 52.6/101.0 MB 932.6 kB/s eta 0:00:52\n",
      "   -------------------- ------------------ 52.6/101.0 MB 930.0 kB/s eta 0:00:53\n",
      "   -------------------- ------------------ 52.6/101.0 MB 930.0 kB/s eta 0:00:53\n",
      "   -------------------- ------------------ 52.7/101.0 MB 930.0 kB/s eta 0:00:52\n",
      "   -------------------- ------------------ 52.7/101.0 MB 931.2 kB/s eta 0:00:52\n",
      "   -------------------- ------------------ 52.8/101.0 MB 930.0 kB/s eta 0:00:52\n",
      "   -------------------- ------------------ 52.8/101.0 MB 930.0 kB/s eta 0:00:52\n",
      "   -------------------- ------------------ 52.8/101.0 MB 930.0 kB/s eta 0:00:52\n",
      "   -------------------- ------------------ 52.9/101.0 MB 928.7 kB/s eta 0:00:52\n",
      "   -------------------- ------------------ 52.9/101.0 MB 931.3 kB/s eta 0:00:52\n",
      "   -------------------- ------------------ 53.0/101.0 MB 927.4 kB/s eta 0:00:52\n",
      "   -------------------- ------------------ 53.0/101.0 MB 928.6 kB/s eta 0:00:52\n",
      "   -------------------- ------------------ 53.1/101.0 MB 928.6 kB/s eta 0:00:52\n",
      "   -------------------- ------------------ 53.1/101.0 MB 930.0 kB/s eta 0:00:52\n",
      "   -------------------- ------------------ 53.2/101.0 MB 931.2 kB/s eta 0:00:52\n",
      "   -------------------- ------------------ 53.2/101.0 MB 932.7 kB/s eta 0:00:52\n",
      "   -------------------- ------------------ 53.2/101.0 MB 938.0 kB/s eta 0:00:51\n",
      "   -------------------- ------------------ 53.3/101.0 MB 938.0 kB/s eta 0:00:51\n",
      "   -------------------- ------------------ 53.3/101.0 MB 939.4 kB/s eta 0:00:51\n",
      "   -------------------- ------------------ 53.3/101.0 MB 936.6 kB/s eta 0:00:51\n",
      "   -------------------- ------------------ 53.4/101.0 MB 940.7 kB/s eta 0:00:51\n",
      "   -------------------- ------------------ 53.4/101.0 MB 938.0 kB/s eta 0:00:51\n",
      "   -------------------- ------------------ 53.5/101.0 MB 937.9 kB/s eta 0:00:51\n",
      "   -------------------- ------------------ 53.5/101.0 MB 939.3 kB/s eta 0:00:51\n",
      "   -------------------- ------------------ 53.5/101.0 MB 939.3 kB/s eta 0:00:51\n",
      "   -------------------- ------------------ 53.6/101.0 MB 939.4 kB/s eta 0:00:51\n",
      "   -------------------- ------------------ 53.6/101.0 MB 946.1 kB/s eta 0:00:51\n",
      "   -------------------- ------------------ 53.7/101.0 MB 943.4 kB/s eta 0:00:51\n",
      "   -------------------- ------------------ 53.7/101.0 MB 944.8 kB/s eta 0:00:51\n",
      "   -------------------- ------------------ 53.8/101.0 MB 946.1 kB/s eta 0:00:50\n",
      "   -------------------- ------------------ 53.8/101.0 MB 948.8 kB/s eta 0:00:50\n",
      "   -------------------- ------------------ 53.9/101.0 MB 951.6 kB/s eta 0:00:50\n",
      "   -------------------- ------------------ 53.9/101.0 MB 952.9 kB/s eta 0:00:50\n",
      "   -------------------- ------------------ 54.0/101.0 MB 953.0 kB/s eta 0:00:50\n",
      "   -------------------- ------------------ 54.0/101.0 MB 951.6 kB/s eta 0:00:50\n",
      "   -------------------- ------------------ 54.0/101.0 MB 953.0 kB/s eta 0:00:50\n",
      "   -------------------- ------------------ 54.1/101.0 MB 951.6 kB/s eta 0:00:50\n",
      "   -------------------- ------------------ 54.1/101.0 MB 951.6 kB/s eta 0:00:50\n",
      "   -------------------- ------------------ 54.2/101.0 MB 951.6 kB/s eta 0:00:50\n",
      "   -------------------- ------------------ 54.2/101.0 MB 953.0 kB/s eta 0:00:50\n",
      "   -------------------- ------------------ 54.2/101.0 MB 954.4 kB/s eta 0:00:50\n",
      "   -------------------- ------------------ 54.3/101.0 MB 954.4 kB/s eta 0:00:49\n",
      "   -------------------- ------------------ 54.3/101.0 MB 954.4 kB/s eta 0:00:49\n",
      "   -------------------- ------------------ 54.3/101.0 MB 954.4 kB/s eta 0:00:49\n",
      "   -------------------- ------------------ 54.3/101.0 MB 953.0 kB/s eta 0:00:49\n",
      "   -------------------- ------------------ 54.4/101.0 MB 953.0 kB/s eta 0:00:49\n",
      "   --------------------- ----------------- 54.4/101.0 MB 952.9 kB/s eta 0:00:49\n",
      "   --------------------- ----------------- 54.5/101.0 MB 952.9 kB/s eta 0:00:49\n",
      "   --------------------- ----------------- 54.5/101.0 MB 953.0 kB/s eta 0:00:49\n",
      "   --------------------- ----------------- 54.5/101.0 MB 951.6 kB/s eta 0:00:49\n",
      "   --------------------- ----------------- 54.6/101.0 MB 948.9 kB/s eta 0:00:49\n",
      "   --------------------- ----------------- 54.6/101.0 MB 947.5 kB/s eta 0:00:50\n",
      "   --------------------- ----------------- 54.6/101.0 MB 946.1 kB/s eta 0:00:50\n",
      "   --------------------- ----------------- 54.6/101.0 MB 946.1 kB/s eta 0:00:50\n",
      "   --------------------- ----------------- 54.7/101.0 MB 944.8 kB/s eta 0:00:50\n",
      "   --------------------- ----------------- 54.7/101.0 MB 942.1 kB/s eta 0:00:50\n",
      "   --------------------- ----------------- 54.7/101.0 MB 940.7 kB/s eta 0:00:50\n",
      "   --------------------- ----------------- 54.8/101.0 MB 940.7 kB/s eta 0:00:50\n",
      "   --------------------- ----------------- 54.8/101.0 MB 936.6 kB/s eta 0:00:50\n",
      "   --------------------- ----------------- 54.8/101.0 MB 935.3 kB/s eta 0:00:50\n",
      "   --------------------- ----------------- 54.8/101.0 MB 935.3 kB/s eta 0:00:50\n",
      "   --------------------- ----------------- 54.9/101.0 MB 932.6 kB/s eta 0:00:50\n",
      "   --------------------- ----------------- 54.9/101.0 MB 932.6 kB/s eta 0:00:50\n",
      "   --------------------- ----------------- 54.9/101.0 MB 931.3 kB/s eta 0:00:50\n",
      "   --------------------- ----------------- 55.0/101.0 MB 931.3 kB/s eta 0:00:50\n",
      "   --------------------- ----------------- 55.0/101.0 MB 931.2 kB/s eta 0:00:50\n",
      "   --------------------- ----------------- 55.0/101.0 MB 930.0 kB/s eta 0:00:50\n",
      "   --------------------- ----------------- 55.1/101.0 MB 931.3 kB/s eta 0:00:50\n",
      "   --------------------- ----------------- 55.1/101.0 MB 930.0 kB/s eta 0:00:50\n",
      "   --------------------- ----------------- 55.1/101.0 MB 927.4 kB/s eta 0:00:50\n",
      "   --------------------- ----------------- 55.2/101.0 MB 927.3 kB/s eta 0:00:50\n",
      "   --------------------- ----------------- 55.2/101.0 MB 927.4 kB/s eta 0:00:50\n",
      "   --------------------- ----------------- 55.2/101.0 MB 926.1 kB/s eta 0:00:50\n",
      "   --------------------- ----------------- 55.3/101.0 MB 926.0 kB/s eta 0:00:50\n",
      "   --------------------- ----------------- 55.3/101.0 MB 924.7 kB/s eta 0:00:50\n",
      "   --------------------- ----------------- 55.4/101.0 MB 924.8 kB/s eta 0:00:50\n",
      "   --------------------- ----------------- 55.4/101.0 MB 923.4 kB/s eta 0:00:50\n",
      "   --------------------- ----------------- 55.4/101.0 MB 920.9 kB/s eta 0:00:50\n",
      "   --------------------- ----------------- 55.4/101.0 MB 918.2 kB/s eta 0:00:50\n",
      "   --------------------- ----------------- 55.5/101.0 MB 918.2 kB/s eta 0:00:50\n",
      "   --------------------- ----------------- 55.5/101.0 MB 918.2 kB/s eta 0:00:50\n",
      "   --------------------- ----------------- 55.6/101.0 MB 916.9 kB/s eta 0:00:50\n",
      "   --------------------- ----------------- 55.6/101.0 MB 915.7 kB/s eta 0:00:50\n",
      "   --------------------- ----------------- 55.6/101.0 MB 914.4 kB/s eta 0:00:50\n",
      "   --------------------- ----------------- 55.7/101.0 MB 913.1 kB/s eta 0:00:50\n",
      "   --------------------- ----------------- 55.7/101.0 MB 911.8 kB/s eta 0:00:50\n",
      "   --------------------- ----------------- 55.8/101.0 MB 911.8 kB/s eta 0:00:50\n",
      "   --------------------- ----------------- 55.8/101.0 MB 910.6 kB/s eta 0:00:50\n",
      "   --------------------- ----------------- 55.8/101.0 MB 909.3 kB/s eta 0:00:50\n",
      "   --------------------- ----------------- 55.9/101.0 MB 909.3 kB/s eta 0:00:50\n",
      "   --------------------- ----------------- 55.9/101.0 MB 906.7 kB/s eta 0:00:50\n",
      "   --------------------- ----------------- 56.0/101.0 MB 906.8 kB/s eta 0:00:50\n",
      "   --------------------- ----------------- 56.0/101.0 MB 904.2 kB/s eta 0:00:50\n",
      "   --------------------- ----------------- 56.1/101.0 MB 903.0 kB/s eta 0:00:50\n",
      "   --------------------- ----------------- 56.1/101.0 MB 900.6 kB/s eta 0:00:50\n",
      "   --------------------- ----------------- 56.1/101.0 MB 899.3 kB/s eta 0:00:50\n",
      "   --------------------- ----------------- 56.2/101.0 MB 898.1 kB/s eta 0:00:50\n",
      "   --------------------- ----------------- 56.2/101.0 MB 895.6 kB/s eta 0:00:51\n",
      "   --------------------- ----------------- 56.2/101.0 MB 895.6 kB/s eta 0:00:50\n",
      "   --------------------- ----------------- 56.3/101.0 MB 893.2 kB/s eta 0:00:51\n",
      "   --------------------- ----------------- 56.3/101.0 MB 890.7 kB/s eta 0:00:51\n",
      "   --------------------- ----------------- 56.3/101.0 MB 888.4 kB/s eta 0:00:51\n",
      "   --------------------- ----------------- 56.4/101.0 MB 885.9 kB/s eta 0:00:51\n",
      "   --------------------- ----------------- 56.4/101.0 MB 883.6 kB/s eta 0:00:51\n",
      "   --------------------- ----------------- 56.4/101.0 MB 882.3 kB/s eta 0:00:51\n",
      "   --------------------- ----------------- 56.5/101.0 MB 878.8 kB/s eta 0:00:51\n",
      "   --------------------- ----------------- 56.5/101.0 MB 877.6 kB/s eta 0:00:51\n",
      "   --------------------- ----------------- 56.5/101.0 MB 874.1 kB/s eta 0:00:51\n",
      "   --------------------- ----------------- 56.5/101.0 MB 873.0 kB/s eta 0:00:51\n",
      "   --------------------- ----------------- 56.6/101.0 MB 870.6 kB/s eta 0:00:52\n",
      "   --------------------- ----------------- 56.6/101.0 MB 869.4 kB/s eta 0:00:52\n",
      "   --------------------- ----------------- 56.6/101.0 MB 867.1 kB/s eta 0:00:52\n",
      "   --------------------- ----------------- 56.7/101.0 MB 864.9 kB/s eta 0:00:52\n",
      "   --------------------- ----------------- 56.7/101.0 MB 864.9 kB/s eta 0:00:52\n",
      "   --------------------- ----------------- 56.7/101.0 MB 861.5 kB/s eta 0:00:52\n",
      "   --------------------- ----------------- 56.7/101.0 MB 859.2 kB/s eta 0:00:52\n",
      "   --------------------- ----------------- 56.8/101.0 MB 857.0 kB/s eta 0:00:52\n",
      "   --------------------- ----------------- 56.8/101.0 MB 852.5 kB/s eta 0:00:52\n",
      "   --------------------- ----------------- 56.8/101.0 MB 851.4 kB/s eta 0:00:52\n",
      "   --------------------- ----------------- 56.8/101.0 MB 849.2 kB/s eta 0:00:53\n",
      "   --------------------- ----------------- 56.9/101.0 MB 847.0 kB/s eta 0:00:53\n",
      "   --------------------- ----------------- 56.9/101.0 MB 843.7 kB/s eta 0:00:53\n",
      "   --------------------- ----------------- 56.9/101.0 MB 841.5 kB/s eta 0:00:53\n",
      "   --------------------- ----------------- 56.9/101.0 MB 839.4 kB/s eta 0:00:53\n",
      "   --------------------- ----------------- 57.0/101.0 MB 837.2 kB/s eta 0:00:53\n",
      "   ---------------------- ---------------- 57.0/101.0 MB 835.1 kB/s eta 0:00:53\n",
      "   ---------------------- ---------------- 57.0/101.0 MB 834.0 kB/s eta 0:00:53\n",
      "   ---------------------- ---------------- 57.0/101.0 MB 830.9 kB/s eta 0:00:53\n",
      "   ---------------------- ---------------- 57.1/101.0 MB 828.7 kB/s eta 0:00:54\n",
      "   ---------------------- ---------------- 57.1/101.0 MB 827.6 kB/s eta 0:00:54\n",
      "   ---------------------- ---------------- 57.1/101.0 MB 824.5 kB/s eta 0:00:54\n",
      "   ---------------------- ---------------- 57.2/101.0 MB 824.6 kB/s eta 0:00:54\n",
      "   ---------------------- ---------------- 57.2/101.0 MB 823.5 kB/s eta 0:00:54\n",
      "   ---------------------- ---------------- 57.3/101.0 MB 822.5 kB/s eta 0:00:54\n",
      "   ---------------------- ---------------- 57.3/101.0 MB 821.5 kB/s eta 0:00:54\n",
      "   ---------------------- ---------------- 57.3/101.0 MB 820.4 kB/s eta 0:00:54\n",
      "   ---------------------- ---------------- 57.4/101.0 MB 817.3 kB/s eta 0:00:54\n",
      "   ---------------------- ---------------- 57.4/101.0 MB 816.4 kB/s eta 0:00:54\n",
      "   ---------------------- ---------------- 57.4/101.0 MB 818.4 kB/s eta 0:00:54\n",
      "   ---------------------- ---------------- 57.5/101.0 MB 815.3 kB/s eta 0:00:54\n",
      "   ---------------------- ---------------- 57.5/101.0 MB 813.3 kB/s eta 0:00:54\n",
      "   ---------------------- ---------------- 57.5/101.0 MB 814.3 kB/s eta 0:00:54\n",
      "   ---------------------- ---------------- 57.6/101.0 MB 811.3 kB/s eta 0:00:54\n",
      "   ---------------------- ---------------- 57.6/101.0 MB 813.3 kB/s eta 0:00:54\n",
      "   ---------------------- ---------------- 57.6/101.0 MB 812.3 kB/s eta 0:00:54\n",
      "   ---------------------- ---------------- 57.7/101.0 MB 813.3 kB/s eta 0:00:54\n",
      "   ---------------------- ---------------- 57.7/101.0 MB 813.3 kB/s eta 0:00:54\n",
      "   ---------------------- ---------------- 57.8/101.0 MB 814.3 kB/s eta 0:00:54\n",
      "   ---------------------- ---------------- 57.8/101.0 MB 815.3 kB/s eta 0:00:53\n",
      "   ---------------------- ---------------- 57.9/101.0 MB 816.3 kB/s eta 0:00:53\n",
      "   ---------------------- ---------------- 57.9/101.0 MB 817.4 kB/s eta 0:00:53\n",
      "   ---------------------- ---------------- 58.0/101.0 MB 816.4 kB/s eta 0:00:53\n",
      "   ---------------------- ---------------- 58.0/101.0 MB 816.4 kB/s eta 0:00:53\n",
      "   ---------------------- ---------------- 58.1/101.0 MB 816.4 kB/s eta 0:00:53\n",
      "   ---------------------- ---------------- 58.1/101.0 MB 817.4 kB/s eta 0:00:53\n",
      "   ---------------------- ---------------- 58.2/101.0 MB 817.3 kB/s eta 0:00:53\n",
      "   ---------------------- ---------------- 58.2/101.0 MB 817.3 kB/s eta 0:00:53\n",
      "   ---------------------- ---------------- 58.3/101.0 MB 818.4 kB/s eta 0:00:53\n",
      "   ---------------------- ---------------- 58.3/101.0 MB 818.4 kB/s eta 0:00:53\n",
      "   ---------------------- ---------------- 58.4/101.0 MB 818.4 kB/s eta 0:00:53\n",
      "   ---------------------- ---------------- 58.4/101.0 MB 818.4 kB/s eta 0:00:53\n",
      "   ---------------------- ---------------- 58.5/101.0 MB 817.3 kB/s eta 0:00:53\n",
      "   ---------------------- ---------------- 58.5/101.0 MB 816.4 kB/s eta 0:00:53\n",
      "   ---------------------- ---------------- 58.5/101.0 MB 815.3 kB/s eta 0:00:53\n",
      "   ---------------------- ---------------- 58.6/101.0 MB 814.3 kB/s eta 0:00:53\n",
      "   ---------------------- ---------------- 58.6/101.0 MB 811.3 kB/s eta 0:00:53\n",
      "   ---------------------- ---------------- 58.6/101.0 MB 809.3 kB/s eta 0:00:53\n",
      "   ---------------------- ---------------- 58.6/101.0 MB 808.3 kB/s eta 0:00:53\n",
      "   ---------------------- ---------------- 58.6/101.0 MB 806.3 kB/s eta 0:00:53\n",
      "   ---------------------- ---------------- 58.7/101.0 MB 803.3 kB/s eta 0:00:53\n",
      "   ---------------------- ---------------- 58.7/101.0 MB 802.3 kB/s eta 0:00:53\n",
      "   ---------------------- ---------------- 58.7/101.0 MB 800.4 kB/s eta 0:00:53\n",
      "   ---------------------- ---------------- 58.7/101.0 MB 800.3 kB/s eta 0:00:53\n",
      "   ---------------------- ---------------- 58.7/101.0 MB 798.4 kB/s eta 0:00:53\n",
      "   ---------------------- ---------------- 58.8/101.0 MB 796.5 kB/s eta 0:00:54\n",
      "   ---------------------- ---------------- 58.8/101.0 MB 796.5 kB/s eta 0:00:53\n",
      "   ---------------------- ---------------- 58.8/101.0 MB 794.5 kB/s eta 0:00:54\n",
      "   ---------------------- ---------------- 58.9/101.0 MB 792.6 kB/s eta 0:00:54\n",
      "   ---------------------- ---------------- 58.9/101.0 MB 792.6 kB/s eta 0:00:54\n",
      "   ---------------------- ---------------- 58.9/101.0 MB 790.7 kB/s eta 0:00:54\n",
      "   ---------------------- ---------------- 59.0/101.0 MB 790.7 kB/s eta 0:00:54\n",
      "   ---------------------- ---------------- 59.0/101.0 MB 789.8 kB/s eta 0:00:54\n",
      "   ---------------------- ---------------- 59.1/101.0 MB 789.8 kB/s eta 0:00:54\n",
      "   ---------------------- ---------------- 59.1/101.0 MB 787.9 kB/s eta 0:00:54\n",
      "   ---------------------- ---------------- 59.1/101.0 MB 786.9 kB/s eta 0:00:54\n",
      "   ---------------------- ---------------- 59.2/101.0 MB 787.8 kB/s eta 0:00:54\n",
      "   ---------------------- ---------------- 59.2/101.0 MB 786.0 kB/s eta 0:00:54\n",
      "   ---------------------- ---------------- 59.3/101.0 MB 787.9 kB/s eta 0:00:53\n",
      "   ---------------------- ---------------- 59.3/101.0 MB 788.8 kB/s eta 0:00:53\n",
      "   ---------------------- ---------------- 59.4/101.0 MB 788.8 kB/s eta 0:00:53\n",
      "   ---------------------- ---------------- 59.4/101.0 MB 793.6 kB/s eta 0:00:53\n",
      "   ---------------------- ---------------- 59.4/101.0 MB 791.7 kB/s eta 0:00:53\n",
      "   ---------------------- ---------------- 59.5/101.0 MB 793.6 kB/s eta 0:00:53\n",
      "   ---------------------- ---------------- 59.5/101.0 MB 794.5 kB/s eta 0:00:53\n",
      "   ---------------------- ---------------- 59.6/101.0 MB 794.5 kB/s eta 0:00:53\n",
      "   ----------------------- --------------- 59.6/101.0 MB 794.5 kB/s eta 0:00:53\n",
      "   ----------------------- --------------- 59.6/101.0 MB 794.5 kB/s eta 0:00:53\n",
      "   ----------------------- --------------- 59.7/101.0 MB 794.5 kB/s eta 0:00:53\n",
      "   ----------------------- --------------- 59.7/101.0 MB 793.6 kB/s eta 0:00:53\n",
      "   ----------------------- --------------- 59.8/101.0 MB 794.5 kB/s eta 0:00:52\n",
      "   ----------------------- --------------- 59.8/101.0 MB 794.5 kB/s eta 0:00:52\n",
      "   ----------------------- --------------- 59.8/101.0 MB 793.6 kB/s eta 0:00:52\n",
      "   ----------------------- --------------- 59.9/101.0 MB 794.5 kB/s eta 0:00:52\n",
      "   ----------------------- --------------- 59.9/101.0 MB 796.5 kB/s eta 0:00:52\n",
      "   ----------------------- --------------- 60.0/101.0 MB 798.4 kB/s eta 0:00:52\n",
      "   ----------------------- --------------- 60.0/101.0 MB 798.5 kB/s eta 0:00:52\n",
      "   ----------------------- --------------- 60.1/101.0 MB 800.4 kB/s eta 0:00:52\n",
      "   ----------------------- --------------- 60.1/101.0 MB 801.3 kB/s eta 0:00:52\n",
      "   ----------------------- --------------- 60.2/101.0 MB 801.4 kB/s eta 0:00:51\n",
      "   ----------------------- --------------- 60.2/101.0 MB 804.3 kB/s eta 0:00:51\n",
      "   ----------------------- --------------- 60.3/101.0 MB 804.3 kB/s eta 0:00:51\n",
      "   ----------------------- --------------- 60.3/101.0 MB 806.3 kB/s eta 0:00:51\n",
      "   ----------------------- --------------- 60.4/101.0 MB 806.3 kB/s eta 0:00:51\n",
      "   ----------------------- --------------- 60.4/101.0 MB 806.3 kB/s eta 0:00:51\n",
      "   ----------------------- --------------- 60.5/101.0 MB 805.3 kB/s eta 0:00:51\n",
      "   ----------------------- --------------- 60.5/101.0 MB 805.3 kB/s eta 0:00:51\n",
      "   ----------------------- --------------- 60.5/101.0 MB 804.3 kB/s eta 0:00:51\n",
      "   ----------------------- --------------- 60.6/101.0 MB 803.3 kB/s eta 0:00:51\n",
      "   ----------------------- --------------- 60.6/101.0 MB 803.3 kB/s eta 0:00:51\n",
      "   ----------------------- --------------- 60.6/101.0 MB 802.3 kB/s eta 0:00:51\n",
      "   ----------------------- --------------- 60.7/101.0 MB 802.3 kB/s eta 0:00:51\n",
      "   ----------------------- --------------- 60.7/101.0 MB 799.4 kB/s eta 0:00:51\n",
      "   ----------------------- --------------- 60.7/101.0 MB 797.5 kB/s eta 0:00:51\n",
      "   ----------------------- --------------- 60.7/101.0 MB 795.5 kB/s eta 0:00:51\n",
      "   ----------------------- --------------- 60.8/101.0 MB 794.5 kB/s eta 0:00:51\n",
      "   ----------------------- --------------- 60.8/101.0 MB 793.6 kB/s eta 0:00:51\n",
      "   ----------------------- --------------- 60.8/101.0 MB 791.7 kB/s eta 0:00:51\n",
      "   ----------------------- --------------- 60.8/101.0 MB 790.7 kB/s eta 0:00:51\n",
      "   ----------------------- --------------- 60.9/101.0 MB 791.7 kB/s eta 0:00:51\n",
      "   ----------------------- --------------- 60.9/101.0 MB 789.8 kB/s eta 0:00:51\n",
      "   ----------------------- --------------- 60.9/101.0 MB 788.8 kB/s eta 0:00:51\n",
      "   ----------------------- --------------- 61.0/101.0 MB 787.8 kB/s eta 0:00:51\n",
      "   ----------------------- --------------- 61.0/101.0 MB 786.9 kB/s eta 0:00:51\n",
      "   ----------------------- --------------- 61.0/101.0 MB 785.9 kB/s eta 0:00:51\n",
      "   ----------------------- --------------- 61.0/101.0 MB 786.9 kB/s eta 0:00:51\n",
      "   ----------------------- --------------- 61.1/101.0 MB 786.0 kB/s eta 0:00:51\n",
      "   ----------------------- --------------- 61.1/101.0 MB 785.0 kB/s eta 0:00:51\n",
      "   ----------------------- --------------- 61.2/101.0 MB 785.0 kB/s eta 0:00:51\n",
      "   ----------------------- --------------- 61.2/101.0 MB 784.1 kB/s eta 0:00:51\n",
      "   ----------------------- --------------- 61.2/101.0 MB 785.0 kB/s eta 0:00:51\n",
      "   ----------------------- --------------- 61.3/101.0 MB 784.1 kB/s eta 0:00:51\n",
      "   ----------------------- --------------- 61.3/101.0 MB 783.2 kB/s eta 0:00:51\n",
      "   ----------------------- --------------- 61.4/101.0 MB 783.1 kB/s eta 0:00:51\n",
      "   ----------------------- --------------- 61.4/101.0 MB 782.2 kB/s eta 0:00:51\n",
      "   ----------------------- --------------- 61.5/101.0 MB 781.3 kB/s eta 0:00:51\n",
      "   ----------------------- --------------- 61.5/101.0 MB 780.4 kB/s eta 0:00:51\n",
      "   ----------------------- --------------- 61.5/101.0 MB 778.5 kB/s eta 0:00:51\n",
      "   ----------------------- --------------- 61.6/101.0 MB 777.5 kB/s eta 0:00:51\n",
      "   ----------------------- --------------- 61.6/101.0 MB 778.5 kB/s eta 0:00:51\n",
      "   ----------------------- --------------- 61.7/101.0 MB 777.6 kB/s eta 0:00:51\n",
      "   ----------------------- --------------- 61.7/101.0 MB 776.6 kB/s eta 0:00:51\n",
      "   ----------------------- --------------- 61.7/101.0 MB 776.6 kB/s eta 0:00:51\n",
      "   ----------------------- --------------- 61.7/101.0 MB 778.5 kB/s eta 0:00:51\n",
      "   ----------------------- --------------- 61.8/101.0 MB 776.6 kB/s eta 0:00:51\n",
      "   ----------------------- --------------- 61.8/101.0 MB 775.7 kB/s eta 0:00:51\n",
      "   ----------------------- --------------- 61.9/101.0 MB 775.7 kB/s eta 0:00:51\n",
      "   ----------------------- --------------- 61.9/101.0 MB 777.6 kB/s eta 0:00:51\n",
      "   ----------------------- --------------- 61.9/101.0 MB 776.6 kB/s eta 0:00:51\n",
      "   ----------------------- --------------- 62.0/101.0 MB 776.6 kB/s eta 0:00:51\n",
      "   ----------------------- --------------- 62.0/101.0 MB 776.6 kB/s eta 0:00:51\n",
      "   ----------------------- --------------- 62.0/101.0 MB 777.6 kB/s eta 0:00:51\n",
      "   ----------------------- --------------- 62.1/101.0 MB 779.4 kB/s eta 0:00:50\n",
      "   ----------------------- --------------- 62.1/101.0 MB 781.3 kB/s eta 0:00:50\n",
      "   ------------------------ -------------- 62.2/101.0 MB 782.2 kB/s eta 0:00:50\n",
      "   ------------------------ -------------- 62.2/101.0 MB 783.2 kB/s eta 0:00:50\n",
      "   ------------------------ -------------- 62.3/101.0 MB 783.1 kB/s eta 0:00:50\n",
      "   ------------------------ -------------- 62.3/101.0 MB 784.1 kB/s eta 0:00:50\n",
      "   ------------------------ -------------- 62.4/101.0 MB 786.9 kB/s eta 0:00:50\n",
      "   ------------------------ -------------- 62.4/101.0 MB 786.9 kB/s eta 0:00:50\n",
      "   ------------------------ -------------- 62.4/101.0 MB 786.9 kB/s eta 0:00:50\n",
      "   ------------------------ -------------- 62.5/101.0 MB 788.8 kB/s eta 0:00:49\n",
      "   ------------------------ -------------- 62.5/101.0 MB 789.8 kB/s eta 0:00:49\n",
      "   ------------------------ -------------- 62.6/101.0 MB 790.7 kB/s eta 0:00:49\n",
      "   ------------------------ -------------- 62.7/101.0 MB 791.7 kB/s eta 0:00:49\n",
      "   ------------------------ -------------- 62.7/101.0 MB 792.6 kB/s eta 0:00:49\n",
      "   ------------------------ -------------- 62.8/101.0 MB 793.6 kB/s eta 0:00:49\n",
      "   ------------------------ -------------- 62.8/101.0 MB 793.6 kB/s eta 0:00:49\n",
      "   ------------------------ -------------- 62.9/101.0 MB 792.6 kB/s eta 0:00:49\n",
      "   ------------------------ -------------- 62.9/101.0 MB 792.6 kB/s eta 0:00:49\n",
      "   ------------------------ -------------- 62.9/101.0 MB 790.7 kB/s eta 0:00:49\n",
      "   ------------------------ -------------- 63.0/101.0 MB 791.7 kB/s eta 0:00:49\n",
      "   ------------------------ -------------- 63.0/101.0 MB 793.6 kB/s eta 0:00:48\n",
      "   ------------------------ -------------- 63.1/101.0 MB 794.5 kB/s eta 0:00:48\n",
      "   ------------------------ -------------- 63.1/101.0 MB 793.6 kB/s eta 0:00:48\n",
      "   ------------------------ -------------- 63.2/101.0 MB 794.5 kB/s eta 0:00:48\n",
      "   ------------------------ -------------- 63.2/101.0 MB 793.6 kB/s eta 0:00:48\n",
      "   ------------------------ -------------- 63.3/101.0 MB 793.6 kB/s eta 0:00:48\n",
      "   ------------------------ -------------- 63.3/101.0 MB 793.6 kB/s eta 0:00:48\n",
      "   ------------------------ -------------- 63.4/101.0 MB 793.6 kB/s eta 0:00:48\n",
      "   ------------------------ -------------- 63.4/101.0 MB 795.5 kB/s eta 0:00:48\n",
      "   ------------------------ -------------- 63.5/101.0 MB 794.5 kB/s eta 0:00:48\n",
      "   ------------------------ -------------- 63.5/101.0 MB 796.5 kB/s eta 0:00:48\n",
      "   ------------------------ -------------- 63.6/101.0 MB 798.5 kB/s eta 0:00:47\n",
      "   ------------------------ -------------- 63.7/101.0 MB 800.4 kB/s eta 0:00:47\n",
      "   ------------------------ -------------- 63.7/101.0 MB 801.3 kB/s eta 0:00:47\n",
      "   ------------------------ -------------- 63.8/101.0 MB 802.3 kB/s eta 0:00:47\n",
      "   ------------------------ -------------- 63.8/101.0 MB 803.3 kB/s eta 0:00:47\n",
      "   ------------------------ -------------- 63.9/101.0 MB 804.3 kB/s eta 0:00:47\n",
      "   ------------------------ -------------- 63.9/101.0 MB 805.3 kB/s eta 0:00:47\n",
      "   ------------------------ -------------- 64.0/101.0 MB 805.3 kB/s eta 0:00:46\n",
      "   ------------------------ -------------- 64.1/101.0 MB 806.3 kB/s eta 0:00:46\n",
      "   ------------------------ -------------- 64.1/101.0 MB 807.3 kB/s eta 0:00:46\n",
      "   ------------------------ -------------- 64.2/101.0 MB 808.3 kB/s eta 0:00:46\n",
      "   ------------------------ -------------- 64.3/101.0 MB 811.2 kB/s eta 0:00:46\n",
      "   ------------------------ -------------- 64.3/101.0 MB 815.3 kB/s eta 0:00:45\n",
      "   ------------------------ -------------- 64.4/101.0 MB 815.3 kB/s eta 0:00:45\n",
      "   ------------------------ -------------- 64.5/101.0 MB 820.4 kB/s eta 0:00:45\n",
      "   ------------------------ -------------- 64.6/101.0 MB 825.6 kB/s eta 0:00:45\n",
      "   ------------------------ -------------- 64.6/101.0 MB 828.7 kB/s eta 0:00:44\n",
      "   ------------------------ -------------- 64.7/101.0 MB 834.0 kB/s eta 0:00:44\n",
      "   ------------------------- ------------- 64.8/101.0 MB 839.3 kB/s eta 0:00:44\n",
      "   ------------------------- ------------- 64.9/101.0 MB 841.5 kB/s eta 0:00:43\n",
      "   ------------------------- ------------- 64.9/101.0 MB 843.7 kB/s eta 0:00:43\n",
      "   ------------------------- ------------- 65.0/101.0 MB 851.4 kB/s eta 0:00:43\n",
      "   ------------------------- ------------- 65.0/101.0 MB 854.7 kB/s eta 0:00:43\n",
      "   ------------------------- ------------- 65.1/101.0 MB 855.8 kB/s eta 0:00:42\n",
      "   ------------------------- ------------- 65.2/101.0 MB 859.2 kB/s eta 0:00:42\n",
      "   ------------------------- ------------- 65.2/101.0 MB 862.5 kB/s eta 0:00:42\n",
      "   ------------------------- ------------- 65.3/101.0 MB 864.8 kB/s eta 0:00:42\n",
      "   ------------------------- ------------- 65.3/101.0 MB 867.1 kB/s eta 0:00:42\n",
      "   ------------------------- ------------- 65.4/101.0 MB 869.4 kB/s eta 0:00:41\n",
      "   ------------------------- ------------- 65.4/101.0 MB 871.7 kB/s eta 0:00:41\n",
      "   ------------------------- ------------- 65.5/101.0 MB 871.8 kB/s eta 0:00:41\n",
      "   ------------------------- ------------- 65.5/101.0 MB 874.1 kB/s eta 0:00:41\n",
      "   ------------------------- ------------- 65.6/101.0 MB 875.3 kB/s eta 0:00:41\n",
      "   ------------------------- ------------- 65.7/101.0 MB 878.8 kB/s eta 0:00:41\n",
      "   ------------------------- ------------- 65.7/101.0 MB 882.3 kB/s eta 0:00:40\n",
      "   ------------------------- ------------- 65.8/101.0 MB 884.7 kB/s eta 0:00:40\n",
      "   ------------------------- ------------- 65.9/101.0 MB 888.3 kB/s eta 0:00:40\n",
      "   ------------------------- ------------- 65.9/101.0 MB 890.7 kB/s eta 0:00:40\n",
      "   ------------------------- ------------- 66.0/101.0 MB 890.8 kB/s eta 0:00:40\n",
      "   ------------------------- ------------- 66.1/101.0 MB 893.2 kB/s eta 0:00:40\n",
      "   ------------------------- ------------- 66.1/101.0 MB 893.2 kB/s eta 0:00:40\n",
      "   ------------------------- ------------- 66.2/101.0 MB 894.4 kB/s eta 0:00:39\n",
      "   ------------------------- ------------- 66.2/101.0 MB 896.9 kB/s eta 0:00:39\n",
      "   ------------------------- ------------- 66.3/101.0 MB 896.9 kB/s eta 0:00:39\n",
      "   ------------------------- ------------- 66.3/101.0 MB 896.8 kB/s eta 0:00:39\n",
      "   ------------------------- ------------- 66.3/101.0 MB 896.8 kB/s eta 0:00:39\n",
      "   ------------------------- ------------- 66.4/101.0 MB 899.3 kB/s eta 0:00:39\n",
      "   ------------------------- ------------- 66.5/101.0 MB 904.3 kB/s eta 0:00:39\n",
      "   ------------------------- ------------- 66.5/101.0 MB 906.8 kB/s eta 0:00:39\n",
      "   ------------------------- ------------- 66.6/101.0 MB 911.8 kB/s eta 0:00:38\n",
      "   ------------------------- ------------- 66.7/101.0 MB 914.4 kB/s eta 0:00:38\n",
      "   ------------------------- ------------- 66.7/101.0 MB 919.5 kB/s eta 0:00:38\n",
      "   ------------------------- ------------- 66.8/101.0 MB 920.8 kB/s eta 0:00:38\n",
      "   ------------------------- ------------- 66.8/101.0 MB 924.7 kB/s eta 0:00:37\n",
      "   ------------------------- ------------- 66.9/101.0 MB 927.4 kB/s eta 0:00:37\n",
      "   ------------------------- ------------- 66.9/101.0 MB 924.7 kB/s eta 0:00:37\n",
      "   ------------------------- ------------- 66.9/101.0 MB 927.4 kB/s eta 0:00:37\n",
      "   ------------------------- ------------- 67.0/101.0 MB 924.7 kB/s eta 0:00:37\n",
      "   ------------------------- ------------- 67.0/101.0 MB 928.6 kB/s eta 0:00:37\n",
      "   ------------------------- ------------- 67.0/101.0 MB 931.2 kB/s eta 0:00:37\n",
      "   ------------------------- ------------- 67.1/101.0 MB 934.0 kB/s eta 0:00:37\n",
      "   ------------------------- ------------- 67.1/101.0 MB 935.3 kB/s eta 0:00:37\n",
      "   ------------------------- ------------- 67.2/101.0 MB 939.3 kB/s eta 0:00:37\n",
      "   ------------------------- ------------- 67.2/101.0 MB 939.3 kB/s eta 0:00:36\n",
      "   ------------------------- ------------- 67.3/101.0 MB 944.8 kB/s eta 0:00:36\n",
      "   ------------------------- ------------- 67.3/101.0 MB 946.1 kB/s eta 0:00:36\n",
      "   ------------------------- ------------- 67.3/101.0 MB 943.4 kB/s eta 0:00:36\n",
      "   -------------------------- ------------ 67.3/101.0 MB 943.4 kB/s eta 0:00:36\n",
      "   -------------------------- ------------ 67.4/101.0 MB 942.1 kB/s eta 0:00:36\n",
      "   -------------------------- ------------ 67.4/101.0 MB 942.0 kB/s eta 0:00:36\n",
      "   -------------------------- ------------ 67.5/101.0 MB 942.0 kB/s eta 0:00:36\n",
      "   -------------------------- ------------ 67.5/101.0 MB 940.7 kB/s eta 0:00:36\n",
      "   -------------------------- ------------ 67.5/101.0 MB 942.0 kB/s eta 0:00:36\n",
      "   -------------------------- ------------ 67.6/101.0 MB 942.1 kB/s eta 0:00:36\n",
      "   -------------------------- ------------ 67.6/101.0 MB 942.1 kB/s eta 0:00:36\n",
      "   -------------------------- ------------ 67.7/101.0 MB 943.4 kB/s eta 0:00:36\n",
      "   -------------------------- ------------ 67.7/101.0 MB 943.4 kB/s eta 0:00:36\n",
      "   -------------------------- ------------ 67.7/101.0 MB 943.4 kB/s eta 0:00:36\n",
      "   -------------------------- ------------ 67.7/101.0 MB 942.0 kB/s eta 0:00:36\n",
      "   -------------------------- ------------ 67.8/101.0 MB 942.0 kB/s eta 0:00:36\n",
      "   -------------------------- ------------ 67.8/101.0 MB 942.1 kB/s eta 0:00:36\n",
      "   -------------------------- ------------ 67.9/101.0 MB 940.7 kB/s eta 0:00:36\n",
      "   -------------------------- ------------ 67.9/101.0 MB 942.1 kB/s eta 0:00:36\n",
      "   -------------------------- ------------ 67.9/101.0 MB 940.7 kB/s eta 0:00:36\n",
      "   -------------------------- ------------ 68.0/101.0 MB 939.3 kB/s eta 0:00:36\n",
      "   -------------------------- ------------ 68.0/101.0 MB 939.3 kB/s eta 0:00:36\n",
      "   -------------------------- ------------ 68.0/101.0 MB 937.9 kB/s eta 0:00:36\n",
      "   -------------------------- ------------ 68.1/101.0 MB 938.0 kB/s eta 0:00:36\n",
      "   -------------------------- ------------ 68.1/101.0 MB 938.0 kB/s eta 0:00:36\n",
      "   -------------------------- ------------ 68.1/101.0 MB 935.2 kB/s eta 0:00:36\n",
      "   -------------------------- ------------ 68.1/101.0 MB 931.2 kB/s eta 0:00:36\n",
      "   -------------------------- ------------ 68.2/101.0 MB 930.0 kB/s eta 0:00:36\n",
      "   -------------------------- ------------ 68.2/101.0 MB 928.6 kB/s eta 0:00:36\n",
      "   -------------------------- ------------ 68.2/101.0 MB 927.4 kB/s eta 0:00:36\n",
      "   -------------------------- ------------ 68.2/101.0 MB 924.8 kB/s eta 0:00:36\n",
      "   -------------------------- ------------ 68.3/101.0 MB 924.7 kB/s eta 0:00:36\n",
      "   -------------------------- ------------ 68.3/101.0 MB 922.1 kB/s eta 0:00:36\n",
      "   -------------------------- ------------ 68.4/101.0 MB 919.5 kB/s eta 0:00:36\n",
      "   -------------------------- ------------ 68.4/101.0 MB 918.2 kB/s eta 0:00:36\n",
      "   -------------------------- ------------ 68.4/101.0 MB 917.0 kB/s eta 0:00:36\n",
      "   -------------------------- ------------ 68.4/101.0 MB 914.4 kB/s eta 0:00:36\n",
      "   -------------------------- ------------ 68.5/101.0 MB 911.8 kB/s eta 0:00:36\n",
      "   -------------------------- ------------ 68.5/101.0 MB 910.6 kB/s eta 0:00:36\n",
      "   -------------------------- ------------ 68.5/101.0 MB 909.3 kB/s eta 0:00:36\n",
      "   -------------------------- ------------ 68.6/101.0 MB 906.8 kB/s eta 0:00:36\n",
      "   -------------------------- ------------ 68.6/101.0 MB 908.0 kB/s eta 0:00:36\n",
      "   -------------------------- ------------ 68.6/101.0 MB 904.2 kB/s eta 0:00:36\n",
      "   -------------------------- ------------ 68.7/101.0 MB 903.0 kB/s eta 0:00:36\n",
      "   -------------------------- ------------ 68.7/101.0 MB 903.0 kB/s eta 0:00:36\n",
      "   -------------------------- ------------ 68.7/101.0 MB 903.0 kB/s eta 0:00:36\n",
      "   -------------------------- ------------ 68.8/101.0 MB 904.2 kB/s eta 0:00:36\n",
      "   -------------------------- ------------ 68.8/101.0 MB 909.3 kB/s eta 0:00:36\n",
      "   -------------------------- ------------ 68.9/101.0 MB 911.8 kB/s eta 0:00:36\n",
      "   -------------------------- ------------ 68.9/101.0 MB 913.1 kB/s eta 0:00:36\n",
      "   -------------------------- ------------ 68.9/101.0 MB 915.7 kB/s eta 0:00:36\n",
      "   -------------------------- ------------ 69.0/101.0 MB 918.3 kB/s eta 0:00:35\n",
      "   -------------------------- ------------ 69.0/101.0 MB 919.5 kB/s eta 0:00:35\n",
      "   -------------------------- ------------ 69.0/101.0 MB 920.9 kB/s eta 0:00:35\n",
      "   -------------------------- ------------ 69.1/101.0 MB 922.1 kB/s eta 0:00:35\n",
      "   -------------------------- ------------ 69.1/101.0 MB 920.9 kB/s eta 0:00:35\n",
      "   -------------------------- ------------ 69.1/101.0 MB 922.2 kB/s eta 0:00:35\n",
      "   -------------------------- ------------ 69.2/101.0 MB 922.1 kB/s eta 0:00:35\n",
      "   -------------------------- ------------ 69.2/101.0 MB 923.4 kB/s eta 0:00:35\n",
      "   -------------------------- ------------ 69.3/101.0 MB 923.4 kB/s eta 0:00:35\n",
      "   -------------------------- ------------ 69.3/101.0 MB 923.4 kB/s eta 0:00:35\n",
      "   -------------------------- ------------ 69.3/101.0 MB 923.4 kB/s eta 0:00:35\n",
      "   -------------------------- ------------ 69.4/101.0 MB 924.7 kB/s eta 0:00:35\n",
      "   -------------------------- ------------ 69.4/101.0 MB 923.4 kB/s eta 0:00:35\n",
      "   -------------------------- ------------ 69.5/101.0 MB 922.1 kB/s eta 0:00:35\n",
      "   -------------------------- ------------ 69.5/101.0 MB 923.4 kB/s eta 0:00:35\n",
      "   -------------------------- ------------ 69.6/101.0 MB 922.1 kB/s eta 0:00:35\n",
      "   -------------------------- ------------ 69.6/101.0 MB 923.4 kB/s eta 0:00:35\n",
      "   -------------------------- ------------ 69.7/101.0 MB 923.4 kB/s eta 0:00:34\n",
      "   -------------------------- ------------ 69.7/101.0 MB 923.4 kB/s eta 0:00:34\n",
      "   -------------------------- ------------ 69.7/101.0 MB 923.3 kB/s eta 0:00:34\n",
      "   -------------------------- ------------ 69.8/101.0 MB 923.4 kB/s eta 0:00:34\n",
      "   -------------------------- ------------ 69.8/101.0 MB 923.4 kB/s eta 0:00:34\n",
      "   -------------------------- ------------ 69.8/101.0 MB 926.0 kB/s eta 0:00:34\n",
      "   -------------------------- ------------ 69.9/101.0 MB 924.7 kB/s eta 0:00:34\n",
      "   --------------------------- ----------- 69.9/101.0 MB 924.8 kB/s eta 0:00:34\n",
      "   --------------------------- ----------- 70.0/101.0 MB 924.8 kB/s eta 0:00:34\n",
      "   --------------------------- ----------- 70.0/101.0 MB 926.0 kB/s eta 0:00:34\n",
      "   --------------------------- ----------- 70.1/101.0 MB 924.8 kB/s eta 0:00:34\n",
      "   --------------------------- ----------- 70.1/101.0 MB 924.8 kB/s eta 0:00:34\n",
      "   --------------------------- ----------- 70.2/101.0 MB 926.0 kB/s eta 0:00:34\n",
      "   --------------------------- ----------- 70.2/101.0 MB 926.0 kB/s eta 0:00:34\n",
      "   --------------------------- ----------- 70.3/101.0 MB 924.8 kB/s eta 0:00:34\n",
      "   --------------------------- ----------- 70.3/101.0 MB 926.0 kB/s eta 0:00:34\n",
      "   --------------------------- ----------- 70.4/101.0 MB 926.0 kB/s eta 0:00:34\n",
      "   --------------------------- ----------- 70.4/101.0 MB 926.0 kB/s eta 0:00:34\n",
      "   --------------------------- ----------- 70.5/101.0 MB 926.0 kB/s eta 0:00:33\n",
      "   --------------------------- ----------- 70.5/101.0 MB 928.6 kB/s eta 0:00:33\n",
      "   --------------------------- ----------- 70.6/101.0 MB 926.0 kB/s eta 0:00:33\n",
      "   --------------------------- ----------- 70.6/101.0 MB 926.1 kB/s eta 0:00:33\n",
      "   --------------------------- ----------- 70.7/101.0 MB 928.7 kB/s eta 0:00:33\n",
      "   --------------------------- ----------- 70.7/101.0 MB 927.3 kB/s eta 0:00:33\n",
      "   --------------------------- ----------- 70.8/101.0 MB 931.3 kB/s eta 0:00:33\n",
      "   --------------------------- ----------- 70.8/101.0 MB 930.0 kB/s eta 0:00:33\n",
      "   --------------------------- ----------- 70.9/101.0 MB 932.6 kB/s eta 0:00:33\n",
      "   --------------------------- ----------- 70.9/101.0 MB 928.6 kB/s eta 0:00:33\n",
      "   --------------------------- ----------- 70.9/101.0 MB 931.2 kB/s eta 0:00:33\n",
      "   --------------------------- ----------- 70.9/101.0 MB 934.0 kB/s eta 0:00:33\n",
      "   --------------------------- ----------- 71.0/101.0 MB 935.3 kB/s eta 0:00:33\n",
      "   --------------------------- ----------- 71.0/101.0 MB 935.2 kB/s eta 0:00:33\n",
      "   --------------------------- ----------- 71.0/101.0 MB 938.0 kB/s eta 0:00:32\n",
      "   --------------------------- ----------- 71.1/101.0 MB 940.7 kB/s eta 0:00:32\n",
      "   --------------------------- ----------- 71.1/101.0 MB 940.7 kB/s eta 0:00:32\n",
      "   --------------------------- ----------- 71.2/101.0 MB 942.1 kB/s eta 0:00:32\n",
      "   --------------------------- ----------- 71.2/101.0 MB 943.4 kB/s eta 0:00:32\n",
      "   --------------------------- ----------- 71.2/101.0 MB 944.8 kB/s eta 0:00:32\n",
      "   --------------------------- ----------- 71.3/101.0 MB 944.8 kB/s eta 0:00:32\n",
      "   --------------------------- ----------- 71.4/101.0 MB 947.5 kB/s eta 0:00:32\n",
      "   --------------------------- ----------- 71.4/101.0 MB 946.1 kB/s eta 0:00:32\n",
      "   --------------------------- ----------- 71.4/101.0 MB 947.5 kB/s eta 0:00:32\n",
      "   --------------------------- ----------- 71.5/101.0 MB 946.1 kB/s eta 0:00:32\n",
      "   --------------------------- ----------- 71.5/101.0 MB 947.5 kB/s eta 0:00:32\n",
      "   --------------------------- ----------- 71.6/101.0 MB 948.9 kB/s eta 0:00:32\n",
      "   --------------------------- ----------- 71.6/101.0 MB 951.6 kB/s eta 0:00:31\n",
      "   --------------------------- ----------- 71.6/101.0 MB 947.5 kB/s eta 0:00:31\n",
      "   --------------------------- ----------- 71.7/101.0 MB 947.5 kB/s eta 0:00:31\n",
      "   --------------------------- ----------- 71.8/101.0 MB 950.2 kB/s eta 0:00:31\n",
      "   --------------------------- ----------- 71.8/101.0 MB 952.9 kB/s eta 0:00:31\n",
      "   --------------------------- ----------- 71.9/101.0 MB 953.0 kB/s eta 0:00:31\n",
      "   --------------------------- ----------- 71.9/101.0 MB 955.8 kB/s eta 0:00:31\n",
      "   --------------------------- ----------- 72.0/101.0 MB 957.1 kB/s eta 0:00:31\n",
      "   --------------------------- ----------- 72.0/101.0 MB 957.2 kB/s eta 0:00:31\n",
      "   --------------------------- ----------- 72.0/101.0 MB 955.8 kB/s eta 0:00:31\n",
      "   --------------------------- ----------- 72.1/101.0 MB 955.8 kB/s eta 0:00:31\n",
      "   --------------------------- ----------- 72.1/101.0 MB 958.6 kB/s eta 0:00:31\n",
      "   --------------------------- ----------- 72.2/101.0 MB 958.6 kB/s eta 0:00:31\n",
      "   --------------------------- ----------- 72.2/101.0 MB 960.0 kB/s eta 0:00:31\n",
      "   --------------------------- ----------- 72.3/101.0 MB 962.8 kB/s eta 0:00:30\n",
      "   --------------------------- ----------- 72.3/101.0 MB 962.8 kB/s eta 0:00:30\n",
      "   --------------------------- ----------- 72.3/101.0 MB 964.3 kB/s eta 0:00:30\n",
      "   --------------------------- ----------- 72.4/101.0 MB 964.2 kB/s eta 0:00:30\n",
      "   --------------------------- ----------- 72.4/101.0 MB 964.2 kB/s eta 0:00:30\n",
      "   --------------------------- ----------- 72.5/101.0 MB 965.7 kB/s eta 0:00:30\n",
      "   ---------------------------- ---------- 72.5/101.0 MB 967.0 kB/s eta 0:00:30\n",
      "   ---------------------------- ---------- 72.6/101.0 MB 967.1 kB/s eta 0:00:30\n",
      "   ---------------------------- ---------- 72.6/101.0 MB 965.6 kB/s eta 0:00:30\n",
      "   ---------------------------- ---------- 72.7/101.0 MB 961.4 kB/s eta 0:00:30\n",
      "   ---------------------------- ---------- 72.7/101.0 MB 962.8 kB/s eta 0:00:30\n",
      "   ---------------------------- ---------- 72.7/101.0 MB 961.4 kB/s eta 0:00:30\n",
      "   ---------------------------- ---------- 72.8/101.0 MB 958.6 kB/s eta 0:00:30\n",
      "   ---------------------------- ---------- 72.8/101.0 MB 960.0 kB/s eta 0:00:30\n",
      "   ---------------------------- ---------- 72.9/101.0 MB 958.6 kB/s eta 0:00:30\n",
      "   ---------------------------- ---------- 72.9/101.0 MB 957.2 kB/s eta 0:00:30\n",
      "   ---------------------------- ---------- 73.0/101.0 MB 957.1 kB/s eta 0:00:30\n",
      "   ---------------------------- ---------- 73.0/101.0 MB 954.4 kB/s eta 0:00:30\n",
      "   ---------------------------- ---------- 73.1/101.0 MB 954.4 kB/s eta 0:00:30\n",
      "   ---------------------------- ---------- 73.1/101.0 MB 954.4 kB/s eta 0:00:30\n",
      "   ---------------------------- ---------- 73.1/101.0 MB 957.2 kB/s eta 0:00:30\n",
      "   ---------------------------- ---------- 73.2/101.0 MB 954.4 kB/s eta 0:00:30\n",
      "   ---------------------------- ---------- 73.2/101.0 MB 954.4 kB/s eta 0:00:30\n",
      "   ---------------------------- ---------- 73.2/101.0 MB 952.9 kB/s eta 0:00:30\n",
      "   ---------------------------- ---------- 73.3/101.0 MB 950.2 kB/s eta 0:00:30\n",
      "   ---------------------------- ---------- 73.3/101.0 MB 951.6 kB/s eta 0:00:30\n",
      "   ---------------------------- ---------- 73.3/101.0 MB 950.3 kB/s eta 0:00:30\n",
      "   ---------------------------- ---------- 73.4/101.0 MB 950.3 kB/s eta 0:00:30\n",
      "   ---------------------------- ---------- 73.4/101.0 MB 948.9 kB/s eta 0:00:30\n",
      "   ---------------------------- ---------- 73.5/101.0 MB 950.2 kB/s eta 0:00:29\n",
      "   ---------------------------- ---------- 73.5/101.0 MB 947.5 kB/s eta 0:00:30\n",
      "   ---------------------------- ---------- 73.6/101.0 MB 948.8 kB/s eta 0:00:29\n",
      "   ---------------------------- ---------- 73.6/101.0 MB 948.9 kB/s eta 0:00:29\n",
      "   ---------------------------- ---------- 73.6/101.0 MB 947.5 kB/s eta 0:00:29\n",
      "   ---------------------------- ---------- 73.7/101.0 MB 946.1 kB/s eta 0:00:29\n",
      "   ---------------------------- ---------- 73.7/101.0 MB 946.1 kB/s eta 0:00:29\n",
      "   ---------------------------- ---------- 73.8/101.0 MB 944.8 kB/s eta 0:00:29\n",
      "   ---------------------------- ---------- 73.8/101.0 MB 943.4 kB/s eta 0:00:29\n",
      "   ---------------------------- ---------- 73.9/101.0 MB 943.4 kB/s eta 0:00:29\n",
      "   ---------------------------- ---------- 73.9/101.0 MB 943.4 kB/s eta 0:00:29\n",
      "   ---------------------------- ---------- 74.0/101.0 MB 942.0 kB/s eta 0:00:29\n",
      "   ---------------------------- ---------- 74.0/101.0 MB 940.7 kB/s eta 0:00:29\n",
      "   ---------------------------- ---------- 74.0/101.0 MB 940.7 kB/s eta 0:00:29\n",
      "   ---------------------------- ---------- 74.1/101.0 MB 939.4 kB/s eta 0:00:29\n",
      "   ---------------------------- ---------- 74.1/101.0 MB 936.6 kB/s eta 0:00:29\n",
      "   ---------------------------- ---------- 74.1/101.0 MB 935.3 kB/s eta 0:00:29\n",
      "   ---------------------------- ---------- 74.2/101.0 MB 931.3 kB/s eta 0:00:29\n",
      "   ---------------------------- ---------- 74.2/101.0 MB 931.2 kB/s eta 0:00:29\n",
      "   ---------------------------- ---------- 74.3/101.0 MB 928.7 kB/s eta 0:00:29\n",
      "   ---------------------------- ---------- 74.3/101.0 MB 927.4 kB/s eta 0:00:29\n",
      "   ---------------------------- ---------- 74.3/101.0 MB 927.3 kB/s eta 0:00:29\n",
      "   ---------------------------- ---------- 74.4/101.0 MB 924.7 kB/s eta 0:00:29\n",
      "   ---------------------------- ---------- 74.4/101.0 MB 924.8 kB/s eta 0:00:29\n",
      "   ---------------------------- ---------- 74.4/101.0 MB 919.5 kB/s eta 0:00:29\n",
      "   ---------------------------- ---------- 74.5/101.0 MB 918.3 kB/s eta 0:00:29\n",
      "   ---------------------------- ---------- 74.5/101.0 MB 916.9 kB/s eta 0:00:29\n",
      "   ---------------------------- ---------- 74.6/101.0 MB 914.4 kB/s eta 0:00:29\n",
      "   ---------------------------- ---------- 74.6/101.0 MB 913.1 kB/s eta 0:00:29\n",
      "   ---------------------------- ---------- 74.6/101.0 MB 911.8 kB/s eta 0:00:29\n",
      "   ---------------------------- ---------- 74.7/101.0 MB 909.3 kB/s eta 0:00:29\n",
      "   ---------------------------- ---------- 74.7/101.0 MB 908.0 kB/s eta 0:00:29\n",
      "   ---------------------------- ---------- 74.7/101.0 MB 905.5 kB/s eta 0:00:30\n",
      "   ---------------------------- ---------- 74.8/101.0 MB 904.2 kB/s eta 0:00:30\n",
      "   ---------------------------- ---------- 74.8/101.0 MB 900.6 kB/s eta 0:00:30\n",
      "   ---------------------------- ---------- 74.9/101.0 MB 899.3 kB/s eta 0:00:30\n",
      "   ---------------------------- ---------- 74.9/101.0 MB 896.8 kB/s eta 0:00:30\n",
      "   ---------------------------- ---------- 74.9/101.0 MB 895.6 kB/s eta 0:00:30\n",
      "   ---------------------------- ---------- 75.0/101.0 MB 893.2 kB/s eta 0:00:30\n",
      "   ---------------------------- ---------- 75.0/101.0 MB 890.8 kB/s eta 0:00:30\n",
      "   ---------------------------- ---------- 75.0/101.0 MB 888.4 kB/s eta 0:00:30\n",
      "   ---------------------------- ---------- 75.1/101.0 MB 888.4 kB/s eta 0:00:30\n",
      "   ----------------------------- --------- 75.1/101.0 MB 885.9 kB/s eta 0:00:30\n",
      "   ----------------------------- --------- 75.2/101.0 MB 888.3 kB/s eta 0:00:30\n",
      "   ----------------------------- --------- 75.2/101.0 MB 884.7 kB/s eta 0:00:30\n",
      "   ----------------------------- --------- 75.2/101.0 MB 883.5 kB/s eta 0:00:30\n",
      "   ----------------------------- --------- 75.3/101.0 MB 883.6 kB/s eta 0:00:30\n",
      "   ----------------------------- --------- 75.3/101.0 MB 882.4 kB/s eta 0:00:30\n",
      "   ----------------------------- --------- 75.4/101.0 MB 881.2 kB/s eta 0:00:30\n",
      "   ----------------------------- --------- 75.4/101.0 MB 881.2 kB/s eta 0:00:30\n",
      "   ----------------------------- --------- 75.5/101.0 MB 880.0 kB/s eta 0:00:30\n",
      "   ----------------------------- --------- 75.5/101.0 MB 880.0 kB/s eta 0:00:29\n",
      "   ----------------------------- --------- 75.6/101.0 MB 878.8 kB/s eta 0:00:29\n",
      "   ----------------------------- --------- 75.6/101.0 MB 880.0 kB/s eta 0:00:29\n",
      "   ----------------------------- --------- 75.7/101.0 MB 878.8 kB/s eta 0:00:29\n",
      "   ----------------------------- --------- 75.7/101.0 MB 877.6 kB/s eta 0:00:29\n",
      "   ----------------------------- --------- 75.8/101.0 MB 878.8 kB/s eta 0:00:29\n",
      "   ----------------------------- --------- 75.9/101.0 MB 876.4 kB/s eta 0:00:29\n",
      "   ----------------------------- --------- 75.9/101.0 MB 877.6 kB/s eta 0:00:29\n",
      "   ----------------------------- --------- 76.0/101.0 MB 877.6 kB/s eta 0:00:29\n",
      "   ----------------------------- --------- 76.0/101.0 MB 876.4 kB/s eta 0:00:29\n",
      "   ----------------------------- --------- 76.1/101.0 MB 878.8 kB/s eta 0:00:29\n",
      "   ----------------------------- --------- 76.2/101.0 MB 876.4 kB/s eta 0:00:29\n",
      "   ----------------------------- --------- 76.2/101.0 MB 876.4 kB/s eta 0:00:29\n",
      "   ----------------------------- --------- 76.3/101.0 MB 877.6 kB/s eta 0:00:29\n",
      "   ----------------------------- --------- 76.4/101.0 MB 878.8 kB/s eta 0:00:29\n",
      "   ----------------------------- --------- 76.5/101.0 MB 878.8 kB/s eta 0:00:28\n",
      "   ----------------------------- --------- 76.5/101.0 MB 882.4 kB/s eta 0:00:28\n",
      "   ----------------------------- --------- 76.6/101.0 MB 883.6 kB/s eta 0:00:28\n",
      "   ----------------------------- --------- 76.7/101.0 MB 884.8 kB/s eta 0:00:28\n",
      "   ----------------------------- --------- 76.7/101.0 MB 883.6 kB/s eta 0:00:28\n",
      "   ----------------------------- --------- 76.8/101.0 MB 884.7 kB/s eta 0:00:28\n",
      "   ----------------------------- --------- 76.9/101.0 MB 885.9 kB/s eta 0:00:28\n",
      "   ----------------------------- --------- 77.0/101.0 MB 888.3 kB/s eta 0:00:28\n",
      "   ----------------------------- --------- 77.1/101.0 MB 888.3 kB/s eta 0:00:27\n",
      "   ----------------------------- --------- 77.1/101.0 MB 890.8 kB/s eta 0:00:27\n",
      "   ----------------------------- --------- 77.2/101.0 MB 899.3 kB/s eta 0:00:27\n",
      "   ----------------------------- --------- 77.3/101.0 MB 899.3 kB/s eta 0:00:27\n",
      "   ----------------------------- --------- 77.3/101.0 MB 901.8 kB/s eta 0:00:27\n",
      "   ----------------------------- --------- 77.4/101.0 MB 904.2 kB/s eta 0:00:27\n",
      "   ----------------------------- --------- 77.5/101.0 MB 906.8 kB/s eta 0:00:26\n",
      "   ----------------------------- --------- 77.5/101.0 MB 908.1 kB/s eta 0:00:26\n",
      "   ----------------------------- --------- 77.6/101.0 MB 911.8 kB/s eta 0:00:26\n",
      "   ----------------------------- --------- 77.6/101.0 MB 914.4 kB/s eta 0:00:26\n",
      "   ----------------------------- --------- 77.7/101.0 MB 919.5 kB/s eta 0:00:26\n",
      "   ------------------------------ -------- 77.8/101.0 MB 922.1 kB/s eta 0:00:26\n",
      "   ------------------------------ -------- 77.8/101.0 MB 924.7 kB/s eta 0:00:26\n",
      "   ------------------------------ -------- 77.9/101.0 MB 928.6 kB/s eta 0:00:25\n",
      "   ------------------------------ -------- 78.0/101.0 MB 932.7 kB/s eta 0:00:25\n",
      "   ------------------------------ -------- 78.0/101.0 MB 938.0 kB/s eta 0:00:25\n",
      "   ------------------------------ -------- 78.1/101.0 MB 942.1 kB/s eta 0:00:25\n",
      "   ------------------------------ -------- 78.2/101.0 MB 947.5 kB/s eta 0:00:25\n",
      "   ------------------------------ -------- 78.3/101.0 MB 951.6 kB/s eta 0:00:24\n",
      "   ------------------------------ -------- 78.4/101.0 MB 960.0 kB/s eta 0:00:24\n",
      "   ------------------------------ -------- 78.4/101.0 MB 965.6 kB/s eta 0:00:24\n",
      "   ------------------------------ -------- 78.5/101.0 MB 972.8 kB/s eta 0:00:24\n",
      "   ------------------------------ -------- 78.6/101.0 MB 984.6 kB/s eta 0:00:23\n",
      "   ------------------------------ -------- 78.7/101.0 MB 995.0 kB/s eta 0:00:23\n",
      "   ------------------------------- -------- 78.8/101.0 MB 1.0 MB/s eta 0:00:23\n",
      "   ------------------------------- -------- 78.8/101.0 MB 1.0 MB/s eta 0:00:23\n",
      "   ------------------------------- -------- 78.9/101.0 MB 1.0 MB/s eta 0:00:22\n",
      "   ------------------------------- -------- 79.0/101.0 MB 1.0 MB/s eta 0:00:22\n",
      "   ------------------------------- -------- 79.1/101.0 MB 1.0 MB/s eta 0:00:22\n",
      "   ------------------------------- -------- 79.2/101.0 MB 1.0 MB/s eta 0:00:22\n",
      "   ------------------------------- -------- 79.2/101.0 MB 1.0 MB/s eta 0:00:22\n",
      "   ------------------------------- -------- 79.3/101.0 MB 1.0 MB/s eta 0:00:21\n",
      "   ------------------------------- -------- 79.4/101.0 MB 1.0 MB/s eta 0:00:21\n",
      "   ------------------------------- -------- 79.5/101.0 MB 1.1 MB/s eta 0:00:21\n",
      "   ------------------------------- -------- 79.5/101.0 MB 1.1 MB/s eta 0:00:21\n",
      "   ------------------------------- -------- 79.6/101.0 MB 1.1 MB/s eta 0:00:21\n",
      "   ------------------------------- -------- 79.7/101.0 MB 1.1 MB/s eta 0:00:21\n",
      "   ------------------------------- -------- 79.7/101.0 MB 1.1 MB/s eta 0:00:20\n",
      "   ------------------------------- -------- 79.8/101.0 MB 1.1 MB/s eta 0:00:20\n",
      "   ------------------------------- -------- 79.8/101.0 MB 1.1 MB/s eta 0:00:20\n",
      "   ------------------------------- -------- 79.9/101.0 MB 1.1 MB/s eta 0:00:20\n",
      "   ------------------------------- -------- 80.0/101.0 MB 1.1 MB/s eta 0:00:20\n",
      "   ------------------------------- -------- 80.0/101.0 MB 1.1 MB/s eta 0:00:20\n",
      "   ------------------------------- -------- 80.0/101.0 MB 1.1 MB/s eta 0:00:20\n",
      "   ------------------------------- -------- 80.1/101.0 MB 1.1 MB/s eta 0:00:20\n",
      "   ------------------------------- -------- 80.2/101.0 MB 1.1 MB/s eta 0:00:20\n",
      "   ------------------------------- -------- 80.2/101.0 MB 1.1 MB/s eta 0:00:20\n",
      "   ------------------------------- -------- 80.3/101.0 MB 1.1 MB/s eta 0:00:20\n",
      "   ------------------------------- -------- 80.3/101.0 MB 1.1 MB/s eta 0:00:20\n",
      "   ------------------------------- -------- 80.4/101.0 MB 1.1 MB/s eta 0:00:20\n",
      "   ------------------------------- -------- 80.5/101.0 MB 1.1 MB/s eta 0:00:19\n",
      "   ------------------------------- -------- 80.5/101.0 MB 1.1 MB/s eta 0:00:19\n",
      "   ------------------------------- -------- 80.6/101.0 MB 1.1 MB/s eta 0:00:19\n",
      "   ------------------------------- -------- 80.7/101.0 MB 1.1 MB/s eta 0:00:19\n",
      "   ------------------------------- -------- 80.7/101.0 MB 1.1 MB/s eta 0:00:19\n",
      "   ------------------------------- -------- 80.8/101.0 MB 1.1 MB/s eta 0:00:19\n",
      "   -------------------------------- ------- 80.8/101.0 MB 1.1 MB/s eta 0:00:19\n",
      "   -------------------------------- ------- 80.9/101.0 MB 1.1 MB/s eta 0:00:19\n",
      "   -------------------------------- ------- 81.0/101.0 MB 1.1 MB/s eta 0:00:19\n",
      "   -------------------------------- ------- 81.0/101.0 MB 1.1 MB/s eta 0:00:19\n",
      "   -------------------------------- ------- 81.1/101.0 MB 1.1 MB/s eta 0:00:18\n",
      "   -------------------------------- ------- 81.2/101.0 MB 1.1 MB/s eta 0:00:18\n",
      "   -------------------------------- ------- 81.3/101.0 MB 1.1 MB/s eta 0:00:18\n",
      "   -------------------------------- ------- 81.4/101.0 MB 1.1 MB/s eta 0:00:18\n",
      "   -------------------------------- ------- 81.4/101.0 MB 1.1 MB/s eta 0:00:18\n",
      "   -------------------------------- ------- 81.5/101.0 MB 1.1 MB/s eta 0:00:18\n",
      "   -------------------------------- ------- 81.6/101.0 MB 1.1 MB/s eta 0:00:18\n",
      "   -------------------------------- ------- 81.6/101.0 MB 1.1 MB/s eta 0:00:18\n",
      "   -------------------------------- ------- 81.7/101.0 MB 1.1 MB/s eta 0:00:17\n",
      "   -------------------------------- ------- 81.7/101.0 MB 1.1 MB/s eta 0:00:17\n",
      "   -------------------------------- ------- 81.8/101.0 MB 1.1 MB/s eta 0:00:17\n",
      "   -------------------------------- ------- 81.8/101.0 MB 1.1 MB/s eta 0:00:17\n",
      "   -------------------------------- ------- 81.9/101.0 MB 1.1 MB/s eta 0:00:17\n",
      "   -------------------------------- ------- 81.9/101.0 MB 1.1 MB/s eta 0:00:17\n",
      "   -------------------------------- ------- 81.9/101.0 MB 1.1 MB/s eta 0:00:17\n",
      "   -------------------------------- ------- 82.0/101.0 MB 1.1 MB/s eta 0:00:17\n",
      "   -------------------------------- ------- 82.0/101.0 MB 1.1 MB/s eta 0:00:17\n",
      "   -------------------------------- ------- 82.1/101.0 MB 1.1 MB/s eta 0:00:17\n",
      "   -------------------------------- ------- 82.1/101.0 MB 1.1 MB/s eta 0:00:17\n",
      "   -------------------------------- ------- 82.2/101.0 MB 1.1 MB/s eta 0:00:17\n",
      "   -------------------------------- ------- 82.2/101.0 MB 1.1 MB/s eta 0:00:17\n",
      "   -------------------------------- ------- 82.2/101.0 MB 1.1 MB/s eta 0:00:17\n",
      "   -------------------------------- ------- 82.3/101.0 MB 1.1 MB/s eta 0:00:17\n",
      "   -------------------------------- ------- 82.3/101.0 MB 1.1 MB/s eta 0:00:17\n",
      "   -------------------------------- ------- 82.4/101.0 MB 1.1 MB/s eta 0:00:17\n",
      "   -------------------------------- ------- 82.4/101.0 MB 1.1 MB/s eta 0:00:17\n",
      "   -------------------------------- ------- 82.4/101.0 MB 1.1 MB/s eta 0:00:17\n",
      "   -------------------------------- ------- 82.5/101.0 MB 1.1 MB/s eta 0:00:17\n",
      "   -------------------------------- ------- 82.5/101.0 MB 1.1 MB/s eta 0:00:17\n",
      "   -------------------------------- ------- 82.6/101.0 MB 1.1 MB/s eta 0:00:17\n",
      "   -------------------------------- ------- 82.6/101.0 MB 1.1 MB/s eta 0:00:17\n",
      "   -------------------------------- ------- 82.7/101.0 MB 1.1 MB/s eta 0:00:17\n",
      "   -------------------------------- ------- 82.7/101.0 MB 1.1 MB/s eta 0:00:17\n",
      "   -------------------------------- ------- 82.8/101.0 MB 1.1 MB/s eta 0:00:17\n",
      "   -------------------------------- ------- 82.8/101.0 MB 1.1 MB/s eta 0:00:17\n",
      "   -------------------------------- ------- 82.9/101.0 MB 1.1 MB/s eta 0:00:16\n",
      "   -------------------------------- ------- 82.9/101.0 MB 1.1 MB/s eta 0:00:16\n",
      "   -------------------------------- ------- 83.0/101.0 MB 1.1 MB/s eta 0:00:16\n",
      "   -------------------------------- ------- 83.0/101.0 MB 1.1 MB/s eta 0:00:16\n",
      "   -------------------------------- ------- 83.1/101.0 MB 1.1 MB/s eta 0:00:16\n",
      "   -------------------------------- ------- 83.1/101.0 MB 1.1 MB/s eta 0:00:16\n",
      "   -------------------------------- ------- 83.2/101.0 MB 1.1 MB/s eta 0:00:16\n",
      "   -------------------------------- ------- 83.2/101.0 MB 1.1 MB/s eta 0:00:16\n",
      "   -------------------------------- ------- 83.3/101.0 MB 1.1 MB/s eta 0:00:16\n",
      "   -------------------------------- ------- 83.3/101.0 MB 1.2 MB/s eta 0:00:16\n",
      "   --------------------------------- ------ 83.3/101.0 MB 1.1 MB/s eta 0:00:16\n",
      "   --------------------------------- ------ 83.4/101.0 MB 1.1 MB/s eta 0:00:16\n",
      "   --------------------------------- ------ 83.4/101.0 MB 1.1 MB/s eta 0:00:16\n",
      "   --------------------------------- ------ 83.5/101.0 MB 1.2 MB/s eta 0:00:16\n",
      "   --------------------------------- ------ 83.5/101.0 MB 1.2 MB/s eta 0:00:16\n",
      "   --------------------------------- ------ 83.6/101.0 MB 1.2 MB/s eta 0:00:16\n",
      "   --------------------------------- ------ 83.6/101.0 MB 1.2 MB/s eta 0:00:16\n",
      "   --------------------------------- ------ 83.7/101.0 MB 1.2 MB/s eta 0:00:15\n",
      "   --------------------------------- ------ 83.8/101.0 MB 1.2 MB/s eta 0:00:15\n",
      "   --------------------------------- ------ 83.8/101.0 MB 1.2 MB/s eta 0:00:15\n",
      "   --------------------------------- ------ 83.9/101.0 MB 1.2 MB/s eta 0:00:15\n",
      "   --------------------------------- ------ 83.9/101.0 MB 1.2 MB/s eta 0:00:15\n",
      "   --------------------------------- ------ 84.0/101.0 MB 1.2 MB/s eta 0:00:15\n",
      "   --------------------------------- ------ 84.0/101.0 MB 1.2 MB/s eta 0:00:15\n",
      "   --------------------------------- ------ 84.1/101.0 MB 1.2 MB/s eta 0:00:15\n",
      "   --------------------------------- ------ 84.1/101.0 MB 1.2 MB/s eta 0:00:15\n",
      "   --------------------------------- ------ 84.2/101.0 MB 1.2 MB/s eta 0:00:15\n",
      "   --------------------------------- ------ 84.3/101.0 MB 1.2 MB/s eta 0:00:15\n",
      "   --------------------------------- ------ 84.3/101.0 MB 1.2 MB/s eta 0:00:15\n",
      "   --------------------------------- ------ 84.4/101.0 MB 1.2 MB/s eta 0:00:14\n",
      "   --------------------------------- ------ 84.4/101.0 MB 1.2 MB/s eta 0:00:14\n",
      "   --------------------------------- ------ 84.5/101.0 MB 1.2 MB/s eta 0:00:14\n",
      "   --------------------------------- ------ 84.5/101.0 MB 1.2 MB/s eta 0:00:14\n",
      "   --------------------------------- ------ 84.6/101.0 MB 1.2 MB/s eta 0:00:14\n",
      "   --------------------------------- ------ 84.6/101.0 MB 1.2 MB/s eta 0:00:14\n",
      "   --------------------------------- ------ 84.6/101.0 MB 1.2 MB/s eta 0:00:14\n",
      "   --------------------------------- ------ 84.6/101.0 MB 1.2 MB/s eta 0:00:14\n",
      "   --------------------------------- ------ 84.6/101.0 MB 1.2 MB/s eta 0:00:14\n",
      "   --------------------------------- ------ 84.7/101.0 MB 1.2 MB/s eta 0:00:14\n",
      "   --------------------------------- ------ 84.7/101.0 MB 1.2 MB/s eta 0:00:14\n",
      "   --------------------------------- ------ 84.7/101.0 MB 1.2 MB/s eta 0:00:14\n",
      "   --------------------------------- ------ 84.8/101.0 MB 1.2 MB/s eta 0:00:14\n",
      "   --------------------------------- ------ 84.8/101.0 MB 1.2 MB/s eta 0:00:14\n",
      "   --------------------------------- ------ 84.8/101.0 MB 1.2 MB/s eta 0:00:14\n",
      "   --------------------------------- ------ 84.9/101.0 MB 1.2 MB/s eta 0:00:14\n",
      "   --------------------------------- ------ 84.9/101.0 MB 1.2 MB/s eta 0:00:14\n",
      "   --------------------------------- ------ 85.0/101.0 MB 1.2 MB/s eta 0:00:14\n",
      "   --------------------------------- ------ 85.0/101.0 MB 1.2 MB/s eta 0:00:14\n",
      "   --------------------------------- ------ 85.0/101.0 MB 1.2 MB/s eta 0:00:14\n",
      "   --------------------------------- ------ 85.1/101.0 MB 1.2 MB/s eta 0:00:14\n",
      "   --------------------------------- ------ 85.1/101.0 MB 1.2 MB/s eta 0:00:14\n",
      "   --------------------------------- ------ 85.2/101.0 MB 1.2 MB/s eta 0:00:14\n",
      "   --------------------------------- ------ 85.2/101.0 MB 1.2 MB/s eta 0:00:14\n",
      "   --------------------------------- ------ 85.3/101.0 MB 1.2 MB/s eta 0:00:14\n",
      "   --------------------------------- ------ 85.3/101.0 MB 1.2 MB/s eta 0:00:14\n",
      "   --------------------------------- ------ 85.4/101.0 MB 1.2 MB/s eta 0:00:14\n",
      "   --------------------------------- ------ 85.4/101.0 MB 1.2 MB/s eta 0:00:13\n",
      "   --------------------------------- ------ 85.5/101.0 MB 1.2 MB/s eta 0:00:13\n",
      "   --------------------------------- ------ 85.5/101.0 MB 1.2 MB/s eta 0:00:13\n",
      "   --------------------------------- ------ 85.5/101.0 MB 1.2 MB/s eta 0:00:13\n",
      "   --------------------------------- ------ 85.6/101.0 MB 1.2 MB/s eta 0:00:13\n",
      "   --------------------------------- ------ 85.6/101.0 MB 1.2 MB/s eta 0:00:13\n",
      "   --------------------------------- ------ 85.6/101.0 MB 1.2 MB/s eta 0:00:13\n",
      "   --------------------------------- ------ 85.7/101.0 MB 1.2 MB/s eta 0:00:13\n",
      "   --------------------------------- ------ 85.7/101.0 MB 1.2 MB/s eta 0:00:13\n",
      "   --------------------------------- ------ 85.8/101.0 MB 1.2 MB/s eta 0:00:13\n",
      "   --------------------------------- ------ 85.8/101.0 MB 1.2 MB/s eta 0:00:13\n",
      "   ---------------------------------- ----- 85.9/101.0 MB 1.2 MB/s eta 0:00:13\n",
      "   ---------------------------------- ----- 85.9/101.0 MB 1.2 MB/s eta 0:00:13\n",
      "   ---------------------------------- ----- 86.0/101.0 MB 1.2 MB/s eta 0:00:13\n",
      "   ---------------------------------- ----- 86.1/101.0 MB 1.2 MB/s eta 0:00:13\n",
      "   ---------------------------------- ----- 86.1/101.0 MB 1.2 MB/s eta 0:00:13\n",
      "   ---------------------------------- ----- 86.2/101.0 MB 1.2 MB/s eta 0:00:13\n",
      "   ---------------------------------- ----- 86.2/101.0 MB 1.2 MB/s eta 0:00:13\n",
      "   ---------------------------------- ----- 86.3/101.0 MB 1.2 MB/s eta 0:00:13\n",
      "   ---------------------------------- ----- 86.4/101.0 MB 1.2 MB/s eta 0:00:13\n",
      "   ---------------------------------- ----- 86.4/101.0 MB 1.2 MB/s eta 0:00:13\n",
      "   ---------------------------------- ----- 86.5/101.0 MB 1.2 MB/s eta 0:00:13\n",
      "   ---------------------------------- ----- 86.5/101.0 MB 1.2 MB/s eta 0:00:13\n",
      "   ---------------------------------- ----- 86.6/101.0 MB 1.2 MB/s eta 0:00:13\n",
      "   ---------------------------------- ----- 86.7/101.0 MB 1.2 MB/s eta 0:00:13\n",
      "   ---------------------------------- ----- 86.7/101.0 MB 1.2 MB/s eta 0:00:13\n",
      "   ---------------------------------- ----- 86.8/101.0 MB 1.2 MB/s eta 0:00:12\n",
      "   ---------------------------------- ----- 86.9/101.0 MB 1.2 MB/s eta 0:00:12\n",
      "   ---------------------------------- ----- 86.9/101.0 MB 1.2 MB/s eta 0:00:12\n",
      "   ---------------------------------- ----- 87.0/101.0 MB 1.2 MB/s eta 0:00:12\n",
      "   ---------------------------------- ----- 87.1/101.0 MB 1.2 MB/s eta 0:00:12\n",
      "   ---------------------------------- ----- 87.2/101.0 MB 1.2 MB/s eta 0:00:12\n",
      "   ---------------------------------- ----- 87.2/101.0 MB 1.2 MB/s eta 0:00:12\n",
      "   ---------------------------------- ----- 87.3/101.0 MB 1.2 MB/s eta 0:00:12\n",
      "   ---------------------------------- ----- 87.4/101.0 MB 1.2 MB/s eta 0:00:12\n",
      "   ---------------------------------- ----- 87.5/101.0 MB 1.2 MB/s eta 0:00:12\n",
      "   ---------------------------------- ----- 87.5/101.0 MB 1.2 MB/s eta 0:00:12\n",
      "   ---------------------------------- ----- 87.6/101.0 MB 1.2 MB/s eta 0:00:12\n",
      "   ---------------------------------- ----- 87.7/101.0 MB 1.2 MB/s eta 0:00:12\n",
      "   ---------------------------------- ----- 87.7/101.0 MB 1.2 MB/s eta 0:00:12\n",
      "   ---------------------------------- ----- 87.8/101.0 MB 1.2 MB/s eta 0:00:12\n",
      "   ---------------------------------- ----- 87.8/101.0 MB 1.2 MB/s eta 0:00:12\n",
      "   ---------------------------------- ----- 87.9/101.0 MB 1.2 MB/s eta 0:00:12\n",
      "   ---------------------------------- ----- 88.0/101.0 MB 1.2 MB/s eta 0:00:12\n",
      "   ---------------------------------- ----- 88.0/101.0 MB 1.2 MB/s eta 0:00:11\n",
      "   ---------------------------------- ----- 88.1/101.0 MB 1.2 MB/s eta 0:00:11\n",
      "   ---------------------------------- ----- 88.2/101.0 MB 1.2 MB/s eta 0:00:11\n",
      "   ---------------------------------- ----- 88.2/101.0 MB 1.2 MB/s eta 0:00:11\n",
      "   ---------------------------------- ----- 88.3/101.0 MB 1.2 MB/s eta 0:00:11\n",
      "   ---------------------------------- ----- 88.4/101.0 MB 1.2 MB/s eta 0:00:11\n",
      "   ----------------------------------- ---- 88.4/101.0 MB 1.2 MB/s eta 0:00:11\n",
      "   ----------------------------------- ---- 88.5/101.0 MB 1.2 MB/s eta 0:00:11\n",
      "   ----------------------------------- ---- 88.6/101.0 MB 1.2 MB/s eta 0:00:11\n",
      "   ----------------------------------- ---- 88.6/101.0 MB 1.2 MB/s eta 0:00:11\n",
      "   ----------------------------------- ---- 88.7/101.0 MB 1.2 MB/s eta 0:00:11\n",
      "   ----------------------------------- ---- 88.8/101.0 MB 1.2 MB/s eta 0:00:11\n",
      "   ----------------------------------- ---- 88.8/101.0 MB 1.2 MB/s eta 0:00:11\n",
      "   ----------------------------------- ---- 88.9/101.0 MB 1.2 MB/s eta 0:00:11\n",
      "   ----------------------------------- ---- 89.0/101.0 MB 1.2 MB/s eta 0:00:11\n",
      "   ----------------------------------- ---- 89.1/101.0 MB 1.2 MB/s eta 0:00:11\n",
      "   ----------------------------------- ---- 89.1/101.0 MB 1.2 MB/s eta 0:00:11\n",
      "   ----------------------------------- ---- 89.2/101.0 MB 1.2 MB/s eta 0:00:11\n",
      "   ----------------------------------- ---- 89.3/101.0 MB 1.2 MB/s eta 0:00:11\n",
      "   ----------------------------------- ---- 89.3/101.0 MB 1.2 MB/s eta 0:00:10\n",
      "   ----------------------------------- ---- 89.4/101.0 MB 1.2 MB/s eta 0:00:10\n",
      "   ----------------------------------- ---- 89.5/101.0 MB 1.2 MB/s eta 0:00:10\n",
      "   ----------------------------------- ---- 89.6/101.0 MB 1.2 MB/s eta 0:00:10\n",
      "   ----------------------------------- ---- 89.6/101.0 MB 1.2 MB/s eta 0:00:10\n",
      "   ----------------------------------- ---- 89.7/101.0 MB 1.2 MB/s eta 0:00:10\n",
      "   ----------------------------------- ---- 89.8/101.0 MB 1.2 MB/s eta 0:00:10\n",
      "   ----------------------------------- ---- 89.9/101.0 MB 1.2 MB/s eta 0:00:10\n",
      "   ----------------------------------- ---- 90.0/101.0 MB 1.2 MB/s eta 0:00:10\n",
      "   ----------------------------------- ---- 90.0/101.0 MB 1.2 MB/s eta 0:00:10\n",
      "   ----------------------------------- ---- 90.2/101.0 MB 1.2 MB/s eta 0:00:10\n",
      "   ----------------------------------- ---- 90.3/101.0 MB 1.2 MB/s eta 0:00:10\n",
      "   ----------------------------------- ---- 90.4/101.0 MB 1.2 MB/s eta 0:00:09\n",
      "   ----------------------------------- ---- 90.5/101.0 MB 1.2 MB/s eta 0:00:09\n",
      "   ----------------------------------- ---- 90.6/101.0 MB 1.2 MB/s eta 0:00:09\n",
      "   ----------------------------------- ---- 90.7/101.0 MB 1.2 MB/s eta 0:00:09\n",
      "   ----------------------------------- ---- 90.7/101.0 MB 1.2 MB/s eta 0:00:09\n",
      "   ----------------------------------- ---- 90.8/101.0 MB 1.2 MB/s eta 0:00:09\n",
      "   ------------------------------------ --- 91.0/101.0 MB 1.2 MB/s eta 0:00:09\n",
      "   ------------------------------------ --- 91.1/101.0 MB 1.2 MB/s eta 0:00:09\n",
      "   ------------------------------------ --- 91.2/101.0 MB 1.2 MB/s eta 0:00:08\n",
      "   ------------------------------------ --- 91.3/101.0 MB 1.2 MB/s eta 0:00:08\n",
      "   ------------------------------------ --- 91.5/101.0 MB 1.2 MB/s eta 0:00:08\n",
      "   ------------------------------------ --- 91.6/101.0 MB 1.2 MB/s eta 0:00:08\n",
      "   ------------------------------------ --- 91.7/101.0 MB 1.2 MB/s eta 0:00:08\n",
      "   ------------------------------------ --- 91.8/101.0 MB 1.3 MB/s eta 0:00:08\n",
      "   ------------------------------------ --- 91.9/101.0 MB 1.3 MB/s eta 0:00:08\n",
      "   ------------------------------------ --- 92.0/101.0 MB 1.3 MB/s eta 0:00:08\n",
      "   ------------------------------------ --- 92.1/101.0 MB 1.3 MB/s eta 0:00:08\n",
      "   ------------------------------------ --- 92.1/101.0 MB 1.3 MB/s eta 0:00:07\n",
      "   ------------------------------------ --- 92.2/101.0 MB 1.3 MB/s eta 0:00:07\n",
      "   ------------------------------------ --- 92.3/101.0 MB 1.3 MB/s eta 0:00:07\n",
      "   ------------------------------------ --- 92.4/101.0 MB 1.3 MB/s eta 0:00:07\n",
      "   ------------------------------------ --- 92.5/101.0 MB 1.3 MB/s eta 0:00:07\n",
      "   ------------------------------------ --- 92.6/101.0 MB 1.3 MB/s eta 0:00:07\n",
      "   ------------------------------------ --- 92.7/101.0 MB 1.3 MB/s eta 0:00:07\n",
      "   ------------------------------------ --- 92.8/101.0 MB 1.3 MB/s eta 0:00:07\n",
      "   ------------------------------------ --- 92.9/101.0 MB 1.4 MB/s eta 0:00:06\n",
      "   ------------------------------------ --- 93.0/101.0 MB 1.4 MB/s eta 0:00:06\n",
      "   ------------------------------------ --- 93.0/101.0 MB 1.4 MB/s eta 0:00:06\n",
      "   ------------------------------------ --- 93.2/101.0 MB 1.4 MB/s eta 0:00:06\n",
      "   ------------------------------------ --- 93.2/101.0 MB 1.4 MB/s eta 0:00:06\n",
      "   ------------------------------------ --- 93.3/101.0 MB 1.4 MB/s eta 0:00:06\n",
      "   ------------------------------------ --- 93.4/101.0 MB 1.4 MB/s eta 0:00:06\n",
      "   ------------------------------------ --- 93.4/101.0 MB 1.4 MB/s eta 0:00:06\n",
      "   ------------------------------------- -- 93.5/101.0 MB 1.4 MB/s eta 0:00:06\n",
      "   ------------------------------------- -- 93.6/101.0 MB 1.4 MB/s eta 0:00:06\n",
      "   ------------------------------------- -- 93.7/101.0 MB 1.4 MB/s eta 0:00:06\n",
      "   ------------------------------------- -- 93.7/101.0 MB 1.4 MB/s eta 0:00:06\n",
      "   ------------------------------------- -- 93.8/101.0 MB 1.4 MB/s eta 0:00:06\n",
      "   ------------------------------------- -- 93.9/101.0 MB 1.4 MB/s eta 0:00:06\n",
      "   ------------------------------------- -- 93.9/101.0 MB 1.4 MB/s eta 0:00:06\n",
      "   ------------------------------------- -- 94.0/101.0 MB 1.4 MB/s eta 0:00:05\n",
      "   ------------------------------------- -- 94.0/101.0 MB 1.4 MB/s eta 0:00:05\n",
      "   ------------------------------------- -- 94.1/101.0 MB 1.4 MB/s eta 0:00:05\n",
      "   ------------------------------------- -- 94.2/101.0 MB 1.4 MB/s eta 0:00:05\n",
      "   ------------------------------------- -- 94.2/101.0 MB 1.4 MB/s eta 0:00:05\n",
      "   ------------------------------------- -- 94.2/101.0 MB 1.4 MB/s eta 0:00:05\n",
      "   ------------------------------------- -- 94.3/101.0 MB 1.4 MB/s eta 0:00:05\n",
      "   ------------------------------------- -- 94.3/101.0 MB 1.4 MB/s eta 0:00:05\n",
      "   ------------------------------------- -- 94.4/101.0 MB 1.4 MB/s eta 0:00:05\n",
      "   ------------------------------------- -- 94.5/101.0 MB 1.4 MB/s eta 0:00:05\n",
      "   ------------------------------------- -- 94.5/101.0 MB 1.4 MB/s eta 0:00:05\n",
      "   ------------------------------------- -- 94.5/101.0 MB 1.4 MB/s eta 0:00:05\n",
      "   ------------------------------------- -- 94.6/101.0 MB 1.4 MB/s eta 0:00:05\n",
      "   ------------------------------------- -- 94.7/101.0 MB 1.4 MB/s eta 0:00:05\n",
      "   ------------------------------------- -- 94.7/101.0 MB 1.4 MB/s eta 0:00:05\n",
      "   ------------------------------------- -- 94.8/101.0 MB 1.4 MB/s eta 0:00:05\n",
      "   ------------------------------------- -- 94.8/101.0 MB 1.4 MB/s eta 0:00:05\n",
      "   ------------------------------------- -- 94.9/101.0 MB 1.4 MB/s eta 0:00:05\n",
      "   ------------------------------------- -- 94.9/101.0 MB 1.4 MB/s eta 0:00:05\n",
      "   ------------------------------------- -- 95.0/101.0 MB 1.5 MB/s eta 0:00:05\n",
      "   ------------------------------------- -- 95.0/101.0 MB 1.5 MB/s eta 0:00:05\n",
      "   ------------------------------------- -- 95.1/101.0 MB 1.5 MB/s eta 0:00:05\n",
      "   ------------------------------------- -- 95.2/101.0 MB 1.5 MB/s eta 0:00:04\n",
      "   ------------------------------------- -- 95.2/101.0 MB 1.5 MB/s eta 0:00:04\n",
      "   ------------------------------------- -- 95.3/101.0 MB 1.5 MB/s eta 0:00:04\n",
      "   ------------------------------------- -- 95.4/101.0 MB 1.5 MB/s eta 0:00:04\n",
      "   ------------------------------------- -- 95.5/101.0 MB 1.5 MB/s eta 0:00:04\n",
      "   ------------------------------------- -- 95.5/101.0 MB 1.5 MB/s eta 0:00:04\n",
      "   ------------------------------------- -- 95.6/101.0 MB 1.5 MB/s eta 0:00:04\n",
      "   ------------------------------------- -- 95.6/101.0 MB 1.5 MB/s eta 0:00:04\n",
      "   ------------------------------------- -- 95.7/101.0 MB 1.5 MB/s eta 0:00:04\n",
      "   ------------------------------------- -- 95.7/101.0 MB 1.5 MB/s eta 0:00:04\n",
      "   ------------------------------------- -- 95.8/101.0 MB 1.5 MB/s eta 0:00:04\n",
      "   ------------------------------------- -- 95.9/101.0 MB 1.5 MB/s eta 0:00:04\n",
      "   ------------------------------------- -- 95.9/101.0 MB 1.5 MB/s eta 0:00:04\n",
      "   -------------------------------------- - 96.0/101.0 MB 1.5 MB/s eta 0:00:04\n",
      "   -------------------------------------- - 96.0/101.0 MB 1.5 MB/s eta 0:00:04\n",
      "   -------------------------------------- - 96.1/101.0 MB 1.5 MB/s eta 0:00:04\n",
      "   -------------------------------------- - 96.2/101.0 MB 1.5 MB/s eta 0:00:04\n",
      "   -------------------------------------- - 96.2/101.0 MB 1.5 MB/s eta 0:00:04\n",
      "   -------------------------------------- - 96.3/101.0 MB 1.5 MB/s eta 0:00:04\n",
      "   -------------------------------------- - 96.3/101.0 MB 1.5 MB/s eta 0:00:04\n",
      "   -------------------------------------- - 96.4/101.0 MB 1.5 MB/s eta 0:00:04\n",
      "   -------------------------------------- - 96.4/101.0 MB 1.5 MB/s eta 0:00:03\n",
      "   -------------------------------------- - 96.5/101.0 MB 1.5 MB/s eta 0:00:03\n",
      "   -------------------------------------- - 96.6/101.0 MB 1.5 MB/s eta 0:00:03\n",
      "   -------------------------------------- - 96.6/101.0 MB 1.5 MB/s eta 0:00:03\n",
      "   -------------------------------------- - 96.6/101.0 MB 1.5 MB/s eta 0:00:03\n",
      "   -------------------------------------- - 96.7/101.0 MB 1.5 MB/s eta 0:00:03\n",
      "   -------------------------------------- - 96.7/101.0 MB 1.5 MB/s eta 0:00:03\n",
      "   -------------------------------------- - 96.8/101.0 MB 1.5 MB/s eta 0:00:03\n",
      "   -------------------------------------- - 96.8/101.0 MB 1.5 MB/s eta 0:00:03\n",
      "   -------------------------------------- - 96.8/101.0 MB 1.5 MB/s eta 0:00:03\n",
      "   -------------------------------------- - 96.9/101.0 MB 1.5 MB/s eta 0:00:03\n",
      "   -------------------------------------- - 96.9/101.0 MB 1.5 MB/s eta 0:00:03\n",
      "   -------------------------------------- - 97.0/101.0 MB 1.5 MB/s eta 0:00:03\n",
      "   -------------------------------------- - 97.0/101.0 MB 1.5 MB/s eta 0:00:03\n",
      "   -------------------------------------- - 97.1/101.0 MB 1.5 MB/s eta 0:00:03\n",
      "   -------------------------------------- - 97.1/101.0 MB 1.5 MB/s eta 0:00:03\n",
      "   -------------------------------------- - 97.2/101.0 MB 1.5 MB/s eta 0:00:03\n",
      "   -------------------------------------- - 97.2/101.0 MB 1.5 MB/s eta 0:00:03\n",
      "   -------------------------------------- - 97.3/101.0 MB 1.5 MB/s eta 0:00:03\n",
      "   -------------------------------------- - 97.3/101.0 MB 1.5 MB/s eta 0:00:03\n",
      "   -------------------------------------- - 97.4/101.0 MB 1.5 MB/s eta 0:00:03\n",
      "   -------------------------------------- - 97.4/101.0 MB 1.5 MB/s eta 0:00:03\n",
      "   -------------------------------------- - 97.5/101.0 MB 1.5 MB/s eta 0:00:03\n",
      "   -------------------------------------- - 97.5/101.0 MB 1.5 MB/s eta 0:00:03\n",
      "   -------------------------------------- - 97.6/101.0 MB 1.4 MB/s eta 0:00:03\n",
      "   -------------------------------------- - 97.7/101.0 MB 1.5 MB/s eta 0:00:03\n",
      "   -------------------------------------- - 97.7/101.0 MB 1.4 MB/s eta 0:00:03\n",
      "   -------------------------------------- - 97.8/101.0 MB 1.4 MB/s eta 0:00:03\n",
      "   -------------------------------------- - 97.9/101.0 MB 1.4 MB/s eta 0:00:03\n",
      "   -------------------------------------- - 97.9/101.0 MB 1.4 MB/s eta 0:00:03\n",
      "   -------------------------------------- - 98.0/101.0 MB 1.4 MB/s eta 0:00:03\n",
      "   -------------------------------------- - 98.0/101.0 MB 1.4 MB/s eta 0:00:03\n",
      "   -------------------------------------- - 98.1/101.0 MB 1.4 MB/s eta 0:00:03\n",
      "   -------------------------------------- - 98.2/101.0 MB 1.4 MB/s eta 0:00:02\n",
      "   -------------------------------------- - 98.2/101.0 MB 1.4 MB/s eta 0:00:02\n",
      "   -------------------------------------- - 98.3/101.0 MB 1.4 MB/s eta 0:00:02\n",
      "   -------------------------------------- - 98.3/101.0 MB 1.4 MB/s eta 0:00:02\n",
      "   -------------------------------------- - 98.4/101.0 MB 1.4 MB/s eta 0:00:02\n",
      "   -------------------------------------- - 98.4/101.0 MB 1.4 MB/s eta 0:00:02\n",
      "   -------------------------------------- - 98.5/101.0 MB 1.4 MB/s eta 0:00:02\n",
      "   ---------------------------------------  98.5/101.0 MB 1.4 MB/s eta 0:00:02\n",
      "   ---------------------------------------  98.6/101.0 MB 1.4 MB/s eta 0:00:02\n",
      "   ---------------------------------------  98.7/101.0 MB 1.4 MB/s eta 0:00:02\n",
      "   ---------------------------------------  98.7/101.0 MB 1.4 MB/s eta 0:00:02\n",
      "   ---------------------------------------  98.7/101.0 MB 1.4 MB/s eta 0:00:02\n",
      "   ---------------------------------------  98.8/101.0 MB 1.4 MB/s eta 0:00:02\n",
      "   ---------------------------------------  98.8/101.0 MB 1.4 MB/s eta 0:00:02\n",
      "   ---------------------------------------  98.9/101.0 MB 1.4 MB/s eta 0:00:02\n",
      "   ---------------------------------------  98.9/101.0 MB 1.4 MB/s eta 0:00:02\n",
      "   ---------------------------------------  99.0/101.0 MB 1.4 MB/s eta 0:00:02\n",
      "   ---------------------------------------  99.0/101.0 MB 1.4 MB/s eta 0:00:02\n",
      "   ---------------------------------------  99.1/101.0 MB 1.4 MB/s eta 0:00:02\n",
      "   ---------------------------------------  99.1/101.0 MB 1.4 MB/s eta 0:00:02\n",
      "   ---------------------------------------  99.2/101.0 MB 1.4 MB/s eta 0:00:02\n",
      "   ---------------------------------------  99.2/101.0 MB 1.4 MB/s eta 0:00:02\n",
      "   ---------------------------------------  99.3/101.0 MB 1.4 MB/s eta 0:00:02\n",
      "   ---------------------------------------  99.3/101.0 MB 1.4 MB/s eta 0:00:02\n",
      "   ---------------------------------------  99.4/101.0 MB 1.4 MB/s eta 0:00:02\n",
      "   ---------------------------------------  99.4/101.0 MB 1.4 MB/s eta 0:00:02\n",
      "   ---------------------------------------  99.4/101.0 MB 1.4 MB/s eta 0:00:02\n",
      "   ---------------------------------------  99.5/101.0 MB 1.4 MB/s eta 0:00:02\n",
      "   ---------------------------------------  99.5/101.0 MB 1.4 MB/s eta 0:00:02\n",
      "   ---------------------------------------  99.6/101.0 MB 1.4 MB/s eta 0:00:02\n",
      "   ---------------------------------------  99.6/101.0 MB 1.4 MB/s eta 0:00:02\n",
      "   ---------------------------------------  99.7/101.0 MB 1.4 MB/s eta 0:00:01\n",
      "   ---------------------------------------  99.7/101.0 MB 1.4 MB/s eta 0:00:01\n",
      "   ---------------------------------------  99.8/101.0 MB 1.4 MB/s eta 0:00:01\n",
      "   ---------------------------------------  99.8/101.0 MB 1.4 MB/s eta 0:00:01\n",
      "   ---------------------------------------  99.9/101.0 MB 1.4 MB/s eta 0:00:01\n",
      "   ---------------------------------------  99.9/101.0 MB 1.3 MB/s eta 0:00:01\n",
      "   ---------------------------------------  100.0/101.0 MB 1.3 MB/s eta 0:00:01\n",
      "   ---------------------------------------  100.0/101.0 MB 1.3 MB/s eta 0:00:01\n",
      "   ---------------------------------------  100.1/101.0 MB 1.3 MB/s eta 0:00:01\n",
      "   ---------------------------------------  100.1/101.0 MB 1.3 MB/s eta 0:00:01\n",
      "   ---------------------------------------  100.2/101.0 MB 1.3 MB/s eta 0:00:01\n",
      "   ---------------------------------------  100.3/101.0 MB 1.3 MB/s eta 0:00:01\n",
      "   ---------------------------------------  100.3/101.0 MB 1.3 MB/s eta 0:00:01\n",
      "   ---------------------------------------  100.4/101.0 MB 1.3 MB/s eta 0:00:01\n",
      "   ---------------------------------------  100.5/101.0 MB 1.3 MB/s eta 0:00:01\n",
      "   ---------------------------------------  100.5/101.0 MB 1.3 MB/s eta 0:00:01\n",
      "   ---------------------------------------  100.6/101.0 MB 1.3 MB/s eta 0:00:01\n",
      "   ---------------------------------------  100.7/101.0 MB 1.3 MB/s eta 0:00:01\n",
      "   ---------------------------------------  100.7/101.0 MB 1.3 MB/s eta 0:00:01\n",
      "   ---------------------------------------  100.8/101.0 MB 1.3 MB/s eta 0:00:01\n",
      "   ---------------------------------------  100.9/101.0 MB 1.3 MB/s eta 0:00:01\n",
      "   ---------------------------------------  100.9/101.0 MB 1.3 MB/s eta 0:00:01\n",
      "   ---------------------------------------  101.0/101.0 MB 1.3 MB/s eta 0:00:01\n",
      "   ---------------------------------------  101.0/101.0 MB 1.3 MB/s eta 0:00:01\n",
      "   ---------------------------------------  101.0/101.0 MB 1.3 MB/s eta 0:00:01\n",
      "   ---------------------------------------- 101.0/101.0 MB 1.3 MB/s eta 0:00:00\n",
      "Using cached plotly-5.18.0-py3-none-any.whl (15.6 MB)\n",
      "Using cached tenacity-8.2.3-py3-none-any.whl (24 kB)\n",
      "Installing collected packages: tenacity, graphviz, plotly, catboost\n",
      "Successfully installed catboost-1.2.2 graphviz-0.20.1 plotly-5.18.0 tenacity-8.2.3\n"
     ]
    }
   ],
   "source": [
    "!pip install catboost"
   ],
   "metadata": {
    "collapsed": false,
    "ExecuteTime": {
     "end_time": "2023-12-08T15:06:52.535320200Z",
     "start_time": "2023-12-08T15:04:40.875708Z"
    }
   },
   "id": "9ef71ef731cc5576"
  },
  {
   "cell_type": "code",
   "execution_count": 29,
   "outputs": [
    {
     "data": {
      "text/plain": "0.5248868778280543"
     },
     "execution_count": 29,
     "metadata": {},
     "output_type": "execute_result"
    }
   ],
   "source": [
    "model_CB = CatBoostClassifier(random_state=42, verbose=0).fit(X_train, y_train)\n",
    "\n",
    "y_pred = model_CB.predict(X_test)\n",
    "recall_score(y_test, y_pred)"
   ],
   "metadata": {
    "collapsed": false,
    "ExecuteTime": {
     "end_time": "2023-12-08T15:32:12.030770500Z",
     "start_time": "2023-12-08T15:32:04.399002200Z"
    }
   },
   "id": "a593d15b86156691"
  },
  {
   "cell_type": "markdown",
   "source": [
    "### RandomForest"
   ],
   "metadata": {
    "collapsed": false
   },
   "id": "d444833b73a23092"
  },
  {
   "cell_type": "code",
   "execution_count": 35,
   "outputs": [
    {
     "data": {
      "text/plain": "0.5090497737556561"
     },
     "execution_count": 35,
     "metadata": {},
     "output_type": "execute_result"
    }
   ],
   "source": [
    "modelRF = RandomForestClassifier().fit(X_train, y_train)\n",
    "y_pred = modelRF.predict(X_test)\n",
    "recall_score(y_test, y_pred)"
   ],
   "metadata": {
    "collapsed": false,
    "ExecuteTime": {
     "end_time": "2023-12-08T17:05:37.234845400Z",
     "start_time": "2023-12-08T17:05:25.065264800Z"
    }
   },
   "id": "b2609aa2a41377c"
  },
  {
   "cell_type": "code",
   "execution_count": 36,
   "outputs": [
    {
     "data": {
      "text/plain": "GridSearchCV(cv=3, estimator=RandomForestClassifier(),\n             param_grid={'max_depth': array([2, 3, 4, 5, 6, 7, 8, 9]),\n                         'min_samples_leaf': array([1, 3, 5, 7, 9]),\n                         'min_samples_split': array([2, 4, 6, 8])},\n             scoring='recall')",
      "text/html": "<style>#sk-container-id-8 {color: black;}#sk-container-id-8 pre{padding: 0;}#sk-container-id-8 div.sk-toggleable {background-color: white;}#sk-container-id-8 label.sk-toggleable__label {cursor: pointer;display: block;width: 100%;margin-bottom: 0;padding: 0.3em;box-sizing: border-box;text-align: center;}#sk-container-id-8 label.sk-toggleable__label-arrow:before {content: \"▸\";float: left;margin-right: 0.25em;color: #696969;}#sk-container-id-8 label.sk-toggleable__label-arrow:hover:before {color: black;}#sk-container-id-8 div.sk-estimator:hover label.sk-toggleable__label-arrow:before {color: black;}#sk-container-id-8 div.sk-toggleable__content {max-height: 0;max-width: 0;overflow: hidden;text-align: left;background-color: #f0f8ff;}#sk-container-id-8 div.sk-toggleable__content pre {margin: 0.2em;color: black;border-radius: 0.25em;background-color: #f0f8ff;}#sk-container-id-8 input.sk-toggleable__control:checked~div.sk-toggleable__content {max-height: 200px;max-width: 100%;overflow: auto;}#sk-container-id-8 input.sk-toggleable__control:checked~label.sk-toggleable__label-arrow:before {content: \"▾\";}#sk-container-id-8 div.sk-estimator input.sk-toggleable__control:checked~label.sk-toggleable__label {background-color: #d4ebff;}#sk-container-id-8 div.sk-label input.sk-toggleable__control:checked~label.sk-toggleable__label {background-color: #d4ebff;}#sk-container-id-8 input.sk-hidden--visually {border: 0;clip: rect(1px 1px 1px 1px);clip: rect(1px, 1px, 1px, 1px);height: 1px;margin: -1px;overflow: hidden;padding: 0;position: absolute;width: 1px;}#sk-container-id-8 div.sk-estimator {font-family: monospace;background-color: #f0f8ff;border: 1px dotted black;border-radius: 0.25em;box-sizing: border-box;margin-bottom: 0.5em;}#sk-container-id-8 div.sk-estimator:hover {background-color: #d4ebff;}#sk-container-id-8 div.sk-parallel-item::after {content: \"\";width: 100%;border-bottom: 1px solid gray;flex-grow: 1;}#sk-container-id-8 div.sk-label:hover label.sk-toggleable__label {background-color: #d4ebff;}#sk-container-id-8 div.sk-serial::before {content: \"\";position: absolute;border-left: 1px solid gray;box-sizing: border-box;top: 0;bottom: 0;left: 50%;z-index: 0;}#sk-container-id-8 div.sk-serial {display: flex;flex-direction: column;align-items: center;background-color: white;padding-right: 0.2em;padding-left: 0.2em;position: relative;}#sk-container-id-8 div.sk-item {position: relative;z-index: 1;}#sk-container-id-8 div.sk-parallel {display: flex;align-items: stretch;justify-content: center;background-color: white;position: relative;}#sk-container-id-8 div.sk-item::before, #sk-container-id-8 div.sk-parallel-item::before {content: \"\";position: absolute;border-left: 1px solid gray;box-sizing: border-box;top: 0;bottom: 0;left: 50%;z-index: -1;}#sk-container-id-8 div.sk-parallel-item {display: flex;flex-direction: column;z-index: 1;position: relative;background-color: white;}#sk-container-id-8 div.sk-parallel-item:first-child::after {align-self: flex-end;width: 50%;}#sk-container-id-8 div.sk-parallel-item:last-child::after {align-self: flex-start;width: 50%;}#sk-container-id-8 div.sk-parallel-item:only-child::after {width: 0;}#sk-container-id-8 div.sk-dashed-wrapped {border: 1px dashed gray;margin: 0 0.4em 0.5em 0.4em;box-sizing: border-box;padding-bottom: 0.4em;background-color: white;}#sk-container-id-8 div.sk-label label {font-family: monospace;font-weight: bold;display: inline-block;line-height: 1.2em;}#sk-container-id-8 div.sk-label-container {text-align: center;}#sk-container-id-8 div.sk-container {/* jupyter's `normalize.less` sets `[hidden] { display: none; }` but bootstrap.min.css set `[hidden] { display: none !important; }` so we also need the `!important` here to be able to override the default hidden behavior on the sphinx rendered scikit-learn.org. See: https://github.com/scikit-learn/scikit-learn/issues/21755 */display: inline-block !important;position: relative;}#sk-container-id-8 div.sk-text-repr-fallback {display: none;}</style><div id=\"sk-container-id-8\" class=\"sk-top-container\"><div class=\"sk-text-repr-fallback\"><pre>GridSearchCV(cv=3, estimator=RandomForestClassifier(),\n             param_grid={&#x27;max_depth&#x27;: array([2, 3, 4, 5, 6, 7, 8, 9]),\n                         &#x27;min_samples_leaf&#x27;: array([1, 3, 5, 7, 9]),\n                         &#x27;min_samples_split&#x27;: array([2, 4, 6, 8])},\n             scoring=&#x27;recall&#x27;)</pre><b>In a Jupyter environment, please rerun this cell to show the HTML representation or trust the notebook. <br />On GitHub, the HTML representation is unable to render, please try loading this page with nbviewer.org.</b></div><div class=\"sk-container\" hidden><div class=\"sk-item sk-dashed-wrapped\"><div class=\"sk-label-container\"><div class=\"sk-label sk-toggleable\"><input class=\"sk-toggleable__control sk-hidden--visually\" id=\"sk-estimator-id-20\" type=\"checkbox\" ><label for=\"sk-estimator-id-20\" class=\"sk-toggleable__label sk-toggleable__label-arrow\">GridSearchCV</label><div class=\"sk-toggleable__content\"><pre>GridSearchCV(cv=3, estimator=RandomForestClassifier(),\n             param_grid={&#x27;max_depth&#x27;: array([2, 3, 4, 5, 6, 7, 8, 9]),\n                         &#x27;min_samples_leaf&#x27;: array([1, 3, 5, 7, 9]),\n                         &#x27;min_samples_split&#x27;: array([2, 4, 6, 8])},\n             scoring=&#x27;recall&#x27;)</pre></div></div></div><div class=\"sk-parallel\"><div class=\"sk-parallel-item\"><div class=\"sk-item\"><div class=\"sk-label-container\"><div class=\"sk-label sk-toggleable\"><input class=\"sk-toggleable__control sk-hidden--visually\" id=\"sk-estimator-id-21\" type=\"checkbox\" ><label for=\"sk-estimator-id-21\" class=\"sk-toggleable__label sk-toggleable__label-arrow\">estimator: RandomForestClassifier</label><div class=\"sk-toggleable__content\"><pre>RandomForestClassifier()</pre></div></div></div><div class=\"sk-serial\"><div class=\"sk-item\"><div class=\"sk-estimator sk-toggleable\"><input class=\"sk-toggleable__control sk-hidden--visually\" id=\"sk-estimator-id-22\" type=\"checkbox\" ><label for=\"sk-estimator-id-22\" class=\"sk-toggleable__label sk-toggleable__label-arrow\">RandomForestClassifier</label><div class=\"sk-toggleable__content\"><pre>RandomForestClassifier()</pre></div></div></div></div></div></div></div></div></div></div>"
     },
     "execution_count": 36,
     "metadata": {},
     "output_type": "execute_result"
    }
   ],
   "source": [
    "params = {\n",
    "          'max_depth' : np.arange(2,10),\n",
    "          'min_samples_split' : np.arange(2,10,2),\n",
    "          'min_samples_leaf': np.arange(1,10,2)}\n",
    "\n",
    "gs = GridSearchCV(RandomForestClassifier(), params, cv=3, scoring='recall', verbose=0)\n",
    "\n",
    "gs.fit(X_train, y_train)"
   ],
   "metadata": {
    "collapsed": false,
    "ExecuteTime": {
     "end_time": "2023-12-09T15:17:45.003466300Z",
     "start_time": "2023-12-09T15:13:03.642998500Z"
    }
   },
   "id": "bb015955c848ded0"
  },
  {
   "cell_type": "code",
   "execution_count": 37,
   "outputs": [
    {
     "data": {
      "text/plain": "(0.5645403460529511,\n {'max_depth': 8, 'min_samples_leaf': 7, 'min_samples_split': 6})"
     },
     "execution_count": 37,
     "metadata": {},
     "output_type": "execute_result"
    }
   ],
   "source": [
    "gs.best_score_, gs.best_params_"
   ],
   "metadata": {
    "collapsed": false,
    "ExecuteTime": {
     "end_time": "2023-12-09T15:18:03.156616Z",
     "start_time": "2023-12-09T15:18:03.149717400Z"
    }
   },
   "id": "de732324c2b0144e"
  },
  {
   "cell_type": "code",
   "execution_count": 38,
   "outputs": [
    {
     "data": {
      "text/plain": "0.5180995475113123"
     },
     "execution_count": 38,
     "metadata": {},
     "output_type": "execute_result"
    }
   ],
   "source": [
    "modelRF_tuned = gs.best_estimator_.fit(X_train, y_train)\n",
    "y_pred = modelRF_tuned.predict(X_test)\n",
    "recall_score(y_test, y_pred)"
   ],
   "metadata": {
    "collapsed": false,
    "ExecuteTime": {
     "end_time": "2023-12-09T15:19:25.332119300Z",
     "start_time": "2023-12-09T15:19:20.270625700Z"
    }
   },
   "id": "b7839be4a389ca6a"
  },
  {
   "cell_type": "code",
   "execution_count": null,
   "outputs": [],
   "source": [],
   "metadata": {
    "collapsed": false
   },
   "id": "b34e052f906855b1"
  },
  {
   "cell_type": "markdown",
   "source": [
    "### GradientBoosting"
   ],
   "metadata": {
    "collapsed": false
   },
   "id": "b793d8d21e289610"
  },
  {
   "cell_type": "code",
   "execution_count": 36,
   "outputs": [
    {
     "data": {
      "text/plain": "0.5384615384615384"
     },
     "execution_count": 36,
     "metadata": {},
     "output_type": "execute_result"
    }
   ],
   "source": [
    "modelGB = GradientBoostingClassifier().fit(X_train, y_train)\n",
    "y_pred = modelGB.predict(X_test)\n",
    "recall_score(y_test, y_pred)"
   ],
   "metadata": {
    "collapsed": false,
    "ExecuteTime": {
     "end_time": "2023-12-08T17:06:21.574433200Z",
     "start_time": "2023-12-08T17:06:14.094741700Z"
    }
   },
   "id": "90def3610a180ebe"
  },
  {
   "cell_type": "code",
   "execution_count": 28,
   "outputs": [
    {
     "data": {
      "text/plain": "GridSearchCV(cv=3, estimator=GradientBoostingClassifier(max_depth=2),\n             param_grid={'min_samples_leaf': array([1, 3, 5, 7, 9])},\n             scoring='recall')",
      "text/html": "<style>#sk-container-id-7 {color: black;}#sk-container-id-7 pre{padding: 0;}#sk-container-id-7 div.sk-toggleable {background-color: white;}#sk-container-id-7 label.sk-toggleable__label {cursor: pointer;display: block;width: 100%;margin-bottom: 0;padding: 0.3em;box-sizing: border-box;text-align: center;}#sk-container-id-7 label.sk-toggleable__label-arrow:before {content: \"▸\";float: left;margin-right: 0.25em;color: #696969;}#sk-container-id-7 label.sk-toggleable__label-arrow:hover:before {color: black;}#sk-container-id-7 div.sk-estimator:hover label.sk-toggleable__label-arrow:before {color: black;}#sk-container-id-7 div.sk-toggleable__content {max-height: 0;max-width: 0;overflow: hidden;text-align: left;background-color: #f0f8ff;}#sk-container-id-7 div.sk-toggleable__content pre {margin: 0.2em;color: black;border-radius: 0.25em;background-color: #f0f8ff;}#sk-container-id-7 input.sk-toggleable__control:checked~div.sk-toggleable__content {max-height: 200px;max-width: 100%;overflow: auto;}#sk-container-id-7 input.sk-toggleable__control:checked~label.sk-toggleable__label-arrow:before {content: \"▾\";}#sk-container-id-7 div.sk-estimator input.sk-toggleable__control:checked~label.sk-toggleable__label {background-color: #d4ebff;}#sk-container-id-7 div.sk-label input.sk-toggleable__control:checked~label.sk-toggleable__label {background-color: #d4ebff;}#sk-container-id-7 input.sk-hidden--visually {border: 0;clip: rect(1px 1px 1px 1px);clip: rect(1px, 1px, 1px, 1px);height: 1px;margin: -1px;overflow: hidden;padding: 0;position: absolute;width: 1px;}#sk-container-id-7 div.sk-estimator {font-family: monospace;background-color: #f0f8ff;border: 1px dotted black;border-radius: 0.25em;box-sizing: border-box;margin-bottom: 0.5em;}#sk-container-id-7 div.sk-estimator:hover {background-color: #d4ebff;}#sk-container-id-7 div.sk-parallel-item::after {content: \"\";width: 100%;border-bottom: 1px solid gray;flex-grow: 1;}#sk-container-id-7 div.sk-label:hover label.sk-toggleable__label {background-color: #d4ebff;}#sk-container-id-7 div.sk-serial::before {content: \"\";position: absolute;border-left: 1px solid gray;box-sizing: border-box;top: 0;bottom: 0;left: 50%;z-index: 0;}#sk-container-id-7 div.sk-serial {display: flex;flex-direction: column;align-items: center;background-color: white;padding-right: 0.2em;padding-left: 0.2em;position: relative;}#sk-container-id-7 div.sk-item {position: relative;z-index: 1;}#sk-container-id-7 div.sk-parallel {display: flex;align-items: stretch;justify-content: center;background-color: white;position: relative;}#sk-container-id-7 div.sk-item::before, #sk-container-id-7 div.sk-parallel-item::before {content: \"\";position: absolute;border-left: 1px solid gray;box-sizing: border-box;top: 0;bottom: 0;left: 50%;z-index: -1;}#sk-container-id-7 div.sk-parallel-item {display: flex;flex-direction: column;z-index: 1;position: relative;background-color: white;}#sk-container-id-7 div.sk-parallel-item:first-child::after {align-self: flex-end;width: 50%;}#sk-container-id-7 div.sk-parallel-item:last-child::after {align-self: flex-start;width: 50%;}#sk-container-id-7 div.sk-parallel-item:only-child::after {width: 0;}#sk-container-id-7 div.sk-dashed-wrapped {border: 1px dashed gray;margin: 0 0.4em 0.5em 0.4em;box-sizing: border-box;padding-bottom: 0.4em;background-color: white;}#sk-container-id-7 div.sk-label label {font-family: monospace;font-weight: bold;display: inline-block;line-height: 1.2em;}#sk-container-id-7 div.sk-label-container {text-align: center;}#sk-container-id-7 div.sk-container {/* jupyter's `normalize.less` sets `[hidden] { display: none; }` but bootstrap.min.css set `[hidden] { display: none !important; }` so we also need the `!important` here to be able to override the default hidden behavior on the sphinx rendered scikit-learn.org. See: https://github.com/scikit-learn/scikit-learn/issues/21755 */display: inline-block !important;position: relative;}#sk-container-id-7 div.sk-text-repr-fallback {display: none;}</style><div id=\"sk-container-id-7\" class=\"sk-top-container\"><div class=\"sk-text-repr-fallback\"><pre>GridSearchCV(cv=3, estimator=GradientBoostingClassifier(max_depth=2),\n             param_grid={&#x27;min_samples_leaf&#x27;: array([1, 3, 5, 7, 9])},\n             scoring=&#x27;recall&#x27;)</pre><b>In a Jupyter environment, please rerun this cell to show the HTML representation or trust the notebook. <br />On GitHub, the HTML representation is unable to render, please try loading this page with nbviewer.org.</b></div><div class=\"sk-container\" hidden><div class=\"sk-item sk-dashed-wrapped\"><div class=\"sk-label-container\"><div class=\"sk-label sk-toggleable\"><input class=\"sk-toggleable__control sk-hidden--visually\" id=\"sk-estimator-id-17\" type=\"checkbox\" ><label for=\"sk-estimator-id-17\" class=\"sk-toggleable__label sk-toggleable__label-arrow\">GridSearchCV</label><div class=\"sk-toggleable__content\"><pre>GridSearchCV(cv=3, estimator=GradientBoostingClassifier(max_depth=2),\n             param_grid={&#x27;min_samples_leaf&#x27;: array([1, 3, 5, 7, 9])},\n             scoring=&#x27;recall&#x27;)</pre></div></div></div><div class=\"sk-parallel\"><div class=\"sk-parallel-item\"><div class=\"sk-item\"><div class=\"sk-label-container\"><div class=\"sk-label sk-toggleable\"><input class=\"sk-toggleable__control sk-hidden--visually\" id=\"sk-estimator-id-18\" type=\"checkbox\" ><label for=\"sk-estimator-id-18\" class=\"sk-toggleable__label sk-toggleable__label-arrow\">estimator: GradientBoostingClassifier</label><div class=\"sk-toggleable__content\"><pre>GradientBoostingClassifier(max_depth=2)</pre></div></div></div><div class=\"sk-serial\"><div class=\"sk-item\"><div class=\"sk-estimator sk-toggleable\"><input class=\"sk-toggleable__control sk-hidden--visually\" id=\"sk-estimator-id-19\" type=\"checkbox\" ><label for=\"sk-estimator-id-19\" class=\"sk-toggleable__label sk-toggleable__label-arrow\">GradientBoostingClassifier</label><div class=\"sk-toggleable__content\"><pre>GradientBoostingClassifier(max_depth=2)</pre></div></div></div></div></div></div></div></div></div></div>"
     },
     "execution_count": 28,
     "metadata": {},
     "output_type": "execute_result"
    }
   ],
   "source": [
    "params = {'min_samples_leaf': np.arange(1,10,2)}\n",
    "\n",
    "# 'max_depth' : np.arange(2,10)\n",
    "# 'min_samples_split' : np.arange(2,10,2),\n",
    "# 'min_samples_leaf': np.arange(1,10,2)\n",
    "\n",
    "gs = GridSearchCV(GradientBoostingClassifier(max_depth=2, min_samples_split=2), params, cv=3, scoring='recall', verbose=0)\n",
    "\n",
    "gs.fit(X_train, y_train)"
   ],
   "metadata": {
    "collapsed": false,
    "ExecuteTime": {
     "end_time": "2023-12-09T11:51:14.032380800Z",
     "start_time": "2023-12-09T11:50:47.832925500Z"
    }
   },
   "id": "9a90821b6c6135c0"
  },
  {
   "cell_type": "code",
   "execution_count": 29,
   "outputs": [
    {
     "data": {
      "text/plain": "(0.5720955048686142, {'min_samples_leaf': 3})"
     },
     "execution_count": 29,
     "metadata": {},
     "output_type": "execute_result"
    }
   ],
   "source": [
    "gs.best_score_, gs.best_params_"
   ],
   "metadata": {
    "collapsed": false,
    "ExecuteTime": {
     "end_time": "2023-12-09T11:51:14.037578Z",
     "start_time": "2023-12-09T11:51:14.033346Z"
    }
   },
   "id": "5e6c2741c03d3b1f"
  },
  {
   "cell_type": "code",
   "execution_count": 33,
   "outputs": [
    {
     "data": {
      "text/plain": "0.5294117647058824"
     },
     "execution_count": 33,
     "metadata": {},
     "output_type": "execute_result"
    }
   ],
   "source": [
    "modelGB_tuned = GradientBoostingClassifier(max_depth=2, min_samples_split=2, min_samples_leaf=3).fit(X_train, y_train)\n",
    "y_pred = modelGB_tuned.predict(X_test)\n",
    "recall_score(y_test, y_pred)"
   ],
   "metadata": {
    "collapsed": false,
    "ExecuteTime": {
     "end_time": "2023-12-09T11:54:50.120753800Z",
     "start_time": "2023-12-09T11:54:41.180323700Z"
    }
   },
   "id": "5beb03fada7ce2c"
  },
  {
   "cell_type": "code",
   "execution_count": null,
   "outputs": [],
   "source": [],
   "metadata": {
    "collapsed": false
   },
   "id": "6ef807f66d641a85"
  },
  {
   "cell_type": "code",
   "execution_count": null,
   "outputs": [],
   "source": [],
   "metadata": {
    "collapsed": false
   },
   "id": "4f84e6f5caff3991"
  },
  {
   "cell_type": "markdown",
   "source": [
    "### DecisionTree"
   ],
   "metadata": {
    "collapsed": false
   },
   "id": "1db645df43111efb"
  },
  {
   "cell_type": "code",
   "execution_count": 38,
   "outputs": [
    {
     "data": {
      "text/plain": "0.48642533936651583"
     },
     "execution_count": 38,
     "metadata": {},
     "output_type": "execute_result"
    }
   ],
   "source": [
    "modelDT = DecisionTreeClassifier().fit(X_train, y_train)\n",
    "y_pred = modelDT.predict(X_test)\n",
    "recall_score(y_test, y_pred)"
   ],
   "metadata": {
    "collapsed": false,
    "ExecuteTime": {
     "end_time": "2023-12-08T17:09:36.417014300Z",
     "start_time": "2023-12-08T17:09:36.330332600Z"
    }
   },
   "id": "7cc23c5f2ae34cc5"
  },
  {
   "cell_type": "code",
   "execution_count": 17,
   "outputs": [
    {
     "data": {
      "text/plain": "GridSearchCV(cv=3, estimator=DecisionTreeClassifier(),\n             param_grid={'max_depth': array([ 2,  3,  4,  5,  6,  7,  8,  9, 10, 11, 12, 13, 14, 15, 16, 17, 18,\n       19]),\n                         'min_samples_leaf': array([ 1,  3,  5,  7,  9, 11, 13, 15, 17, 19]),\n                         'min_samples_split': array([ 2,  4,  6,  8, 10, 12, 14, 16, 18])},\n             scoring='recall')",
      "text/html": "<style>#sk-container-id-4 {color: black;}#sk-container-id-4 pre{padding: 0;}#sk-container-id-4 div.sk-toggleable {background-color: white;}#sk-container-id-4 label.sk-toggleable__label {cursor: pointer;display: block;width: 100%;margin-bottom: 0;padding: 0.3em;box-sizing: border-box;text-align: center;}#sk-container-id-4 label.sk-toggleable__label-arrow:before {content: \"▸\";float: left;margin-right: 0.25em;color: #696969;}#sk-container-id-4 label.sk-toggleable__label-arrow:hover:before {color: black;}#sk-container-id-4 div.sk-estimator:hover label.sk-toggleable__label-arrow:before {color: black;}#sk-container-id-4 div.sk-toggleable__content {max-height: 0;max-width: 0;overflow: hidden;text-align: left;background-color: #f0f8ff;}#sk-container-id-4 div.sk-toggleable__content pre {margin: 0.2em;color: black;border-radius: 0.25em;background-color: #f0f8ff;}#sk-container-id-4 input.sk-toggleable__control:checked~div.sk-toggleable__content {max-height: 200px;max-width: 100%;overflow: auto;}#sk-container-id-4 input.sk-toggleable__control:checked~label.sk-toggleable__label-arrow:before {content: \"▾\";}#sk-container-id-4 div.sk-estimator input.sk-toggleable__control:checked~label.sk-toggleable__label {background-color: #d4ebff;}#sk-container-id-4 div.sk-label input.sk-toggleable__control:checked~label.sk-toggleable__label {background-color: #d4ebff;}#sk-container-id-4 input.sk-hidden--visually {border: 0;clip: rect(1px 1px 1px 1px);clip: rect(1px, 1px, 1px, 1px);height: 1px;margin: -1px;overflow: hidden;padding: 0;position: absolute;width: 1px;}#sk-container-id-4 div.sk-estimator {font-family: monospace;background-color: #f0f8ff;border: 1px dotted black;border-radius: 0.25em;box-sizing: border-box;margin-bottom: 0.5em;}#sk-container-id-4 div.sk-estimator:hover {background-color: #d4ebff;}#sk-container-id-4 div.sk-parallel-item::after {content: \"\";width: 100%;border-bottom: 1px solid gray;flex-grow: 1;}#sk-container-id-4 div.sk-label:hover label.sk-toggleable__label {background-color: #d4ebff;}#sk-container-id-4 div.sk-serial::before {content: \"\";position: absolute;border-left: 1px solid gray;box-sizing: border-box;top: 0;bottom: 0;left: 50%;z-index: 0;}#sk-container-id-4 div.sk-serial {display: flex;flex-direction: column;align-items: center;background-color: white;padding-right: 0.2em;padding-left: 0.2em;position: relative;}#sk-container-id-4 div.sk-item {position: relative;z-index: 1;}#sk-container-id-4 div.sk-parallel {display: flex;align-items: stretch;justify-content: center;background-color: white;position: relative;}#sk-container-id-4 div.sk-item::before, #sk-container-id-4 div.sk-parallel-item::before {content: \"\";position: absolute;border-left: 1px solid gray;box-sizing: border-box;top: 0;bottom: 0;left: 50%;z-index: -1;}#sk-container-id-4 div.sk-parallel-item {display: flex;flex-direction: column;z-index: 1;position: relative;background-color: white;}#sk-container-id-4 div.sk-parallel-item:first-child::after {align-self: flex-end;width: 50%;}#sk-container-id-4 div.sk-parallel-item:last-child::after {align-self: flex-start;width: 50%;}#sk-container-id-4 div.sk-parallel-item:only-child::after {width: 0;}#sk-container-id-4 div.sk-dashed-wrapped {border: 1px dashed gray;margin: 0 0.4em 0.5em 0.4em;box-sizing: border-box;padding-bottom: 0.4em;background-color: white;}#sk-container-id-4 div.sk-label label {font-family: monospace;font-weight: bold;display: inline-block;line-height: 1.2em;}#sk-container-id-4 div.sk-label-container {text-align: center;}#sk-container-id-4 div.sk-container {/* jupyter's `normalize.less` sets `[hidden] { display: none; }` but bootstrap.min.css set `[hidden] { display: none !important; }` so we also need the `!important` here to be able to override the default hidden behavior on the sphinx rendered scikit-learn.org. See: https://github.com/scikit-learn/scikit-learn/issues/21755 */display: inline-block !important;position: relative;}#sk-container-id-4 div.sk-text-repr-fallback {display: none;}</style><div id=\"sk-container-id-4\" class=\"sk-top-container\"><div class=\"sk-text-repr-fallback\"><pre>GridSearchCV(cv=3, estimator=DecisionTreeClassifier(),\n             param_grid={&#x27;max_depth&#x27;: array([ 2,  3,  4,  5,  6,  7,  8,  9, 10, 11, 12, 13, 14, 15, 16, 17, 18,\n       19]),\n                         &#x27;min_samples_leaf&#x27;: array([ 1,  3,  5,  7,  9, 11, 13, 15, 17, 19]),\n                         &#x27;min_samples_split&#x27;: array([ 2,  4,  6,  8, 10, 12, 14, 16, 18])},\n             scoring=&#x27;recall&#x27;)</pre><b>In a Jupyter environment, please rerun this cell to show the HTML representation or trust the notebook. <br />On GitHub, the HTML representation is unable to render, please try loading this page with nbviewer.org.</b></div><div class=\"sk-container\" hidden><div class=\"sk-item sk-dashed-wrapped\"><div class=\"sk-label-container\"><div class=\"sk-label sk-toggleable\"><input class=\"sk-toggleable__control sk-hidden--visually\" id=\"sk-estimator-id-8\" type=\"checkbox\" ><label for=\"sk-estimator-id-8\" class=\"sk-toggleable__label sk-toggleable__label-arrow\">GridSearchCV</label><div class=\"sk-toggleable__content\"><pre>GridSearchCV(cv=3, estimator=DecisionTreeClassifier(),\n             param_grid={&#x27;max_depth&#x27;: array([ 2,  3,  4,  5,  6,  7,  8,  9, 10, 11, 12, 13, 14, 15, 16, 17, 18,\n       19]),\n                         &#x27;min_samples_leaf&#x27;: array([ 1,  3,  5,  7,  9, 11, 13, 15, 17, 19]),\n                         &#x27;min_samples_split&#x27;: array([ 2,  4,  6,  8, 10, 12, 14, 16, 18])},\n             scoring=&#x27;recall&#x27;)</pre></div></div></div><div class=\"sk-parallel\"><div class=\"sk-parallel-item\"><div class=\"sk-item\"><div class=\"sk-label-container\"><div class=\"sk-label sk-toggleable\"><input class=\"sk-toggleable__control sk-hidden--visually\" id=\"sk-estimator-id-9\" type=\"checkbox\" ><label for=\"sk-estimator-id-9\" class=\"sk-toggleable__label sk-toggleable__label-arrow\">estimator: DecisionTreeClassifier</label><div class=\"sk-toggleable__content\"><pre>DecisionTreeClassifier()</pre></div></div></div><div class=\"sk-serial\"><div class=\"sk-item\"><div class=\"sk-estimator sk-toggleable\"><input class=\"sk-toggleable__control sk-hidden--visually\" id=\"sk-estimator-id-10\" type=\"checkbox\" ><label for=\"sk-estimator-id-10\" class=\"sk-toggleable__label sk-toggleable__label-arrow\">DecisionTreeClassifier</label><div class=\"sk-toggleable__content\"><pre>DecisionTreeClassifier()</pre></div></div></div></div></div></div></div></div></div></div>"
     },
     "execution_count": 17,
     "metadata": {},
     "output_type": "execute_result"
    }
   ],
   "source": [
    "params = {'max_depth' : np.arange(2,20),\n",
    "          'min_samples_split' : np.arange(2,20,2),\n",
    "          'min_samples_leaf': np.arange(1,20,2)}\n",
    "\n",
    "gs = GridSearchCV(DecisionTreeClassifier(), params, cv=3, scoring='recall', verbose=0)\n",
    "\n",
    "gs.fit(X_train, y_train)"
   ],
   "metadata": {
    "collapsed": false,
    "ExecuteTime": {
     "end_time": "2023-12-09T10:04:00.501642400Z",
     "start_time": "2023-12-09T10:01:38.765475100Z"
    }
   },
   "id": "55e887db09692701"
  },
  {
   "cell_type": "code",
   "execution_count": 18,
   "outputs": [
    {
     "data": {
      "text/plain": "(0.5592390802474836,\n {'max_depth': 13, 'min_samples_leaf': 17, 'min_samples_split': 16})"
     },
     "execution_count": 18,
     "metadata": {},
     "output_type": "execute_result"
    }
   ],
   "source": [
    "gs.best_score_, gs.best_params_"
   ],
   "metadata": {
    "collapsed": false,
    "ExecuteTime": {
     "end_time": "2023-12-09T10:04:12.437350400Z",
     "start_time": "2023-12-09T10:04:12.418686500Z"
    }
   },
   "id": "d28022ab4f3f38c6"
  },
  {
   "cell_type": "code",
   "execution_count": 19,
   "outputs": [
    {
     "data": {
      "text/plain": "0.5407239819004525"
     },
     "execution_count": 19,
     "metadata": {},
     "output_type": "execute_result"
    }
   ],
   "source": [
    "y_pred = gs.best_estimator_.predict(X_test)\n",
    "recall_score(y_test, y_pred)"
   ],
   "metadata": {
    "collapsed": false,
    "ExecuteTime": {
     "end_time": "2023-12-09T10:04:16.539488400Z",
     "start_time": "2023-12-09T10:04:16.528279800Z"
    }
   },
   "id": "b7c56e8c98cb3e6a"
  },
  {
   "cell_type": "markdown",
   "source": [
    "### Наивный Баес"
   ],
   "metadata": {
    "collapsed": false
   },
   "id": "d58e872267f3449d"
  },
  {
   "cell_type": "code",
   "execution_count": 40,
   "outputs": [
    {
     "data": {
      "text/plain": "0.4095022624434389"
     },
     "execution_count": 40,
     "metadata": {},
     "output_type": "execute_result"
    }
   ],
   "source": [
    "gnb = GaussianNB()\n",
    "\n",
    "gnb.fit(X_train, y_train)\n",
    "\n",
    "y_pred = gnb.predict(X_test)\n",
    "\n",
    "recall_score(y_test, y_pred)"
   ],
   "metadata": {
    "collapsed": false,
    "ExecuteTime": {
     "end_time": "2023-12-09T16:01:10.704467100Z",
     "start_time": "2023-12-09T16:01:10.691900200Z"
    }
   },
   "id": "e1b9b4a83161f8aa"
  },
  {
   "cell_type": "code",
   "execution_count": null,
   "outputs": [],
   "source": [],
   "metadata": {
    "collapsed": false
   },
   "id": "6537df665b220143"
  },
  {
   "cell_type": "markdown",
   "source": [
    "Mod Default Grid\n",
    "KNN 0.287   0.353\n",
    "CB  0.525   0.525\n",
    "RF  0.509   0.518\n",
    "GB  0.538   0.529\n",
    "DT  0.486   0.559\n",
    "NB  0.410   0.410"
   ],
   "metadata": {
    "collapsed": false
   },
   "id": "592559a7c2ca5d58"
  },
  {
   "cell_type": "markdown",
   "source": [
    "=> CB, GB, DT"
   ],
   "metadata": {
    "collapsed": false
   },
   "id": "724f745de479119"
  },
  {
   "cell_type": "markdown",
   "source": [
    "# 2.4. Добавляем категориальные признаки"
   ],
   "metadata": {
    "collapsed": false
   },
   "id": "994c7239ffaeb84a"
  },
  {
   "cell_type": "code",
   "execution_count": 6,
   "outputs": [],
   "source": [
    "X = df.drop(columns=['y', 'Administrative', 'Informational', 'ProductRelated'])"
   ],
   "metadata": {
    "collapsed": false,
    "ExecuteTime": {
     "end_time": "2023-12-11T10:21:16.589774900Z",
     "start_time": "2023-12-11T10:21:16.570237700Z"
    }
   },
   "id": "5bd4d5a8dcf2b0b4"
  },
  {
   "cell_type": "code",
   "execution_count": 7,
   "outputs": [],
   "source": [
    "y = df['y']"
   ],
   "metadata": {
    "collapsed": false,
    "ExecuteTime": {
     "end_time": "2023-12-11T10:21:46.539433Z",
     "start_time": "2023-12-11T10:21:46.484440300Z"
    }
   },
   "id": "8d1ea29ae0cafa89"
  },
  {
   "cell_type": "code",
   "execution_count": 44,
   "outputs": [
    {
     "data": {
      "text/plain": "       Administrative_Duration  Informational_Duration  \\\n1                          0.0                     0.0   \n3                          0.0                     0.0   \n4                          0.0                     0.0   \n5                          0.0                     0.0   \n9                          0.0                     0.0   \n...                        ...                     ...   \n12325                    145.0                     0.0   \n12326                      0.0                     0.0   \n12327                      0.0                     0.0   \n12328                     75.0                     0.0   \n12329                      0.0                     0.0   \n\n       ProductRelated_Duration  BounceRates  ExitRates  PageValues  \\\n1                    64.000000     0.000000   0.100000    0.000000   \n3                     2.666667     0.050000   0.140000    0.000000   \n4                   627.500000     0.020000   0.050000    0.000000   \n5                   154.216667     0.015789   0.024561    0.000000   \n9                   738.000000     0.000000   0.022222    0.000000   \n...                        ...          ...        ...         ...   \n12325              1783.791667     0.007143   0.029031   12.241717   \n12326               465.750000     0.000000   0.021333    0.000000   \n12327               184.250000     0.083333   0.086667    0.000000   \n12328               346.000000     0.000000   0.021053    0.000000   \n12329                21.250000     0.000000   0.066667    0.000000   \n\n       SpecialDay Month  OperatingSystems  Browser  Region  TrafficType  \\\n1             0.0   Feb                 2        2       1            2   \n3             0.0   Feb                 3        2       2            4   \n4             0.0   Feb                 3        3       1            4   \n5             0.0   Feb                 2        2       1            3   \n9             0.4   Feb                 2        4       1            2   \n...           ...   ...               ...      ...     ...          ...   \n12325         0.0   Dec                 4        6       1            1   \n12326         0.0   Nov                 3        2       1            8   \n12327         0.0   Nov                 3        2       1           13   \n12328         0.0   Nov                 2        2       3           11   \n12329         0.0   Nov                 3        2       1            2   \n\n             VisitorType  Weekend  \n1      Returning_Visitor        0  \n3      Returning_Visitor        0  \n4      Returning_Visitor        1  \n5      Returning_Visitor        0  \n9      Returning_Visitor        0  \n...                  ...      ...  \n12325  Returning_Visitor        1  \n12326  Returning_Visitor        1  \n12327  Returning_Visitor        1  \n12328  Returning_Visitor        0  \n12329        New_Visitor        1  \n\n[10855 rows x 14 columns]",
      "text/html": "<div>\n<style scoped>\n    .dataframe tbody tr th:only-of-type {\n        vertical-align: middle;\n    }\n\n    .dataframe tbody tr th {\n        vertical-align: top;\n    }\n\n    .dataframe thead th {\n        text-align: right;\n    }\n</style>\n<table border=\"1\" class=\"dataframe\">\n  <thead>\n    <tr style=\"text-align: right;\">\n      <th></th>\n      <th>Administrative_Duration</th>\n      <th>Informational_Duration</th>\n      <th>ProductRelated_Duration</th>\n      <th>BounceRates</th>\n      <th>ExitRates</th>\n      <th>PageValues</th>\n      <th>SpecialDay</th>\n      <th>Month</th>\n      <th>OperatingSystems</th>\n      <th>Browser</th>\n      <th>Region</th>\n      <th>TrafficType</th>\n      <th>VisitorType</th>\n      <th>Weekend</th>\n    </tr>\n  </thead>\n  <tbody>\n    <tr>\n      <th>1</th>\n      <td>0.0</td>\n      <td>0.0</td>\n      <td>64.000000</td>\n      <td>0.000000</td>\n      <td>0.100000</td>\n      <td>0.000000</td>\n      <td>0.0</td>\n      <td>Feb</td>\n      <td>2</td>\n      <td>2</td>\n      <td>1</td>\n      <td>2</td>\n      <td>Returning_Visitor</td>\n      <td>0</td>\n    </tr>\n    <tr>\n      <th>3</th>\n      <td>0.0</td>\n      <td>0.0</td>\n      <td>2.666667</td>\n      <td>0.050000</td>\n      <td>0.140000</td>\n      <td>0.000000</td>\n      <td>0.0</td>\n      <td>Feb</td>\n      <td>3</td>\n      <td>2</td>\n      <td>2</td>\n      <td>4</td>\n      <td>Returning_Visitor</td>\n      <td>0</td>\n    </tr>\n    <tr>\n      <th>4</th>\n      <td>0.0</td>\n      <td>0.0</td>\n      <td>627.500000</td>\n      <td>0.020000</td>\n      <td>0.050000</td>\n      <td>0.000000</td>\n      <td>0.0</td>\n      <td>Feb</td>\n      <td>3</td>\n      <td>3</td>\n      <td>1</td>\n      <td>4</td>\n      <td>Returning_Visitor</td>\n      <td>1</td>\n    </tr>\n    <tr>\n      <th>5</th>\n      <td>0.0</td>\n      <td>0.0</td>\n      <td>154.216667</td>\n      <td>0.015789</td>\n      <td>0.024561</td>\n      <td>0.000000</td>\n      <td>0.0</td>\n      <td>Feb</td>\n      <td>2</td>\n      <td>2</td>\n      <td>1</td>\n      <td>3</td>\n      <td>Returning_Visitor</td>\n      <td>0</td>\n    </tr>\n    <tr>\n      <th>9</th>\n      <td>0.0</td>\n      <td>0.0</td>\n      <td>738.000000</td>\n      <td>0.000000</td>\n      <td>0.022222</td>\n      <td>0.000000</td>\n      <td>0.4</td>\n      <td>Feb</td>\n      <td>2</td>\n      <td>4</td>\n      <td>1</td>\n      <td>2</td>\n      <td>Returning_Visitor</td>\n      <td>0</td>\n    </tr>\n    <tr>\n      <th>...</th>\n      <td>...</td>\n      <td>...</td>\n      <td>...</td>\n      <td>...</td>\n      <td>...</td>\n      <td>...</td>\n      <td>...</td>\n      <td>...</td>\n      <td>...</td>\n      <td>...</td>\n      <td>...</td>\n      <td>...</td>\n      <td>...</td>\n      <td>...</td>\n    </tr>\n    <tr>\n      <th>12325</th>\n      <td>145.0</td>\n      <td>0.0</td>\n      <td>1783.791667</td>\n      <td>0.007143</td>\n      <td>0.029031</td>\n      <td>12.241717</td>\n      <td>0.0</td>\n      <td>Dec</td>\n      <td>4</td>\n      <td>6</td>\n      <td>1</td>\n      <td>1</td>\n      <td>Returning_Visitor</td>\n      <td>1</td>\n    </tr>\n    <tr>\n      <th>12326</th>\n      <td>0.0</td>\n      <td>0.0</td>\n      <td>465.750000</td>\n      <td>0.000000</td>\n      <td>0.021333</td>\n      <td>0.000000</td>\n      <td>0.0</td>\n      <td>Nov</td>\n      <td>3</td>\n      <td>2</td>\n      <td>1</td>\n      <td>8</td>\n      <td>Returning_Visitor</td>\n      <td>1</td>\n    </tr>\n    <tr>\n      <th>12327</th>\n      <td>0.0</td>\n      <td>0.0</td>\n      <td>184.250000</td>\n      <td>0.083333</td>\n      <td>0.086667</td>\n      <td>0.000000</td>\n      <td>0.0</td>\n      <td>Nov</td>\n      <td>3</td>\n      <td>2</td>\n      <td>1</td>\n      <td>13</td>\n      <td>Returning_Visitor</td>\n      <td>1</td>\n    </tr>\n    <tr>\n      <th>12328</th>\n      <td>75.0</td>\n      <td>0.0</td>\n      <td>346.000000</td>\n      <td>0.000000</td>\n      <td>0.021053</td>\n      <td>0.000000</td>\n      <td>0.0</td>\n      <td>Nov</td>\n      <td>2</td>\n      <td>2</td>\n      <td>3</td>\n      <td>11</td>\n      <td>Returning_Visitor</td>\n      <td>0</td>\n    </tr>\n    <tr>\n      <th>12329</th>\n      <td>0.0</td>\n      <td>0.0</td>\n      <td>21.250000</td>\n      <td>0.000000</td>\n      <td>0.066667</td>\n      <td>0.000000</td>\n      <td>0.0</td>\n      <td>Nov</td>\n      <td>3</td>\n      <td>2</td>\n      <td>1</td>\n      <td>2</td>\n      <td>New_Visitor</td>\n      <td>1</td>\n    </tr>\n  </tbody>\n</table>\n<p>10855 rows × 14 columns</p>\n</div>"
     },
     "execution_count": 44,
     "metadata": {},
     "output_type": "execute_result"
    }
   ],
   "source": [
    "X"
   ],
   "metadata": {
    "collapsed": false,
    "ExecuteTime": {
     "end_time": "2023-12-09T16:10:44.754346600Z",
     "start_time": "2023-12-09T16:10:44.693983500Z"
    }
   },
   "id": "aaf45f52c168f1d8"
  },
  {
   "cell_type": "code",
   "execution_count": 45,
   "outputs": [
    {
     "data": {
      "text/plain": "Index(['Administrative_Duration', 'Informational_Duration',\n       'ProductRelated_Duration', 'BounceRates', 'ExitRates', 'PageValues',\n       'SpecialDay', 'Month', 'OperatingSystems', 'Browser', 'Region',\n       'TrafficType', 'VisitorType', 'Weekend'],\n      dtype='object')"
     },
     "execution_count": 45,
     "metadata": {},
     "output_type": "execute_result"
    }
   ],
   "source": [
    "X.columns"
   ],
   "metadata": {
    "collapsed": false,
    "ExecuteTime": {
     "end_time": "2023-12-09T16:17:16.302856500Z",
     "start_time": "2023-12-09T16:17:16.262817400Z"
    }
   },
   "id": "93ee34c9deb58446"
  },
  {
   "cell_type": "markdown",
   "source": [],
   "metadata": {
    "collapsed": false
   },
   "id": "b48a11eb0d1492c5"
  },
  {
   "cell_type": "code",
   "execution_count": 8,
   "outputs": [],
   "source": [
    "X_train, X_test, y_train, y_test = train_test_split(X, y, test_size=0.25, random_state=42, stratify=y)\n",
    "X_train, X_val, y_train, y_val = train_test_split(X_train, y_train, test_size=0.25, random_state=42, stratify=y_train)"
   ],
   "metadata": {
    "collapsed": false,
    "ExecuteTime": {
     "end_time": "2023-12-11T10:22:01.198461200Z",
     "start_time": "2023-12-11T10:22:01.149327800Z"
    }
   },
   "id": "fc2b42250fd0b734"
  },
  {
   "cell_type": "markdown",
   "source": [
    "### 2.4.1 CatBoost"
   ],
   "metadata": {
    "collapsed": false
   },
   "id": "d2c6a667edcf130d"
  },
  {
   "cell_type": "code",
   "execution_count": 9,
   "outputs": [],
   "source": [
    "modelCB = CatBoostClassifier(verbose=0, cat_features=[7,8,9,10,11,12,13])"
   ],
   "metadata": {
    "collapsed": false,
    "ExecuteTime": {
     "end_time": "2023-12-11T10:22:06.770123800Z",
     "start_time": "2023-12-11T10:22:06.760117900Z"
    }
   },
   "id": "3ae0d52b83f3a8f1"
  },
  {
   "cell_type": "code",
   "execution_count": 10,
   "outputs": [
    {
     "data": {
      "text/plain": "<catboost.core.CatBoostClassifier at 0x2a12a64ead0>"
     },
     "execution_count": 10,
     "metadata": {},
     "output_type": "execute_result"
    }
   ],
   "source": [
    "modelCB.fit(X_train, y_train)"
   ],
   "metadata": {
    "collapsed": false,
    "ExecuteTime": {
     "end_time": "2023-12-11T10:22:49.958924700Z",
     "start_time": "2023-12-11T10:22:15.005644Z"
    }
   },
   "id": "681271a005a6fbe0"
  },
  {
   "cell_type": "code",
   "execution_count": 50,
   "outputs": [],
   "source": [
    "y_pred = modelCB.predict(X_val)"
   ],
   "metadata": {
    "collapsed": false,
    "ExecuteTime": {
     "end_time": "2023-12-09T16:23:04.874703400Z",
     "start_time": "2023-12-09T16:23:04.831376300Z"
    }
   },
   "id": "def21ab12e11ca2e"
  },
  {
   "cell_type": "code",
   "execution_count": 51,
   "outputs": [
    {
     "data": {
      "text/plain": "0.6163141993957704"
     },
     "execution_count": 51,
     "metadata": {},
     "output_type": "execute_result"
    }
   ],
   "source": [
    "recall_score(y_val, y_pred)"
   ],
   "metadata": {
    "collapsed": false,
    "ExecuteTime": {
     "end_time": "2023-12-09T16:23:42.543979600Z",
     "start_time": "2023-12-09T16:23:42.508898Z"
    }
   },
   "id": "7d7e817819f7da74"
  },
  {
   "cell_type": "code",
   "execution_count": 92,
   "outputs": [
    {
     "data": {
      "text/plain": "0.5950226244343891"
     },
     "execution_count": 92,
     "metadata": {},
     "output_type": "execute_result"
    }
   ],
   "source": [
    "y_pred_final = modelCB.predict(X_test)\n",
    "recall_score(y_test, y_pred_final)"
   ],
   "metadata": {
    "collapsed": false,
    "ExecuteTime": {
     "end_time": "2023-12-09T19:47:11.550166200Z",
     "start_time": "2023-12-09T19:47:11.462652400Z"
    }
   },
   "id": "ad9100e79966023a"
  },
  {
   "cell_type": "code",
   "execution_count": 65,
   "outputs": [
    {
     "data": {
      "text/plain": "Index(['Month', 'OperatingSystems', 'Browser', 'Region', 'TrafficType',\n       'VisitorType', 'Weekend'],\n      dtype='object')"
     },
     "execution_count": 65,
     "metadata": {},
     "output_type": "execute_result"
    }
   ],
   "source": [
    "cat_cols = X.columns[[7,8,9,10,11,12,13]]\n",
    "cat_cols"
   ],
   "metadata": {
    "collapsed": false,
    "ExecuteTime": {
     "end_time": "2023-12-09T17:36:09.469419300Z",
     "start_time": "2023-12-09T17:36:09.463059100Z"
    }
   },
   "id": "1fde31bbb3f528c0"
  },
  {
   "cell_type": "markdown",
   "source": [
    "### 2.4.2 Desicion Tree and GradientBoosting Pipeline"
   ],
   "metadata": {
    "collapsed": false
   },
   "id": "5021dd3ac632350"
  },
  {
   "cell_type": "code",
   "execution_count": 67,
   "outputs": [],
   "source": [
    "!pip install category_encoders -q"
   ],
   "metadata": {
    "collapsed": false,
    "ExecuteTime": {
     "end_time": "2023-12-09T17:38:01.236915900Z",
     "start_time": "2023-12-09T17:37:55.990095300Z"
    }
   },
   "id": "c3763f3fe956749f"
  },
  {
   "cell_type": "code",
   "execution_count": 68,
   "outputs": [],
   "source": [
    "from category_encoders.one_hot import OneHotEncoder\n",
    "from sklearn.pipeline import Pipeline"
   ],
   "metadata": {
    "collapsed": false,
    "ExecuteTime": {
     "end_time": "2023-12-09T17:38:01.470765500Z",
     "start_time": "2023-12-09T17:38:01.209916700Z"
    }
   },
   "id": "3a83cab883689c93"
  },
  {
   "cell_type": "code",
   "execution_count": 69,
   "outputs": [],
   "source": [
    "p1 = Pipeline([\n",
    "    ('encoder_', OneHotEncoder(cols=cat_cols)),\n",
    "    ('model_', DecisionTreeClassifier())\n",
    "    ])"
   ],
   "metadata": {
    "collapsed": false,
    "ExecuteTime": {
     "end_time": "2023-12-09T17:40:33.344472300Z",
     "start_time": "2023-12-09T17:40:33.332959Z"
    }
   },
   "id": "d458fee6d14b8ef2"
  },
  {
   "cell_type": "code",
   "execution_count": 71,
   "outputs": [],
   "source": [
    "p2 = Pipeline([\n",
    "    ('encoder_', OneHotEncoder(cols=cat_cols)),\n",
    "    ('model_', GradientBoostingClassifier())\n",
    "    ])"
   ],
   "metadata": {
    "collapsed": false,
    "ExecuteTime": {
     "end_time": "2023-12-09T17:42:01.874170700Z",
     "start_time": "2023-12-09T17:42:01.859223Z"
    }
   },
   "id": "cb8a191a46626e4f"
  },
  {
   "cell_type": "code",
   "execution_count": 73,
   "outputs": [
    {
     "name": "stdout",
     "output_type": "stream",
     "text": [
      "1 0.6253776435045317\n",
      "2 0.6283987915407855\n"
     ]
    }
   ],
   "source": [
    "for i,p in enumerate([p1,p2]):\n",
    "    p.fit(X_train, y_train)\n",
    "    pred = p.predict(X_val)\n",
    "    print(i+1, recall_score(y_val, pred))"
   ],
   "metadata": {
    "collapsed": false,
    "ExecuteTime": {
     "end_time": "2023-12-09T17:42:46.549251700Z",
     "start_time": "2023-12-09T17:42:33.461750800Z"
    }
   },
   "id": "21aed8c9e2216fdb"
  },
  {
   "cell_type": "code",
   "execution_count": 74,
   "outputs": [],
   "source": [
    "params = {'max_depth' : np.arange(2,20),\n",
    "          'min_samples_split' : np.arange(2,20,2),\n",
    "          'min_samples_leaf': np.arange(1,20,2)}\n",
    "\n",
    "p3 = Pipeline([\n",
    "    ('encoder_', OneHotEncoder(cols=cat_cols)),\n",
    "    ('model_', GridSearchCV(DecisionTreeClassifier(), params, cv=3, scoring='recall', verbose=0))\n",
    "    ])"
   ],
   "metadata": {
    "collapsed": false,
    "ExecuteTime": {
     "end_time": "2023-12-09T17:49:36.066399700Z",
     "start_time": "2023-12-09T17:49:36.059886500Z"
    }
   },
   "id": "c4b3a784dac23ce7"
  },
  {
   "cell_type": "code",
   "execution_count": 75,
   "outputs": [
    {
     "data": {
      "text/plain": "0.5649546827794562"
     },
     "execution_count": 75,
     "metadata": {},
     "output_type": "execute_result"
    }
   ],
   "source": [
    "p3.fit(X_train, y_train)\n",
    "pred = p3.predict(X_val)\n",
    "recall_score(y_val, pred)"
   ],
   "metadata": {
    "collapsed": false,
    "ExecuteTime": {
     "end_time": "2023-12-09T17:53:21.521091400Z",
     "start_time": "2023-12-09T17:50:40.881957500Z"
    }
   },
   "id": "278dece5299831e6"
  },
  {
   "cell_type": "code",
   "execution_count": 77,
   "outputs": [
    {
     "data": {
      "text/plain": "{'memory': None,\n 'steps': [('encoder_',\n   OneHotEncoder(cols=Index(['Month', 'OperatingSystems', 'Browser', 'Region', 'TrafficType',\n          'VisitorType', 'Weekend'],\n         dtype='object'))),\n  ('model_',\n   GridSearchCV(cv=3, estimator=DecisionTreeClassifier(),\n                param_grid={'max_depth': array([ 2,  3,  4,  5,  6,  7,  8,  9, 10, 11, 12, 13, 14, 15, 16, 17, 18,\n          19]),\n                            'min_samples_leaf': array([ 1,  3,  5,  7,  9, 11, 13, 15, 17, 19]),\n                            'min_samples_split': array([ 2,  4,  6,  8, 10, 12, 14, 16, 18])},\n                scoring='recall'))],\n 'verbose': False,\n 'encoder_': OneHotEncoder(cols=Index(['Month', 'OperatingSystems', 'Browser', 'Region', 'TrafficType',\n        'VisitorType', 'Weekend'],\n       dtype='object')),\n 'model_': GridSearchCV(cv=3, estimator=DecisionTreeClassifier(),\n              param_grid={'max_depth': array([ 2,  3,  4,  5,  6,  7,  8,  9, 10, 11, 12, 13, 14, 15, 16, 17, 18,\n        19]),\n                          'min_samples_leaf': array([ 1,  3,  5,  7,  9, 11, 13, 15, 17, 19]),\n                          'min_samples_split': array([ 2,  4,  6,  8, 10, 12, 14, 16, 18])},\n              scoring='recall'),\n 'encoder___cols': Index(['Month', 'OperatingSystems', 'Browser', 'Region', 'TrafficType',\n        'VisitorType', 'Weekend'],\n       dtype='object'),\n 'encoder___drop_invariant': False,\n 'encoder___handle_missing': 'value',\n 'encoder___handle_unknown': 'value',\n 'encoder___return_df': True,\n 'encoder___use_cat_names': False,\n 'encoder___verbose': 0,\n 'model___cv': 3,\n 'model___error_score': nan,\n 'model___estimator__ccp_alpha': 0.0,\n 'model___estimator__class_weight': None,\n 'model___estimator__criterion': 'gini',\n 'model___estimator__max_depth': None,\n 'model___estimator__max_features': None,\n 'model___estimator__max_leaf_nodes': None,\n 'model___estimator__min_impurity_decrease': 0.0,\n 'model___estimator__min_samples_leaf': 1,\n 'model___estimator__min_samples_split': 2,\n 'model___estimator__min_weight_fraction_leaf': 0.0,\n 'model___estimator__random_state': None,\n 'model___estimator__splitter': 'best',\n 'model___estimator': DecisionTreeClassifier(),\n 'model___n_jobs': None,\n 'model___param_grid': {'max_depth': array([ 2,  3,  4,  5,  6,  7,  8,  9, 10, 11, 12, 13, 14, 15, 16, 17, 18,\n         19]),\n  'min_samples_split': array([ 2,  4,  6,  8, 10, 12, 14, 16, 18]),\n  'min_samples_leaf': array([ 1,  3,  5,  7,  9, 11, 13, 15, 17, 19])},\n 'model___pre_dispatch': '2*n_jobs',\n 'model___refit': True,\n 'model___return_train_score': False,\n 'model___scoring': 'recall',\n 'model___verbose': 0}"
     },
     "execution_count": 77,
     "metadata": {},
     "output_type": "execute_result"
    }
   ],
   "source": [
    "p3.get_params()"
   ],
   "metadata": {
    "collapsed": false,
    "ExecuteTime": {
     "end_time": "2023-12-09T17:54:28.920325300Z",
     "start_time": "2023-12-09T17:54:28.881953600Z"
    }
   },
   "id": "c8f53c5c9dd16655"
  },
  {
   "cell_type": "code",
   "execution_count": 78,
   "outputs": [],
   "source": [
    "model = GridSearchCV(DecisionTreeClassifier(), params, cv=3, scoring='recall', verbose=0)"
   ],
   "metadata": {
    "collapsed": false,
    "ExecuteTime": {
     "end_time": "2023-12-09T17:55:28.241836300Z",
     "start_time": "2023-12-09T17:55:28.222822100Z"
    }
   },
   "id": "64859234fe64333d"
  },
  {
   "cell_type": "code",
   "execution_count": 79,
   "outputs": [],
   "source": [
    "encoder = OneHotEncoder(cols=cat_cols)"
   ],
   "metadata": {
    "collapsed": false,
    "ExecuteTime": {
     "end_time": "2023-12-09T17:58:11.945743500Z",
     "start_time": "2023-12-09T17:58:11.916872800Z"
    }
   },
   "id": "6d08e63d9cf04a64"
  },
  {
   "cell_type": "code",
   "execution_count": 81,
   "outputs": [],
   "source": [
    "X_test_1 = encoder.fit_transform(X_test)"
   ],
   "metadata": {
    "collapsed": false,
    "ExecuteTime": {
     "end_time": "2023-12-09T17:59:32.922456500Z",
     "start_time": "2023-12-09T17:59:32.837951800Z"
    }
   },
   "id": "3c29c11871d5f776"
  },
  {
   "cell_type": "code",
   "execution_count": 83,
   "outputs": [],
   "source": [
    "X_val_1 = encoder.transform(X_val)"
   ],
   "metadata": {
    "collapsed": false,
    "ExecuteTime": {
     "end_time": "2023-12-09T18:00:34.673442600Z",
     "start_time": "2023-12-09T18:00:34.650233Z"
    }
   },
   "id": "3bd422f673a2eaed"
  },
  {
   "cell_type": "code",
   "execution_count": 84,
   "outputs": [
    {
     "data": {
      "text/plain": "GridSearchCV(cv=3, estimator=DecisionTreeClassifier(),\n             param_grid={'max_depth': array([ 2,  3,  4,  5,  6,  7,  8,  9, 10, 11, 12, 13, 14, 15, 16, 17, 18,\n       19]),\n                         'min_samples_leaf': array([ 1,  3,  5,  7,  9, 11, 13, 15, 17, 19]),\n                         'min_samples_split': array([ 2,  4,  6,  8, 10, 12, 14, 16, 18])},\n             scoring='recall')",
      "text/html": "<style>#sk-container-id-9 {color: black;}#sk-container-id-9 pre{padding: 0;}#sk-container-id-9 div.sk-toggleable {background-color: white;}#sk-container-id-9 label.sk-toggleable__label {cursor: pointer;display: block;width: 100%;margin-bottom: 0;padding: 0.3em;box-sizing: border-box;text-align: center;}#sk-container-id-9 label.sk-toggleable__label-arrow:before {content: \"▸\";float: left;margin-right: 0.25em;color: #696969;}#sk-container-id-9 label.sk-toggleable__label-arrow:hover:before {color: black;}#sk-container-id-9 div.sk-estimator:hover label.sk-toggleable__label-arrow:before {color: black;}#sk-container-id-9 div.sk-toggleable__content {max-height: 0;max-width: 0;overflow: hidden;text-align: left;background-color: #f0f8ff;}#sk-container-id-9 div.sk-toggleable__content pre {margin: 0.2em;color: black;border-radius: 0.25em;background-color: #f0f8ff;}#sk-container-id-9 input.sk-toggleable__control:checked~div.sk-toggleable__content {max-height: 200px;max-width: 100%;overflow: auto;}#sk-container-id-9 input.sk-toggleable__control:checked~label.sk-toggleable__label-arrow:before {content: \"▾\";}#sk-container-id-9 div.sk-estimator input.sk-toggleable__control:checked~label.sk-toggleable__label {background-color: #d4ebff;}#sk-container-id-9 div.sk-label input.sk-toggleable__control:checked~label.sk-toggleable__label {background-color: #d4ebff;}#sk-container-id-9 input.sk-hidden--visually {border: 0;clip: rect(1px 1px 1px 1px);clip: rect(1px, 1px, 1px, 1px);height: 1px;margin: -1px;overflow: hidden;padding: 0;position: absolute;width: 1px;}#sk-container-id-9 div.sk-estimator {font-family: monospace;background-color: #f0f8ff;border: 1px dotted black;border-radius: 0.25em;box-sizing: border-box;margin-bottom: 0.5em;}#sk-container-id-9 div.sk-estimator:hover {background-color: #d4ebff;}#sk-container-id-9 div.sk-parallel-item::after {content: \"\";width: 100%;border-bottom: 1px solid gray;flex-grow: 1;}#sk-container-id-9 div.sk-label:hover label.sk-toggleable__label {background-color: #d4ebff;}#sk-container-id-9 div.sk-serial::before {content: \"\";position: absolute;border-left: 1px solid gray;box-sizing: border-box;top: 0;bottom: 0;left: 50%;z-index: 0;}#sk-container-id-9 div.sk-serial {display: flex;flex-direction: column;align-items: center;background-color: white;padding-right: 0.2em;padding-left: 0.2em;position: relative;}#sk-container-id-9 div.sk-item {position: relative;z-index: 1;}#sk-container-id-9 div.sk-parallel {display: flex;align-items: stretch;justify-content: center;background-color: white;position: relative;}#sk-container-id-9 div.sk-item::before, #sk-container-id-9 div.sk-parallel-item::before {content: \"\";position: absolute;border-left: 1px solid gray;box-sizing: border-box;top: 0;bottom: 0;left: 50%;z-index: -1;}#sk-container-id-9 div.sk-parallel-item {display: flex;flex-direction: column;z-index: 1;position: relative;background-color: white;}#sk-container-id-9 div.sk-parallel-item:first-child::after {align-self: flex-end;width: 50%;}#sk-container-id-9 div.sk-parallel-item:last-child::after {align-self: flex-start;width: 50%;}#sk-container-id-9 div.sk-parallel-item:only-child::after {width: 0;}#sk-container-id-9 div.sk-dashed-wrapped {border: 1px dashed gray;margin: 0 0.4em 0.5em 0.4em;box-sizing: border-box;padding-bottom: 0.4em;background-color: white;}#sk-container-id-9 div.sk-label label {font-family: monospace;font-weight: bold;display: inline-block;line-height: 1.2em;}#sk-container-id-9 div.sk-label-container {text-align: center;}#sk-container-id-9 div.sk-container {/* jupyter's `normalize.less` sets `[hidden] { display: none; }` but bootstrap.min.css set `[hidden] { display: none !important; }` so we also need the `!important` here to be able to override the default hidden behavior on the sphinx rendered scikit-learn.org. See: https://github.com/scikit-learn/scikit-learn/issues/21755 */display: inline-block !important;position: relative;}#sk-container-id-9 div.sk-text-repr-fallback {display: none;}</style><div id=\"sk-container-id-9\" class=\"sk-top-container\"><div class=\"sk-text-repr-fallback\"><pre>GridSearchCV(cv=3, estimator=DecisionTreeClassifier(),\n             param_grid={&#x27;max_depth&#x27;: array([ 2,  3,  4,  5,  6,  7,  8,  9, 10, 11, 12, 13, 14, 15, 16, 17, 18,\n       19]),\n                         &#x27;min_samples_leaf&#x27;: array([ 1,  3,  5,  7,  9, 11, 13, 15, 17, 19]),\n                         &#x27;min_samples_split&#x27;: array([ 2,  4,  6,  8, 10, 12, 14, 16, 18])},\n             scoring=&#x27;recall&#x27;)</pre><b>In a Jupyter environment, please rerun this cell to show the HTML representation or trust the notebook. <br />On GitHub, the HTML representation is unable to render, please try loading this page with nbviewer.org.</b></div><div class=\"sk-container\" hidden><div class=\"sk-item sk-dashed-wrapped\"><div class=\"sk-label-container\"><div class=\"sk-label sk-toggleable\"><input class=\"sk-toggleable__control sk-hidden--visually\" id=\"sk-estimator-id-23\" type=\"checkbox\" ><label for=\"sk-estimator-id-23\" class=\"sk-toggleable__label sk-toggleable__label-arrow\">GridSearchCV</label><div class=\"sk-toggleable__content\"><pre>GridSearchCV(cv=3, estimator=DecisionTreeClassifier(),\n             param_grid={&#x27;max_depth&#x27;: array([ 2,  3,  4,  5,  6,  7,  8,  9, 10, 11, 12, 13, 14, 15, 16, 17, 18,\n       19]),\n                         &#x27;min_samples_leaf&#x27;: array([ 1,  3,  5,  7,  9, 11, 13, 15, 17, 19]),\n                         &#x27;min_samples_split&#x27;: array([ 2,  4,  6,  8, 10, 12, 14, 16, 18])},\n             scoring=&#x27;recall&#x27;)</pre></div></div></div><div class=\"sk-parallel\"><div class=\"sk-parallel-item\"><div class=\"sk-item\"><div class=\"sk-label-container\"><div class=\"sk-label sk-toggleable\"><input class=\"sk-toggleable__control sk-hidden--visually\" id=\"sk-estimator-id-24\" type=\"checkbox\" ><label for=\"sk-estimator-id-24\" class=\"sk-toggleable__label sk-toggleable__label-arrow\">estimator: DecisionTreeClassifier</label><div class=\"sk-toggleable__content\"><pre>DecisionTreeClassifier()</pre></div></div></div><div class=\"sk-serial\"><div class=\"sk-item\"><div class=\"sk-estimator sk-toggleable\"><input class=\"sk-toggleable__control sk-hidden--visually\" id=\"sk-estimator-id-25\" type=\"checkbox\" ><label for=\"sk-estimator-id-25\" class=\"sk-toggleable__label sk-toggleable__label-arrow\">DecisionTreeClassifier</label><div class=\"sk-toggleable__content\"><pre>DecisionTreeClassifier()</pre></div></div></div></div></div></div></div></div></div></div>"
     },
     "execution_count": 84,
     "metadata": {},
     "output_type": "execute_result"
    }
   ],
   "source": [
    "model.fit(X_test_1, y_test)"
   ],
   "metadata": {
    "collapsed": false,
    "ExecuteTime": {
     "end_time": "2023-12-09T18:03:20.788558Z",
     "start_time": "2023-12-09T18:01:34.435220200Z"
    }
   },
   "id": "e36f5c62568c15fb"
  },
  {
   "cell_type": "code",
   "execution_count": 85,
   "outputs": [
    {
     "data": {
      "text/plain": "(0.5791812220383649,\n {'max_depth': 11, 'min_samples_leaf': 11, 'min_samples_split': 6})"
     },
     "execution_count": 85,
     "metadata": {},
     "output_type": "execute_result"
    }
   ],
   "source": [
    "model.best_score_, model.best_params_"
   ],
   "metadata": {
    "collapsed": false,
    "ExecuteTime": {
     "end_time": "2023-12-09T18:06:38.438009600Z",
     "start_time": "2023-12-09T18:06:38.430439Z"
    }
   },
   "id": "274dcf961fb9274"
  },
  {
   "cell_type": "code",
   "execution_count": 87,
   "outputs": [
    {
     "data": {
      "text/plain": "0.5468277945619335"
     },
     "execution_count": 87,
     "metadata": {},
     "output_type": "execute_result"
    }
   ],
   "source": [
    "y_pred = model.predict(X_val_1)\n",
    "recall_score(y_val, y_pred)"
   ],
   "metadata": {
    "collapsed": false,
    "ExecuteTime": {
     "end_time": "2023-12-09T18:08:27.572992Z",
     "start_time": "2023-12-09T18:08:27.530982100Z"
    }
   },
   "id": "49ab930d48d90f87"
  },
  {
   "cell_type": "code",
   "execution_count": 93,
   "outputs": [
    {
     "data": {
      "text/plain": "0.5882352941176471"
     },
     "execution_count": 93,
     "metadata": {},
     "output_type": "execute_result"
    }
   ],
   "source": [
    "pred_final_DT = p1.predict(X_test)\n",
    "recall_score(y_test, pred_final_DT)"
   ],
   "metadata": {
    "collapsed": false,
    "ExecuteTime": {
     "end_time": "2023-12-09T19:49:44.532855900Z",
     "start_time": "2023-12-09T19:49:44.460807200Z"
    }
   },
   "id": "ca41c0078087e899"
  },
  {
   "cell_type": "code",
   "execution_count": 94,
   "outputs": [
    {
     "data": {
      "text/plain": "0.5882352941176471"
     },
     "execution_count": 94,
     "metadata": {},
     "output_type": "execute_result"
    }
   ],
   "source": [
    "pred_final_GB = p2.predict(X_test)\n",
    "recall_score(y_test, pred_final_GB)"
   ],
   "metadata": {
    "collapsed": false,
    "ExecuteTime": {
     "end_time": "2023-12-09T19:50:16.658161600Z",
     "start_time": "2023-12-09T19:50:16.593006100Z"
    }
   },
   "id": "e05594df466687ba"
  },
  {
   "cell_type": "code",
   "execution_count": 88,
   "outputs": [
    {
     "data": {
      "text/plain": "0.8978388998035364"
     },
     "execution_count": 88,
     "metadata": {},
     "output_type": "execute_result"
    }
   ],
   "source": [
    "preds = p2.predict(X_val)\n",
    "accuracy_score(y_val, preds)"
   ],
   "metadata": {
    "collapsed": false,
    "ExecuteTime": {
     "end_time": "2023-12-09T18:22:01.816119200Z",
     "start_time": "2023-12-09T18:22:01.784898Z"
    }
   },
   "id": "321e62ed8e1951e7"
  },
  {
   "cell_type": "code",
   "execution_count": 95,
   "outputs": [
    {
     "data": {
      "text/plain": "0.8931466470154753"
     },
     "execution_count": 95,
     "metadata": {},
     "output_type": "execute_result"
    }
   ],
   "source": [
    "y_pred_final = modelCB.predict(X_test)\n",
    "accuracy_score(y_test, y_pred_final)"
   ],
   "metadata": {
    "collapsed": false,
    "ExecuteTime": {
     "end_time": "2023-12-09T20:16:33.792890Z",
     "start_time": "2023-12-09T20:16:33.754491300Z"
    }
   },
   "id": "d3942070ffedf9cc"
  },
  {
   "cell_type": "markdown",
   "source": [
    "Mod Default Grid\n",
    "CB  0.595   -\n",
    "DT  0.588   0.565\n",
    "GB  0.588   -"
   ],
   "metadata": {
    "collapsed": false
   },
   "id": "273c4360487379cb"
  },
  {
   "cell_type": "markdown",
   "source": [
    "# 3. Explainer Dashboard"
   ],
   "metadata": {
    "collapsed": false
   },
   "id": "650630053424aa0d"
  },
  {
   "cell_type": "code",
   "execution_count": 1,
   "outputs": [
    {
     "name": "stderr",
     "output_type": "stream",
     "text": [
      "  WARNING: Failed to remove contents in a temporary directory 'C:\\Users\\maxle\\AppData\\Local\\pypoetry\\Cache\\virtualenvs\\eda-and-devs-Znx4-9sc-py3.11\\Lib\\site-packages\\~-mpy'.\n",
      "  You can safely remove it manually.\n"
     ]
    }
   ],
   "source": [
    "!pip install explainerdashboard -q"
   ],
   "metadata": {
    "collapsed": false,
    "ExecuteTime": {
     "end_time": "2023-12-11T10:18:28.020689500Z",
     "start_time": "2023-12-11T10:17:54.932822800Z"
    }
   },
   "id": "522404a6e0ed09fa"
  },
  {
   "cell_type": "code",
   "execution_count": 11,
   "outputs": [],
   "source": [
    "from explainerdashboard import ClassifierExplainer, ExplainerDashboard"
   ],
   "metadata": {
    "collapsed": false,
    "ExecuteTime": {
     "end_time": "2023-12-11T10:28:58.515502100Z",
     "start_time": "2023-12-11T10:28:53.425917300Z"
    }
   },
   "id": "8f18fc087f23ff00"
  },
  {
   "cell_type": "code",
   "execution_count": 12,
   "outputs": [],
   "source": [
    "from IPython.core.interactiveshell import InteractiveShell\n",
    "InteractiveShell.ast_node_interactivity = \"all\""
   ],
   "metadata": {
    "collapsed": false,
    "ExecuteTime": {
     "end_time": "2023-12-11T10:29:03.808966900Z",
     "start_time": "2023-12-11T10:29:03.795048300Z"
    }
   },
   "id": "57194c93507dfafb"
  },
  {
   "cell_type": "code",
   "execution_count": 19,
   "outputs": [
    {
     "name": "stdout",
     "output_type": "stream",
     "text": [
      "Warning: Detected the following categorical columns: ['Month', 'VisitorType']. Unfortunately for now shap interaction values do not work withcategorical columns.\n",
      "Generating self.shap_explainer = shap.TreeExplainer(model)\n"
     ]
    }
   ],
   "source": [
    "explainer = ClassifierExplainer(modelCB, X_test, y_test, \n",
    "                                    model_output='logodds', labels=['Not Buy', 'Buy'])\n",
    "                                    # cats=['Month', 'OperatingSystems', 'Browser', 'Region', 'TrafficType', 'VisitorType', 'Weekend'],\n",
    "                                    # idxs=test_names, #names of passengers \n",
    "                                    "
   ],
   "metadata": {
    "collapsed": false,
    "ExecuteTime": {
     "end_time": "2023-12-11T14:46:28.046027100Z",
     "start_time": "2023-12-11T14:46:27.847540300Z"
    }
   },
   "id": "8aaed378f5ccd94c"
  },
  {
   "cell_type": "code",
   "execution_count": 20,
   "outputs": [
    {
     "name": "stdout",
     "output_type": "stream",
     "text": [
      "Building ExplainerDashboard..\n",
      "WARNING: the number of idxs (=2714) > max_idxs_in_dropdown(=1000). However with your installed version of dash(2.14.2) dropdown search may not work smoothly. You can downgrade to `pip install dash==2.6.2` which should work better for now...\n",
      "For this type of model and model_output interactions don't work, so setting shap_interaction=False...\n",
      "The explainer object has no decision_trees property. so setting decision_trees=False...\n",
      "Generating layout...\n",
      "Calculating shap values...\n"
     ]
    },
    {
     "name": "stderr",
     "output_type": "stream",
     "text": [
      "C:\\Users\\maxle\\AppData\\Local\\pypoetry\\Cache\\virtualenvs\\eda-and-devs-Znx4-9sc-py3.11\\Lib\\site-packages\\dash\\dash.py:538: UserWarning:\n",
      "\n",
      "JupyterDash is deprecated, use Dash instead.\n",
      "See https://dash.plotly.com/dash-in-jupyter for more details.\n",
      "\n"
     ]
    },
    {
     "name": "stdout",
     "output_type": "stream",
     "text": [
      "Calculating prediction probabilities...\n",
      "Calculating metrics...\n",
      "Calculating confusion matrices...\n",
      "Calculating classification_dfs...\n",
      "Calculating roc auc curves...\n",
      "Calculating pr auc curves...\n",
      "Calculating liftcurve_dfs...\n",
      "Calculating dependencies...\n",
      "Calculating permutation importances (if slow, try setting n_jobs parameter)...\n",
      "Calculating pred_percentiles...\n",
      "Calculating predictions...\n",
      "Reminder: you can store the explainer (including calculated dependencies) with explainer.dump('explainer.joblib') and reload with e.g. ClassifierExplainer.from_file('explainer.joblib')\n",
      "Registering callbacks...\n",
      "Starting ExplainerDashboard on http://192.168.1.43:8052\n",
      "You can terminate the dashboard with ExplainerDashboard.terminate(8052)\n"
     ]
    },
    {
     "ename": "TypeError",
     "evalue": "'NoneType' object cannot be interpreted as an integer",
     "output_type": "error",
     "traceback": [
      "\u001B[1;31m---------------------------------------------------------------------------\u001B[0m",
      "\u001B[1;31mTypeError\u001B[0m                                 Traceback (most recent call last)",
      "Cell \u001B[1;32mIn[20], line 1\u001B[0m\n\u001B[1;32m----> 1\u001B[0m \u001B[43mExplainerDashboard\u001B[49m\u001B[43m(\u001B[49m\u001B[43mexplainer\u001B[49m\u001B[43m,\u001B[49m\u001B[43m \u001B[49m\u001B[43mmode\u001B[49m\u001B[38;5;241;43m=\u001B[39;49m\u001B[38;5;124;43m'\u001B[39;49m\u001B[38;5;124;43mexternal\u001B[39;49m\u001B[38;5;124;43m'\u001B[39;49m\u001B[43m)\u001B[49m\u001B[38;5;241;43m.\u001B[39;49m\u001B[43mrun\u001B[49m\u001B[43m(\u001B[49m\u001B[38;5;241;43m8052\u001B[39;49m\u001B[43m)\u001B[49m\n",
      "File \u001B[1;32m~\\AppData\\Local\\pypoetry\\Cache\\virtualenvs\\eda-and-devs-Znx4-9sc-py3.11\\Lib\\site-packages\\explainerdashboard\\dashboards.py:1299\u001B[0m, in \u001B[0;36mExplainerDashboard.run\u001B[1;34m(self, port, host, use_waitress, mode, **kwargs)\u001B[0m\n\u001B[0;32m   1292\u001B[0m     \u001B[38;5;28;01mif\u001B[39;00m \u001B[38;5;129;01mnot\u001B[39;00m \u001B[38;5;28mself\u001B[39m\u001B[38;5;241m.\u001B[39mis_colab \u001B[38;5;129;01mor\u001B[39;00m \u001B[38;5;28mself\u001B[39m\u001B[38;5;241m.\u001B[39mmode \u001B[38;5;241m==\u001B[39m \u001B[38;5;124m\"\u001B[39m\u001B[38;5;124mexternal\u001B[39m\u001B[38;5;124m\"\u001B[39m:\n\u001B[0;32m   1293\u001B[0m         \u001B[38;5;28mprint\u001B[39m(\n\u001B[0;32m   1294\u001B[0m             \u001B[38;5;124mf\u001B[39m\u001B[38;5;124m\"\u001B[39m\u001B[38;5;124mStarting ExplainerDashboard on http://\u001B[39m\u001B[38;5;132;01m{\u001B[39;00mget_local_ip_adress()\u001B[38;5;132;01m}\u001B[39;00m\u001B[38;5;124m:\u001B[39m\u001B[38;5;132;01m{\u001B[39;00mport\u001B[38;5;132;01m}\u001B[39;00m\u001B[38;5;130;01m\\n\u001B[39;00m\u001B[38;5;124m\"\u001B[39m\n\u001B[0;32m   1295\u001B[0m             \u001B[38;5;124m\"\u001B[39m\u001B[38;5;124mYou can terminate the dashboard with \u001B[39m\u001B[38;5;124m\"\u001B[39m\n\u001B[0;32m   1296\u001B[0m             \u001B[38;5;124mf\u001B[39m\u001B[38;5;124m\"\u001B[39m\u001B[38;5;124mExplainerDashboard.terminate(\u001B[39m\u001B[38;5;132;01m{\u001B[39;00mport\u001B[38;5;132;01m}\u001B[39;00m\u001B[38;5;124m)\u001B[39m\u001B[38;5;124m\"\u001B[39m,\n\u001B[0;32m   1297\u001B[0m             flush\u001B[38;5;241m=\u001B[39m\u001B[38;5;28;01mTrue\u001B[39;00m,\n\u001B[0;32m   1298\u001B[0m         )\n\u001B[1;32m-> 1299\u001B[0m     \u001B[43mapp\u001B[49m\u001B[38;5;241;43m.\u001B[39;49m\u001B[43mrun_server\u001B[49m\u001B[43m(\u001B[49m\u001B[43mport\u001B[49m\u001B[38;5;241;43m=\u001B[39;49m\u001B[43mport\u001B[49m\u001B[43m,\u001B[49m\u001B[43m \u001B[49m\u001B[43mmode\u001B[49m\u001B[38;5;241;43m=\u001B[39;49m\u001B[43mmode\u001B[49m\u001B[43m,\u001B[49m\u001B[43m \u001B[49m\u001B[38;5;241;43m*\u001B[39;49m\u001B[38;5;241;43m*\u001B[39;49m\u001B[43mkwargs\u001B[49m\u001B[43m)\u001B[49m\n\u001B[0;32m   1300\u001B[0m \u001B[38;5;28;01melif\u001B[39;00m mode \u001B[38;5;129;01min\u001B[39;00m [\u001B[38;5;124m\"\u001B[39m\u001B[38;5;124minline\u001B[39m\u001B[38;5;124m\"\u001B[39m, \u001B[38;5;124m\"\u001B[39m\u001B[38;5;124mjupyterlab\u001B[39m\u001B[38;5;124m\"\u001B[39m]:\n\u001B[0;32m   1301\u001B[0m     \u001B[38;5;28mprint\u001B[39m(\n\u001B[0;32m   1302\u001B[0m         \u001B[38;5;124mf\u001B[39m\u001B[38;5;124m\"\u001B[39m\u001B[38;5;124mStarting ExplainerDashboard inline (terminate it with \u001B[39m\u001B[38;5;124m\"\u001B[39m\n\u001B[0;32m   1303\u001B[0m         \u001B[38;5;124mf\u001B[39m\u001B[38;5;124m\"\u001B[39m\u001B[38;5;124mExplainerDashboard.terminate(\u001B[39m\u001B[38;5;132;01m{\u001B[39;00mport\u001B[38;5;132;01m}\u001B[39;00m\u001B[38;5;124m))\u001B[39m\u001B[38;5;124m\"\u001B[39m,\n\u001B[0;32m   1304\u001B[0m         flush\u001B[38;5;241m=\u001B[39m\u001B[38;5;28;01mTrue\u001B[39;00m,\n\u001B[0;32m   1305\u001B[0m     )\n",
      "File \u001B[1;32m~\\AppData\\Local\\pypoetry\\Cache\\virtualenvs\\eda-and-devs-Znx4-9sc-py3.11\\Lib\\site-packages\\jupyter_dash\\jupyter_app.py:222\u001B[0m, in \u001B[0;36mJupyterDash.run_server\u001B[1;34m(self, mode, width, height, inline_exceptions, **kwargs)\u001B[0m\n\u001B[0;32m    220\u001B[0m old_server \u001B[38;5;241m=\u001B[39m \u001B[38;5;28mself\u001B[39m\u001B[38;5;241m.\u001B[39m_server_threads\u001B[38;5;241m.\u001B[39mget((host, port))\n\u001B[0;32m    221\u001B[0m \u001B[38;5;28;01mif\u001B[39;00m old_server:\n\u001B[1;32m--> 222\u001B[0m     \u001B[43mold_server\u001B[49m\u001B[38;5;241;43m.\u001B[39;49m\u001B[43mkill\u001B[49m\u001B[43m(\u001B[49m\u001B[43m)\u001B[49m\n\u001B[0;32m    223\u001B[0m     old_server\u001B[38;5;241m.\u001B[39mjoin()\n\u001B[0;32m    224\u001B[0m     \u001B[38;5;28;01mdel\u001B[39;00m \u001B[38;5;28mself\u001B[39m\u001B[38;5;241m.\u001B[39m_server_threads[(host, port)]\n",
      "File \u001B[1;32m~\\AppData\\Local\\pypoetry\\Cache\\virtualenvs\\eda-and-devs-Znx4-9sc-py3.11\\Lib\\site-packages\\jupyter_dash\\_stoppable_thread.py:16\u001B[0m, in \u001B[0;36mStoppableThread.kill\u001B[1;34m(self)\u001B[0m\n\u001B[0;32m     13\u001B[0m \u001B[38;5;28;01mdef\u001B[39;00m \u001B[38;5;21mkill\u001B[39m(\u001B[38;5;28mself\u001B[39m):\n\u001B[0;32m     14\u001B[0m     thread_id \u001B[38;5;241m=\u001B[39m \u001B[38;5;28mself\u001B[39m\u001B[38;5;241m.\u001B[39mget_id()\n\u001B[0;32m     15\u001B[0m     res \u001B[38;5;241m=\u001B[39m ctypes\u001B[38;5;241m.\u001B[39mpythonapi\u001B[38;5;241m.\u001B[39mPyThreadState_SetAsyncExc(\n\u001B[1;32m---> 16\u001B[0m         \u001B[43mctypes\u001B[49m\u001B[38;5;241;43m.\u001B[39;49m\u001B[43mc_long\u001B[49m\u001B[43m(\u001B[49m\u001B[43mthread_id\u001B[49m\u001B[43m)\u001B[49m, ctypes\u001B[38;5;241m.\u001B[39mpy_object(\u001B[38;5;167;01mSystemExit\u001B[39;00m)\n\u001B[0;32m     17\u001B[0m     )\n\u001B[0;32m     18\u001B[0m     \u001B[38;5;28;01mif\u001B[39;00m res \u001B[38;5;241m==\u001B[39m \u001B[38;5;241m0\u001B[39m:\n\u001B[0;32m     19\u001B[0m         \u001B[38;5;28;01mraise\u001B[39;00m \u001B[38;5;167;01mValueError\u001B[39;00m(\u001B[38;5;124mf\u001B[39m\u001B[38;5;124m\"\u001B[39m\u001B[38;5;124mInvalid thread id: \u001B[39m\u001B[38;5;132;01m{\u001B[39;00mthread_id\u001B[38;5;132;01m}\u001B[39;00m\u001B[38;5;124m\"\u001B[39m)\n",
      "\u001B[1;31mTypeError\u001B[0m: 'NoneType' object cannot be interpreted as an integer"
     ]
    }
   ],
   "source": [
    "ExplainerDashboard(explainer, mode='external').run(8052)"
   ],
   "metadata": {
    "collapsed": false,
    "ExecuteTime": {
     "end_time": "2023-12-11T14:46:40.944222300Z",
     "start_time": "2023-12-11T14:46:35.949173400Z"
    }
   },
   "id": "6b28f8523d8793aa"
  },
  {
   "cell_type": "markdown",
   "source": [],
   "metadata": {
    "collapsed": false
   },
   "id": "10edd986b8bcf7aa"
  },
  {
   "cell_type": "markdown",
   "source": [],
   "metadata": {
    "collapsed": false
   },
   "id": "82dd46715664d798"
  },
  {
   "cell_type": "code",
   "execution_count": 22,
   "outputs": [],
   "source": [
    "explainer.to_yaml(\"dashboard.yaml\", explainerfile=\"explainer.joblib\")"
   ],
   "metadata": {
    "collapsed": false,
    "ExecuteTime": {
     "end_time": "2023-12-11T16:52:55.324841600Z",
     "start_time": "2023-12-11T16:52:55.293912200Z"
    }
   },
   "id": "f072ff693c9c6fc2"
  }
 ],
 "metadata": {
  "kernelspec": {
   "display_name": "Python 3",
   "language": "python",
   "name": "python3"
  },
  "language_info": {
   "codemirror_mode": {
    "name": "ipython",
    "version": 2
   },
   "file_extension": ".py",
   "mimetype": "text/x-python",
   "name": "python",
   "nbconvert_exporter": "python",
   "pygments_lexer": "ipython2",
   "version": "2.7.6"
  }
 },
 "nbformat": 4,
 "nbformat_minor": 5
}
